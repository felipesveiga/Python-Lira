{
 "cells": [
  {
   "cell_type": "code",
   "execution_count": 4,
   "id": "2803ff2b-af66-4b8d-a750-a6e20f90ba09",
   "metadata": {},
   "outputs": [
    {
     "name": "stdout",
     "output_type": "stream",
     "text": [
      "Collecting unidecode\n",
      "  Downloading Unidecode-1.2.0-py2.py3-none-any.whl (241 kB)\n",
      "\u001b[K     |████████████████████████████████| 241 kB 5.2 MB/s eta 0:00:01\n",
      "\u001b[?25hInstalling collected packages: unidecode\n",
      "Successfully installed unidecode-1.2.0\n",
      "Note: you may need to restart the kernel to use updated packages.\n"
     ]
    }
   ],
   "source": [
    "pip install unidecode"
   ]
  },
  {
   "cell_type": "code",
   "execution_count": 19,
   "id": "d85cb4b5-c474-4776-b222-548d47e157c7",
   "metadata": {},
   "outputs": [
    {
     "data": {
      "text/plain": [
       "['edpapao-aomf12', 'nfppamo12', 'nfiewpnpifn101l-', 'amepla', 'password']"
      ]
     },
     "execution_count": 19,
     "metadata": {},
     "output_type": "execute_result"
    }
   ],
   "source": [
    "def corrige(text):\n",
    "    text=text.casefold().strip().replace(' ','')\n",
    "    return text\n",
    "    \n",
    "senhas=['edpaPAo-  aomf12','nfppAMO12','nfiewpnpifn101l-','amepla','password']\n",
    "correcao=list(map(corrige,senhas)) \n",
    "correcao\n"
   ]
  },
  {
   "cell_type": "code",
   "execution_count": 29,
   "id": "2c468f20-69f7-47c5-9eca-fb6fbae96d44",
   "metadata": {},
   "outputs": [
    {
     "data": {
      "text/plain": [
       "['Amanda', 'andre', 'felipe', 'Muriel']"
      ]
     },
     "execution_count": 29,
     "metadata": {},
     "output_type": "execute_result"
    }
   ],
   "source": [
    "l=['Amanda','felipe','andre','Muriel']\n",
    "l.sort(key=str.casefold) #Ordenando elementos de uma lista, independentemente de começarem com maiúscula ou minúscula\n",
    "l"
   ]
  },
  {
   "cell_type": "code",
   "execution_count": 3,
   "id": "e43e88bc-d613-4296-bbac-3f4e2d72605f",
   "metadata": {},
   "outputs": [
    {
     "ename": "SyntaxError",
     "evalue": "positional argument follows keyword argument (<ipython-input-3-196d28a5887b>, line 6)",
     "output_type": "error",
     "traceback": [
      "\u001b[0;36m  File \u001b[0;32m\"<ipython-input-3-196d28a5887b>\"\u001b[0;36m, line \u001b[0;32m6\u001b[0m\n\u001b[0;31m    dict(sorted(produtos.items(), key=itemgetter(1), unidecode.unidecode, reverse=True))\u001b[0m\n\u001b[0m                                                     ^\u001b[0m\n\u001b[0;31mSyntaxError\u001b[0m\u001b[0;31m:\u001b[0m positional argument follows keyword argument\n"
     ]
    }
   ],
   "source": [
    "import unidecode\n",
    "f= lambda x: x[1] #Esta função faz sorted reconhecer os values do dicionário como parâmetro para ordenação\n",
    "from operator import itemgetter #Uma outra maneira seria utilizar itemgetter\n",
    "\n",
    "produtos={'vinho':50,'abóbora':20,'peito de frango':100,'feijão carioca':75}\n",
    "dict(sorted(produtos.items(), key=itemgetter(1), unidecode.unidecode, reverse=True))\n",
    "dict(sorted(produtos.items(), key=f, reverse=True))\n",
    "\n",
    "#produtos_ordenados={produtos[produto]:produto for produto in produtos}\n",
    "#sorted(produtos_ordenados.items())\n"
   ]
  },
  {
   "cell_type": "code",
   "execution_count": 79,
   "id": "2699aa9a-f34f-489f-9b73-de257b41e847",
   "metadata": {},
   "outputs": [
    {
     "name": "stdout",
     "output_type": "stream",
     "text": [
      "{'Nokia': 200, 'Zenfone': 500, 'Samsung A-10': 900, 'Motorola Z10': 1150, 'IPhone 9': 1300}\n"
     ]
    },
    {
     "data": {
      "text/html": [
       "<div>\n",
       "<style scoped>\n",
       "    .dataframe tbody tr th:only-of-type {\n",
       "        vertical-align: middle;\n",
       "    }\n",
       "\n",
       "    .dataframe tbody tr th {\n",
       "        vertical-align: top;\n",
       "    }\n",
       "\n",
       "    .dataframe thead th {\n",
       "        text-align: right;\n",
       "    }\n",
       "</style>\n",
       "<table border=\"1\" class=\"dataframe\">\n",
       "  <thead>\n",
       "    <tr style=\"text-align: right;\">\n",
       "      <th></th>\n",
       "      <th>Preços</th>\n",
       "    </tr>\n",
       "  </thead>\n",
       "  <tbody>\n",
       "    <tr>\n",
       "      <th>Nokia</th>\n",
       "      <td>200</td>\n",
       "    </tr>\n",
       "    <tr>\n",
       "      <th>Zenfone</th>\n",
       "      <td>500</td>\n",
       "    </tr>\n",
       "    <tr>\n",
       "      <th>Samsung A-10</th>\n",
       "      <td>900</td>\n",
       "    </tr>\n",
       "    <tr>\n",
       "      <th>Motorola Z10</th>\n",
       "      <td>1150</td>\n",
       "    </tr>\n",
       "    <tr>\n",
       "      <th>IPhone 9</th>\n",
       "      <td>1300</td>\n",
       "    </tr>\n",
       "  </tbody>\n",
       "</table>\n",
       "</div>"
      ],
      "text/plain": [
       "              Preços\n",
       "Nokia            200\n",
       "Zenfone          500\n",
       "Samsung A-10     900\n",
       "Motorola Z10    1150\n",
       "IPhone 9        1300"
      ]
     },
     "execution_count": 79,
     "metadata": {},
     "output_type": "execute_result"
    }
   ],
   "source": [
    "# Uma alternativa para a elaboração de DataFrames ordenados\n",
    "import operator \n",
    "import numpy as np\n",
    "from operator import itemgetter\n",
    "import pandas as pd\n",
    "from pandas import DataFrame, Series\n",
    "d={'Zenfone':500,'IPhone 9':1300,'Samsung A-10':900,'Motorola Z10':1150,'Nokia':200}\n",
    "d=dict(sorted(d.items(),key=itemgetter(1)))\n",
    "print(d)\n",
    "precos=pd.DataFrame({'Preços':d}, index=d.keys())\n",
    "precos "
   ]
  },
  {
   "cell_type": "code",
   "execution_count": 17,
   "id": "1d9326bf-4116-4088-9d81-2f45b75c4c95",
   "metadata": {},
   "outputs": [
    {
     "data": {
      "text/plain": [
       "[3900.0, 1560.0, 2470.0, 3250.0]"
      ]
     },
     "execution_count": 17,
     "metadata": {},
     "output_type": "execute_result"
    }
   ],
   "source": [
    "loja={'iphone':3000,'zenfone':1200,'sony tv':1900,'samsung galaxy': 2500}\n",
    "f= lambda x: 1.3*x\n",
    "lista=[f(loja[produto]) for produto, loja[produto] in loja.items()]\n",
    "\n",
    "lista=list(map(f,loja.values()))# É de se notar que o map pode, em muitas ocasiões, substituir o list comprehension\n",
    "lista\n"
   ]
  },
  {
   "cell_type": "code",
   "execution_count": 29,
   "id": "4d13883e-d045-4397-993a-f5b4d7769363",
   "metadata": {},
   "outputs": [
    {
     "data": {
      "text/plain": [
       "[('iphone', 3000), ('samsung galaxy', 2500)]"
      ]
     },
     "execution_count": 29,
     "metadata": {},
     "output_type": "execute_result"
    }
   ],
   "source": [
    "loja={'iphone':3000,'zenfone':1200,'sony tv':1900,'samsung galaxy': 2500}\n",
    "g= lambda x: x[1]>2000\n",
    "list(filter(g, loja.items())) # Filter aplica uma função de filtragem a um iterable \n",
    "                            #(também substittui o list comprehension)\n",
    "# Modo mais conciso\n",
    "list(filter(lambda x: x[1]>2000,loja.items())) #Aqui, não se atribui lambda a uma variável"
   ]
  },
  {
   "cell_type": "code",
   "execution_count": 34,
   "id": "d56dc641-b7ed-4980-890f-487596517067",
   "metadata": {},
   "outputs": [
    {
     "data": {
      "text/plain": [
       "110.00000000000001"
      ]
     },
     "execution_count": 34,
     "metadata": {},
     "output_type": "execute_result"
    }
   ],
   "source": [
    "def valor(imposto):\n",
    "    return lambda preco: preco*(1+imposto)\n",
    "preco_servico=valor(0.1) #Estamos criando uma função com base em uma outra criada anteriormente\n",
    "preco_servico(100) # O argumento entre parênteses será o argumento da funcao lambda"
   ]
  },
  {
   "cell_type": "code",
   "execution_count": 4,
   "id": "93c12454-c260-4479-9353-da0b2ba487f8",
   "metadata": {},
   "outputs": [
    {
     "data": {
      "text/plain": [
       "144000.0"
      ]
     },
     "execution_count": 4,
     "metadata": {},
     "output_type": "execute_result"
    }
   ],
   "source": [
    "def impostos(imposto):\n",
    "    return lambda aluguel: aluguel*(imposto+1) \n",
    "preco_condominio=impostos(0.1)\n",
    "preco_restaurante=impostos(0.08)\n",
    "preco_hotel=impostos(0.20)\n",
    "#Isso faz com que economizemos espaços que teríamos que usar if's; o código acaba ficando mais conciso\n",
    "#preco_condominio(1200)\n",
    "preco_hotel(120000)"
   ]
  },
  {
   "cell_type": "code",
   "execution_count": 40,
   "id": "bc11eade-b6e2-47cd-8d37-2e5f64f1ebd7",
   "metadata": {},
   "outputs": [
    {
     "name": "stdout",
     "output_type": "stream",
     "text": [
      "['André', 'Fraçois', 'François', 'Gerald', 'Nicole', 'andré']\n"
     ]
    }
   ],
   "source": [
    "l=['André','Gerald','Nicole','François','Fraçois','andré']\n",
    "a=[unidecode.unidecode(word) for word in l]\n",
    "l=sorted(sorted(l, key=str.casefold), key=unidecode.unidecode) #, key=unidecode.unidecode)\n",
    "print(l)\n",
    "\n",
    "#l=l.sort(key=unidecode.unidecode)  #.sort(key=str.casefold)"
   ]
  },
  {
   "cell_type": "code",
   "execution_count": null,
   "id": "abe9e894-47cd-4f77-81d9-aff68472634f",
   "metadata": {},
   "outputs": [],
   "source": []
  }
 ],
 "metadata": {
  "kernelspec": {
   "display_name": "Python 3",
   "language": "python",
   "name": "python3"
  },
  "language_info": {
   "codemirror_mode": {
    "name": "ipython",
    "version": 3
   },
   "file_extension": ".py",
   "mimetype": "text/x-python",
   "name": "python",
   "nbconvert_exporter": "python",
   "pygments_lexer": "ipython3",
   "version": "3.8.8"
  }
 },
 "nbformat": 4,
 "nbformat_minor": 5
}
