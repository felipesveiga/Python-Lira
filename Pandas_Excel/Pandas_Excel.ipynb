{
 "cells": [
  {
   "cell_type": "code",
   "execution_count": 1,
   "id": "786e7d8d-e80e-4353-a8e4-ce83117dc0f5",
   "metadata": {},
   "outputs": [],
   "source": [
    "%matplotlib inline"
   ]
  },
  {
   "cell_type": "code",
   "execution_count": 2,
   "id": "ff42d273-77f6-4f8c-9f28-f07c1420eb2a",
   "metadata": {},
   "outputs": [],
   "source": [
    "import pandas as pd\n",
    "from pandas import Series, DataFrame\n",
    "import matplotlib.pyplot as plt"
   ]
  },
  {
   "cell_type": "code",
   "execution_count": 3,
   "id": "67735402-4607-42b9-9b46-942d1aa25b74",
   "metadata": {},
   "outputs": [
    {
     "data": {
      "text/plain": [
       "[449100.0, 109870.0, 980123.0, 451020.0, 910321.0, 371943.0, nan]"
      ]
     },
     "execution_count": 3,
     "metadata": {},
     "output_type": "execute_result"
    }
   ],
   "source": [
    "balada=pd.read_csv('balada.csv', skipinitialspace=True, index_col=0)\n",
    "balada #Entre colchetes, o programa interpreta que uma COLUNA deve ser lida! \n",
    "            #Portanto, colocar o nome de uma linha não irá funcionar.\n",
    "    \n",
    "list(balada['RG'])"
   ]
  },
  {
   "cell_type": "code",
   "execution_count": 11,
   "id": "a16c4646-3778-4438-aa8f-0e9a2c849ebd",
   "metadata": {},
   "outputs": [
    {
     "data": {
      "text/html": [
       "<div>\n",
       "<style scoped>\n",
       "    .dataframe tbody tr th:only-of-type {\n",
       "        vertical-align: middle;\n",
       "    }\n",
       "\n",
       "    .dataframe tbody tr th {\n",
       "        vertical-align: top;\n",
       "    }\n",
       "\n",
       "    .dataframe thead th {\n",
       "        text-align: right;\n",
       "    }\n",
       "</style>\n",
       "<table border=\"1\" class=\"dataframe\">\n",
       "  <thead>\n",
       "    <tr style=\"text-align: right;\">\n",
       "      <th></th>\n",
       "      <th>RG</th>\n",
       "      <th>Tipo Ingresso</th>\n",
       "    </tr>\n",
       "    <tr>\n",
       "      <th>Nome</th>\n",
       "      <th></th>\n",
       "      <th></th>\n",
       "    </tr>\n",
       "  </thead>\n",
       "  <tbody>\n",
       "    <tr>\n",
       "      <th>Felipe Ventura</th>\n",
       "      <td>449100.0</td>\n",
       "      <td>Pista</td>\n",
       "    </tr>\n",
       "    <tr>\n",
       "      <th>Aline Moreira</th>\n",
       "      <td>109870.0</td>\n",
       "      <td>VIP</td>\n",
       "    </tr>\n",
       "    <tr>\n",
       "      <th>Lucas Prado</th>\n",
       "      <td>980123.0</td>\n",
       "      <td>VIP</td>\n",
       "    </tr>\n",
       "    <tr>\n",
       "      <th>Gerson dos Santos</th>\n",
       "      <td>451020.0</td>\n",
       "      <td>VIP</td>\n",
       "    </tr>\n",
       "    <tr>\n",
       "      <th>Lucas Pereira</th>\n",
       "      <td>910321.0</td>\n",
       "      <td>Pista</td>\n",
       "    </tr>\n",
       "    <tr>\n",
       "      <th>Olivio Kássio</th>\n",
       "      <td>371943.0</td>\n",
       "      <td>Pista</td>\n",
       "    </tr>\n",
       "    <tr>\n",
       "      <th>Júlia Simão</th>\n",
       "      <td>NaN</td>\n",
       "      <td>Pista</td>\n",
       "    </tr>\n",
       "  </tbody>\n",
       "</table>\n",
       "</div>"
      ],
      "text/plain": [
       "                         RG Tipo Ingresso\n",
       "Nome                                     \n",
       "Felipe Ventura     449100.0         Pista\n",
       "Aline Moreira      109870.0           VIP\n",
       "Lucas Prado        980123.0           VIP\n",
       "Gerson dos Santos  451020.0           VIP\n",
       "Lucas Pereira      910321.0         Pista\n",
       "Olivio Kássio      371943.0         Pista\n",
       "Júlia Simão             NaN         Pista"
      ]
     },
     "execution_count": 11,
     "metadata": {},
     "output_type": "execute_result"
    }
   ],
   "source": [
    "dados_requeridos=['RG','Tipo Ingresso']\n",
    "balada[dados_requeridos] #Maneira mais concisa de se selecionar certas colunas do DF"
   ]
  },
  {
   "cell_type": "code",
   "execution_count": 12,
   "id": "e09f52b6-820b-4df0-b040-041208ec5322",
   "metadata": {},
   "outputs": [
    {
     "name": "stdout",
     "output_type": "stream",
     "text": [
      "<class 'pandas.core.frame.DataFrame'>\n",
      "Index: 7 entries, Felipe Ventura to Júlia Simão\n",
      "Data columns (total 6 columns):\n",
      " #   Column               Non-Null Count  Dtype  \n",
      "---  ------               --------------  -----  \n",
      " 0   Sexo                 7 non-null      object \n",
      " 1   RG                   6 non-null      float64\n",
      " 2   Tipo Ingresso        7 non-null      object \n",
      " 3   Fornecedor Ingresso  7 non-null      object \n",
      " 4   Data de Aquisição    7 non-null      object \n",
      " 5   Preço                7 non-null      float64\n",
      "dtypes: float64(2), object(4)\n",
      "memory usage: 392.0+ bytes\n"
     ]
    }
   ],
   "source": [
    "balada.info() #Método útil para se ter uma ideia geral sobre as informações do DF"
   ]
  },
  {
   "cell_type": "code",
   "execution_count": 13,
   "id": "55052243-c3cb-4685-a44e-deb4829f7953",
   "metadata": {},
   "outputs": [],
   "source": [
    "balada=pd.read_csv(r'balada.csv', skipinitialspace=True, index_col=0) #Utilizar raw strings na leitura de DF's\n",
    "bar_camarote=pd.read_csv(r'bar_camarote.csv', skipinitialspace=True, index_col=0)\n",
    "#display(balada, bar_camarote)\n",
    "\n",
    "#display(balada) # Algumas vezes, a leitura de arquivos em CSV dará erros de encoding, nesses casos, é importante\n",
    "                 # utlizar o parâmetro enconding com algum argumento\n",
    "balada.drop(['Sexo','RG','Fornecedor Ingresso','Data de Aquisição'], axis=1, inplace=True) #Drop retira uma determinada linha/coluna do DF \n",
    "balada.rename(columns={'Preço':'Preço Ingresso'}, inplace=True)\n",
    "bar_camarote.rename(columns={'Preço':'Preço Bebida'}, inplace=True)\n",
    "vip=balada.merge(bar_camarote,on='Nome').set_index('Nome') #Repare que para bar_camarote, merge considera apenas\n",
    "                                          # o que está a direita de Nome"
   ]
  },
  {
   "cell_type": "code",
   "execution_count": 14,
   "id": "c7995e36-f202-494e-bd53-176b2c3f4c23",
   "metadata": {},
   "outputs": [
    {
     "data": {
      "text/plain": [
       "Produto\n",
       "Askov Flavours    3\n",
       "Brahma            3\n",
       "Skol Beats        2\n",
       "dtype: int64"
      ]
     },
     "execution_count": 14,
     "metadata": {},
     "output_type": "execute_result"
    }
   ],
   "source": [
    "bar_camarote.value_counts('Produto') #Contando as bebidas mais vendidas no camarote da festa\n"
   ]
  },
  {
   "cell_type": "code",
   "execution_count": 15,
   "id": "d8431448-1e8f-489c-bfc8-ce3178d941ec",
   "metadata": {},
   "outputs": [
    {
     "data": {
      "text/plain": [
       "<BarContainer object of 3 artists>"
      ]
     },
     "execution_count": 15,
     "metadata": {},
     "output_type": "execute_result"
    },
    {
     "data": {
      "image/png": "[encoded data removed]",
      "text/plain": [
       "<Figure size 432x288 with 1 Axes>"
      ]
     },
     "metadata": {
      "needs_background": "light"
     },
     "output_type": "display_data"
    }
   ],
   "source": [
    "oi=bar_camarote.value_counts('Produto')\n",
    "l1=[produto for produto in oi.index] #Maneira concisa de se agrupar elementos de um Series para a construção\n",
    "l2=[quantidade for quantidade in oi.values] # de um gráfico\n",
    "plt.bar(l1,l2) \n",
    "#plt.bar(oi.index,oi)"
   ]
  },
  {
   "cell_type": "code",
   "execution_count": 16,
   "id": "147faa65-36af-499f-b90e-f512574c5891",
   "metadata": {},
   "outputs": [
    {
     "data": {
      "text/html": [
       "<div>\n",
       "<style scoped>\n",
       "    .dataframe tbody tr th:only-of-type {\n",
       "        vertical-align: middle;\n",
       "    }\n",
       "\n",
       "    .dataframe tbody tr th {\n",
       "        vertical-align: top;\n",
       "    }\n",
       "\n",
       "    .dataframe thead th {\n",
       "        text-align: right;\n",
       "    }\n",
       "</style>\n",
       "<table border=\"1\" class=\"dataframe\">\n",
       "  <thead>\n",
       "    <tr style=\"text-align: right;\">\n",
       "      <th></th>\n",
       "      <th>Quantidade</th>\n",
       "    </tr>\n",
       "    <tr>\n",
       "      <th>Produto</th>\n",
       "      <th></th>\n",
       "    </tr>\n",
       "  </thead>\n",
       "  <tbody>\n",
       "    <tr>\n",
       "      <th>Askov Flavours</th>\n",
       "      <td>6</td>\n",
       "    </tr>\n",
       "    <tr>\n",
       "      <th>Brahma</th>\n",
       "      <td>6</td>\n",
       "    </tr>\n",
       "    <tr>\n",
       "      <th>Skol Beats</th>\n",
       "      <td>5</td>\n",
       "    </tr>\n",
       "  </tbody>\n",
       "</table>\n",
       "</div>"
      ],
      "text/plain": [
       "                Quantidade\n",
       "Produto                   \n",
       "Askov Flavours           6\n",
       "Brahma                   6\n",
       "Skol Beats               5"
      ]
     },
     "metadata": {},
     "output_type": "display_data"
    },
    {
     "name": "stdout",
     "output_type": "stream",
     "text": [
      "Askov Flavours : 6\n"
     ]
    }
   ],
   "source": [
    "#o vip foi um DF criado com apenas os nomes das pessoas que compraram o ingresso VIP\n",
    "\n",
    "vip_produtos=vip.loc[:,['Produto','Quantidade']].groupby('Produto').sum().sort_values(by='Quantidade', ascending=False)\n",
    "                #O .groupby() é bastante útil para a realização de análises generalizantes\n",
    "                    #No caso, estamos estudando a soma da venda de bebidas       \n",
    "display(vip_produtos)\n",
    "melhor_produto=vip_produtos['Quantidade'].idxmax() #Pode-se observar, há dois nomes com quantidades iguais, \n",
    "quantidade_melhor_produto=vip_produtos['Quantidade'].max()#o idxmax prioriza aquele que aparece primeiro no DataFrame\n",
    "print(melhor_produto,':', quantidade_melhor_produto)\n",
    "#Lembrando, métodos contrários também existem! .min(), idxmin()"
   ]
  },
  {
   "cell_type": "code",
   "execution_count": 17,
   "id": "e2bd78d2-39ef-43d5-a61e-30c95d7b0aa6",
   "metadata": {},
   "outputs": [
    {
     "data": {
      "text/plain": [
       "<BarContainer object of 3 artists>"
      ]
     },
     "execution_count": 17,
     "metadata": {},
     "output_type": "execute_result"
    },
    {
     "data": {
      "image/png": "[encoded data removed]",
      "text/plain": [
       "<Figure size 432x288 with 1 Axes>"
      ]
     },
     "metadata": {
      "needs_background": "light"
     },
     "output_type": "display_data"
    }
   ],
   "source": [
    "#Plotando os gráficos do DF criado na última célula\n",
    "y=[number for number in vip_produtos['Quantidade']]\n",
    "x=[number for number in range(3)]\n",
    "produtos=[produto for produto in vip_produtos.index]\n",
    "plt.xticks(ticks=x, labels=produtos)\n",
    "\n",
    "plt.bar(x, y,color=['darkred','aqua','yellow'])"
   ]
  },
  {
   "cell_type": "code",
   "execution_count": 18,
   "id": "a075f25b-1b67-4ea6-a103-99a5122d340c",
   "metadata": {},
   "outputs": [
    {
     "data": {
      "text/html": [
       "<div>\n",
       "<style scoped>\n",
       "    .dataframe tbody tr th:only-of-type {\n",
       "        vertical-align: middle;\n",
       "    }\n",
       "\n",
       "    .dataframe tbody tr th {\n",
       "        vertical-align: top;\n",
       "    }\n",
       "\n",
       "    .dataframe thead th {\n",
       "        text-align: right;\n",
       "    }\n",
       "</style>\n",
       "<table border=\"1\" class=\"dataframe\">\n",
       "  <thead>\n",
       "    <tr style=\"text-align: right;\">\n",
       "      <th></th>\n",
       "      <th>Tipo Ingresso</th>\n",
       "      <th>Preço Ingresso</th>\n",
       "    </tr>\n",
       "    <tr>\n",
       "      <th>Nome</th>\n",
       "      <th></th>\n",
       "      <th></th>\n",
       "    </tr>\n",
       "  </thead>\n",
       "  <tbody>\n",
       "    <tr>\n",
       "      <th>Felipe Ventura</th>\n",
       "      <td>Pista</td>\n",
       "      <td>59.99</td>\n",
       "    </tr>\n",
       "    <tr>\n",
       "      <th>Aline Moreira</th>\n",
       "      <td>VIP</td>\n",
       "      <td>89.99</td>\n",
       "    </tr>\n",
       "    <tr>\n",
       "      <th>Lucas Prado</th>\n",
       "      <td>VIP</td>\n",
       "      <td>89.99</td>\n",
       "    </tr>\n",
       "    <tr>\n",
       "      <th>Gerson dos Santos</th>\n",
       "      <td>VIP</td>\n",
       "      <td>89.99</td>\n",
       "    </tr>\n",
       "    <tr>\n",
       "      <th>Lucas Pereira</th>\n",
       "      <td>Pista</td>\n",
       "      <td>59.99</td>\n",
       "    </tr>\n",
       "    <tr>\n",
       "      <th>Olivio Kássio</th>\n",
       "      <td>Pista</td>\n",
       "      <td>59.99</td>\n",
       "    </tr>\n",
       "    <tr>\n",
       "      <th>Júlia Simão</th>\n",
       "      <td>Pista</td>\n",
       "      <td>59.99</td>\n",
       "    </tr>\n",
       "  </tbody>\n",
       "</table>\n",
       "</div>"
      ],
      "text/plain": [
       "                  Tipo Ingresso  Preço Ingresso\n",
       "Nome                                           \n",
       "Felipe Ventura            Pista           59.99\n",
       "Aline Moreira               VIP           89.99\n",
       "Lucas Prado                 VIP           89.99\n",
       "Gerson dos Santos           VIP           89.99\n",
       "Lucas Pereira             Pista           59.99\n",
       "Olivio Kássio             Pista           59.99\n",
       "Júlia Simão               Pista           59.99"
      ]
     },
     "metadata": {},
     "output_type": "display_data"
    },
    {
     "name": "stdout",
     "output_type": "stream",
     "text": [
      "3\n",
      "42.86%\n"
     ]
    }
   ],
   "source": [
    "# Aplicando porcentagens e filtragens em nossos dados\n",
    "display(balada)\n",
    "vip_quantidade=balada['Tipo Ingresso'].value_counts().loc['VIP'] #Método verborrágico de filtragem\n",
    "\n",
    "total_ingresso=balada['Tipo Ingresso'].value_counts().sum()\n",
    "print(vip_quantidade)\n",
    "\n",
    "print('{:.2%}'.format(vip_quantidade/total_ingresso)) #{:.2%} é o comando para format em porcentagem!"
   ]
  },
  {
   "cell_type": "code",
   "execution_count": 19,
   "id": "e8694e64-776e-46d3-9adf-78344fd128a3",
   "metadata": {},
   "outputs": [
    {
     "name": "stdout",
     "output_type": "stream",
     "text": [
      "<class 'numpy.int64'>\n",
      "42.86%\n"
     ]
    }
   ],
   "source": [
    "#Realizando uma filtragem 'pythonica'\n",
    "vip_quantidade=balada[balada['Tipo Ingresso']=='VIP']\n",
    "vip_quantidade=vip_quantidade['Tipo Ingresso'].count()#Como se trata apenas de um tipo de ingresso, pode-se usar count\n",
    "total_ingresso=balada['Tipo Ingresso'].value_counts().sum()\n",
    "print(type(vip_quantidade))\n",
    "print('{:.2%}'.format(vip_quantidade/total_ingresso))\n"
   ]
  },
  {
   "cell_type": "code",
   "execution_count": 20,
   "id": "208ce3f6-1395-41d8-993d-abc8cf684c50",
   "metadata": {},
   "outputs": [
    {
     "data": {
      "text/html": [
       "<div>\n",
       "<style scoped>\n",
       "    .dataframe tbody tr th:only-of-type {\n",
       "        vertical-align: middle;\n",
       "    }\n",
       "\n",
       "    .dataframe tbody tr th {\n",
       "        vertical-align: top;\n",
       "    }\n",
       "\n",
       "    .dataframe thead th {\n",
       "        text-align: right;\n",
       "    }\n",
       "</style>\n",
       "<table border=\"1\" class=\"dataframe\">\n",
       "  <thead>\n",
       "    <tr style=\"text-align: right;\">\n",
       "      <th></th>\n",
       "      <th>Quantidade Vendida</th>\n",
       "      <th>Quantidade Devolvida</th>\n",
       "    </tr>\n",
       "    <tr>\n",
       "      <th>Produto</th>\n",
       "      <th></th>\n",
       "      <th></th>\n",
       "    </tr>\n",
       "  </thead>\n",
       "  <tbody>\n",
       "    <tr>\n",
       "      <th>Askov</th>\n",
       "      <td>13</td>\n",
       "      <td>0</td>\n",
       "    </tr>\n",
       "    <tr>\n",
       "      <th>Askov</th>\n",
       "      <td>90</td>\n",
       "      <td>0</td>\n",
       "    </tr>\n",
       "  </tbody>\n",
       "</table>\n",
       "</div>"
      ],
      "text/plain": [
       "         Quantidade Vendida  Quantidade Devolvida\n",
       "Produto                                          \n",
       "Askov                    13                     0\n",
       "Askov                    90                     0"
      ]
     },
     "metadata": {},
     "output_type": "display_data"
    }
   ],
   "source": [
    "#Fltragens múltiplas de um DF\n",
    "bebidas=pd.read_csv('bebidas.csv', skipinitialspace=True, index_col=0).sort_index()\n",
    "bebidas=bebidas[(bebidas['Quantidade Devolvida']==0) & (bebidas.index=='Askov')] \n",
    "        \n",
    "'Usar & com parênteses entre requisitos para filtragem múltipla'\n",
    "\n",
    "display(bebidas)"
   ]
  },
  {
   "cell_type": "code",
   "execution_count": 21,
   "id": "f0c02183-7af8-4630-8423-a7390baf421f",
   "metadata": {},
   "outputs": [
    {
     "ename": "AttributeError",
     "evalue": "'DataFrame' object has no attribute 'title'",
     "output_type": "error",
     "traceback": [
      "\u001b[0;31m---------------------------------------------------------------------------\u001b[0m",
      "\u001b[0;31mAttributeError\u001b[0m                            Traceback (most recent call last)",
      "\u001b[0;32m<ipython-input-21-45b897db3818>\u001b[0m in \u001b[0;36m<module>\u001b[0;34m\u001b[0m\n\u001b[1;32m      1\u001b[0m \u001b[0;31m# Uso isolado de groupby; sempre bastante útil para análises generalistas!\u001b[0m\u001b[0;34m\u001b[0m\u001b[0;34m\u001b[0m\u001b[0;34m\u001b[0m\u001b[0m\n\u001b[1;32m      2\u001b[0m \u001b[0mteste\u001b[0m\u001b[0;34m=\u001b[0m\u001b[0mpd\u001b[0m\u001b[0;34m.\u001b[0m\u001b[0mread_csv\u001b[0m\u001b[0;34m(\u001b[0m\u001b[0;34m'bebidas.csv'\u001b[0m\u001b[0;34m,\u001b[0m \u001b[0mskipinitialspace\u001b[0m\u001b[0;34m=\u001b[0m\u001b[0;32mTrue\u001b[0m\u001b[0;34m,\u001b[0m \u001b[0mindex_col\u001b[0m\u001b[0;34m=\u001b[0m\u001b[0;36m0\u001b[0m\u001b[0;34m)\u001b[0m\u001b[0;34m.\u001b[0m\u001b[0msort_index\u001b[0m\u001b[0;34m(\u001b[0m\u001b[0;34m)\u001b[0m\u001b[0;34m\u001b[0m\u001b[0;34m\u001b[0m\u001b[0m\n\u001b[0;32m----> 3\u001b[0;31m \u001b[0mteste\u001b[0m\u001b[0;34m.\u001b[0m\u001b[0mtitle\u001b[0m\u001b[0;34m(\u001b[0m\u001b[0;34m'Análise de Produtos'\u001b[0m\u001b[0;34m)\u001b[0m\u001b[0;34m\u001b[0m\u001b[0;34m\u001b[0m\u001b[0m\n\u001b[0m\u001b[1;32m      4\u001b[0m \u001b[0mdisplay\u001b[0m\u001b[0;34m(\u001b[0m\u001b[0mteste\u001b[0m\u001b[0;34m.\u001b[0m\u001b[0mgroupby\u001b[0m\u001b[0;34m(\u001b[0m\u001b[0mby\u001b[0m\u001b[0;34m=\u001b[0m\u001b[0;34m'Produto'\u001b[0m\u001b[0;34m)\u001b[0m\u001b[0;34m.\u001b[0m\u001b[0msum\u001b[0m\u001b[0;34m(\u001b[0m\u001b[0;34m)\u001b[0m\u001b[0;34m)\u001b[0m\u001b[0;34m\u001b[0m\u001b[0;34m\u001b[0m\u001b[0m\n\u001b[1;32m      5\u001b[0m \u001b[0;34m\u001b[0m\u001b[0m\n",
      "\u001b[0;32m~/opt/anaconda3/lib/python3.8/site-packages/pandas/core/generic.py\u001b[0m in \u001b[0;36m__getattr__\u001b[0;34m(self, name)\u001b[0m\n\u001b[1;32m   5463\u001b[0m             \u001b[0;32mif\u001b[0m \u001b[0mself\u001b[0m\u001b[0;34m.\u001b[0m\u001b[0m_info_axis\u001b[0m\u001b[0;34m.\u001b[0m\u001b[0m_can_hold_identifiers_and_holds_name\u001b[0m\u001b[0;34m(\u001b[0m\u001b[0mname\u001b[0m\u001b[0;34m)\u001b[0m\u001b[0;34m:\u001b[0m\u001b[0;34m\u001b[0m\u001b[0;34m\u001b[0m\u001b[0m\n\u001b[1;32m   5464\u001b[0m                 \u001b[0;32mreturn\u001b[0m \u001b[0mself\u001b[0m\u001b[0;34m[\u001b[0m\u001b[0mname\u001b[0m\u001b[0;34m]\u001b[0m\u001b[0;34m\u001b[0m\u001b[0;34m\u001b[0m\u001b[0m\n\u001b[0;32m-> 5465\u001b[0;31m             \u001b[0;32mreturn\u001b[0m \u001b[0mobject\u001b[0m\u001b[0;34m.\u001b[0m\u001b[0m__getattribute__\u001b[0m\u001b[0;34m(\u001b[0m\u001b[0mself\u001b[0m\u001b[0;34m,\u001b[0m \u001b[0mname\u001b[0m\u001b[0;34m)\u001b[0m\u001b[0;34m\u001b[0m\u001b[0;34m\u001b[0m\u001b[0m\n\u001b[0m\u001b[1;32m   5466\u001b[0m \u001b[0;34m\u001b[0m\u001b[0m\n\u001b[1;32m   5467\u001b[0m     \u001b[0;32mdef\u001b[0m \u001b[0m__setattr__\u001b[0m\u001b[0;34m(\u001b[0m\u001b[0mself\u001b[0m\u001b[0;34m,\u001b[0m \u001b[0mname\u001b[0m\u001b[0;34m:\u001b[0m \u001b[0mstr\u001b[0m\u001b[0;34m,\u001b[0m \u001b[0mvalue\u001b[0m\u001b[0;34m)\u001b[0m \u001b[0;34m->\u001b[0m \u001b[0;32mNone\u001b[0m\u001b[0;34m:\u001b[0m\u001b[0;34m\u001b[0m\u001b[0;34m\u001b[0m\u001b[0m\n",
      "\u001b[0;31mAttributeError\u001b[0m: 'DataFrame' object has no attribute 'title'"
     ]
    }
   ],
   "source": [
    "# Uso isolado de groupby; sempre bastante útil para análises generalistas!\n",
    "teste=pd.read_csv('bebidas.csv', skipinitialspace=True, index_col=0).sort_index()\n",
    "teste.title('Análise de Produtos')\n",
    "display(teste.groupby(by='Produto').sum()) \n",
    "\n",
    "'Sempre utilizar groupby com um método quantitativo, como sum ou mean'"
   ]
  },
  {
   "cell_type": "code",
   "execution_count": null,
   "id": "717d1204-5796-4511-8133-723daa667ca2",
   "metadata": {},
   "outputs": [],
   "source": [
    "#Método bastante útil da função groupby!\n",
    "f1=pd.read_csv('f1.csv', skipinitialspace=True, index_col=0)\n",
    "f1_class=f1.groupby(by='Equipe').sum().sort_values(by='Pontos', ascending=False)\n",
    "display(f1_class)"
   ]
  },
  {
   "cell_type": "code",
   "execution_count": null,
   "id": "107c0a51-6590-401c-9f9b-c9166272a897",
   "metadata": {},
   "outputs": [],
   "source": [
    "# Com o DF obtido com groupby, podemos fazer o seguinte plot:\n",
    "plt.figure(1,figsize=(10,5))\n",
    "teams=[team for team in f1_class.index]\n",
    "points=[point for point in f1_class['Pontos']]\n",
    "plt.barh( teams, points, height=0.7, color=['aqua','darkblue','darkred'])\n",
    "plt.axis([0,150,-0.5,2.5])\n",
    "fonte1={'font':{'weight':'bold', 'size':20, 'style':'italic'},'name':'Times New Roman', 'color':'r'}\n",
    "for i,team in enumerate(teams):\n",
    "    plt.text(points[i]+1,i-0.08,points[i], **fonte1)"
   ]
  },
  {
   "cell_type": "code",
   "execution_count": 6,
   "id": "673d8cce-4c35-462c-8ac6-c84eae42b227",
   "metadata": {},
   "outputs": [
    {
     "data": {
      "text/plain": [
       "Nome\n",
       "Felipe Ventura      2020-02-24\n",
       "Aline Moreira       2020-02-23\n",
       "Lucas Prado         2020-02-28\n",
       "Gerson dos Santos   2020-02-15\n",
       "Lucas Pereira       2020-02-16\n",
       "Olivio Kássio       2020-02-16\n",
       "Júlia Simão         2020-02-24\n",
       "Name: Data de Aquisição, dtype: datetime64[ns]"
      ]
     },
     "metadata": {},
     "output_type": "display_data"
    }
   ],
   "source": [
    "#Refazendo as edições feitas no csv balada!\n",
    "\n",
    "balada=pd.read_csv('balada.csv', skipinitialspace=True, index_col=0)\n",
    "\n",
    "balada['Data de Aquisição']=balada['Data de Aquisição']+'/2020'\n",
    "\n",
    "balada['Data de Aquisição']=pd.to_datetime(balada['Data de Aquisição'], format='%d/%m/%Y')\n",
    "\n",
    "'''Aqui, colocamos a coluna de Data de Aquisição de ingressos no formato de data!\n",
    "Anteriormente, ela estava como object'''\n",
    "\n",
    "#display(balada) #Note que as datas ficaram com 1900 como ano oficial\n",
    "\n",
    "balada['Data de Aquisição']=balada['Data de Aquisição'].replace('1900','2020')\n",
    "display(balada['Data de Aquisição'])\n",
    "\n"
   ]
  },
  {
   "cell_type": "code",
   "execution_count": 68,
   "id": "a679f18b-86d4-404a-a749-44a9f21484b3",
   "metadata": {},
   "outputs": [
    {
     "data": {
      "text/html": [
       "<div>\n",
       "<style scoped>\n",
       "    .dataframe tbody tr th:only-of-type {\n",
       "        vertical-align: middle;\n",
       "    }\n",
       "\n",
       "    .dataframe tbody tr th {\n",
       "        vertical-align: top;\n",
       "    }\n",
       "\n",
       "    .dataframe thead th {\n",
       "        text-align: right;\n",
       "    }\n",
       "</style>\n",
       "<table border=\"1\" class=\"dataframe\">\n",
       "  <thead>\n",
       "    <tr style=\"text-align: right;\">\n",
       "      <th></th>\n",
       "      <th>Sexo</th>\n",
       "      <th>RG</th>\n",
       "      <th>Tipo Ingresso</th>\n",
       "      <th>Fornecedor Ingresso</th>\n",
       "      <th>Data de Aquisição</th>\n",
       "      <th>Preço</th>\n",
       "      <th>Dia de Aquisição</th>\n",
       "    </tr>\n",
       "    <tr>\n",
       "      <th>Nome</th>\n",
       "      <th></th>\n",
       "      <th></th>\n",
       "      <th></th>\n",
       "      <th></th>\n",
       "      <th></th>\n",
       "      <th></th>\n",
       "      <th></th>\n",
       "    </tr>\n",
       "  </thead>\n",
       "  <tbody>\n",
       "    <tr>\n",
       "      <th>Felipe Ventura</th>\n",
       "      <td>Masculino</td>\n",
       "      <td>449100.0</td>\n",
       "      <td>Pista</td>\n",
       "      <td>Marcos Eventos LTDA</td>\n",
       "      <td>1900-02-24</td>\n",
       "      <td>59.99</td>\n",
       "      <td>24</td>\n",
       "    </tr>\n",
       "    <tr>\n",
       "      <th>Aline Moreira</th>\n",
       "      <td>Feminino</td>\n",
       "      <td>109870.0</td>\n",
       "      <td>VIP</td>\n",
       "      <td>Marcos Eventos LTDA</td>\n",
       "      <td>1900-02-23</td>\n",
       "      <td>89.99</td>\n",
       "      <td>23</td>\n",
       "    </tr>\n",
       "    <tr>\n",
       "      <th>Lucas Prado</th>\n",
       "      <td>Masculino</td>\n",
       "      <td>980123.0</td>\n",
       "      <td>VIP</td>\n",
       "      <td>Abreu Festas SA</td>\n",
       "      <td>1900-02-28</td>\n",
       "      <td>89.99</td>\n",
       "      <td>28</td>\n",
       "    </tr>\n",
       "    <tr>\n",
       "      <th>Gerson dos Santos</th>\n",
       "      <td>Masculino</td>\n",
       "      <td>451020.0</td>\n",
       "      <td>VIP</td>\n",
       "      <td>Marcos Eventos LTDA</td>\n",
       "      <td>1900-02-15</td>\n",
       "      <td>89.99</td>\n",
       "      <td>15</td>\n",
       "    </tr>\n",
       "    <tr>\n",
       "      <th>Lucas Pereira</th>\n",
       "      <td>Masculino</td>\n",
       "      <td>910321.0</td>\n",
       "      <td>Pista</td>\n",
       "      <td>Marcos Eventos LTDA</td>\n",
       "      <td>1900-02-16</td>\n",
       "      <td>59.99</td>\n",
       "      <td>16</td>\n",
       "    </tr>\n",
       "    <tr>\n",
       "      <th>Olivio Kássio</th>\n",
       "      <td>Masculino</td>\n",
       "      <td>371943.0</td>\n",
       "      <td>Pista</td>\n",
       "      <td>Marcos Eventos LTDA</td>\n",
       "      <td>1900-02-16</td>\n",
       "      <td>59.99</td>\n",
       "      <td>16</td>\n",
       "    </tr>\n",
       "    <tr>\n",
       "      <th>Júlia Simão</th>\n",
       "      <td>Feminino</td>\n",
       "      <td>NaN</td>\n",
       "      <td>Pista</td>\n",
       "      <td>Abreu Festas SA</td>\n",
       "      <td>1900-02-24</td>\n",
       "      <td>59.99</td>\n",
       "      <td>24</td>\n",
       "    </tr>\n",
       "  </tbody>\n",
       "</table>\n",
       "</div>"
      ],
      "text/plain": [
       "                        Sexo        RG Tipo Ingresso  Fornecedor Ingresso  \\\n",
       "Nome                                                                        \n",
       "Felipe Ventura     Masculino  449100.0         Pista  Marcos Eventos LTDA   \n",
       "Aline Moreira       Feminino  109870.0           VIP  Marcos Eventos LTDA   \n",
       "Lucas Prado        Masculino  980123.0           VIP      Abreu Festas SA   \n",
       "Gerson dos Santos  Masculino  451020.0           VIP  Marcos Eventos LTDA   \n",
       "Lucas Pereira      Masculino  910321.0         Pista  Marcos Eventos LTDA   \n",
       "Olivio Kássio      Masculino  371943.0         Pista  Marcos Eventos LTDA   \n",
       "Júlia Simão         Feminino       NaN         Pista      Abreu Festas SA   \n",
       "\n",
       "                  Data de Aquisição  Preço  Dia de Aquisição  \n",
       "Nome                                                          \n",
       "Felipe Ventura           1900-02-24  59.99                24  \n",
       "Aline Moreira            1900-02-23  89.99                23  \n",
       "Lucas Prado              1900-02-28  89.99                28  \n",
       "Gerson dos Santos        1900-02-15  89.99                15  \n",
       "Lucas Pereira            1900-02-16  59.99                16  \n",
       "Olivio Kássio            1900-02-16  59.99                16  \n",
       "Júlia Simão              1900-02-24  59.99                24  "
      ]
     },
     "metadata": {},
     "output_type": "display_data"
    }
   ],
   "source": [
    "#Com a nova formatação de 'Data de Aquisição, vamos criar uma nova coluna em balada\n",
    "balada['Dia de Aquisição']=balada['Data de Aquisição'].dt.day\n",
    "display(balada)"
   ]
  },
  {
   "cell_type": "code",
   "execution_count": 71,
   "id": "763fd435-0885-4584-bae1-ef63aec3011c",
   "metadata": {},
   "outputs": [
    {
     "data": {
      "text/html": [
       "<div>\n",
       "<style scoped>\n",
       "    .dataframe tbody tr th:only-of-type {\n",
       "        vertical-align: middle;\n",
       "    }\n",
       "\n",
       "    .dataframe tbody tr th {\n",
       "        vertical-align: top;\n",
       "    }\n",
       "\n",
       "    .dataframe thead th {\n",
       "        text-align: right;\n",
       "    }\n",
       "</style>\n",
       "<table border=\"1\" class=\"dataframe\">\n",
       "  <thead>\n",
       "    <tr style=\"text-align: right;\">\n",
       "      <th></th>\n",
       "      <th>Sexo</th>\n",
       "      <th>RG</th>\n",
       "      <th>Tipo Ingresso</th>\n",
       "      <th>Fornecedor Ingresso</th>\n",
       "      <th>Data de Aquisição</th>\n",
       "      <th>Preço</th>\n",
       "      <th>Dia de Aquisição</th>\n",
       "    </tr>\n",
       "    <tr>\n",
       "      <th>Nome</th>\n",
       "      <th></th>\n",
       "      <th></th>\n",
       "      <th></th>\n",
       "      <th></th>\n",
       "      <th></th>\n",
       "      <th></th>\n",
       "      <th></th>\n",
       "    </tr>\n",
       "  </thead>\n",
       "  <tbody>\n",
       "    <tr>\n",
       "      <th>Felipe Ventura</th>\n",
       "      <td>Masculino</td>\n",
       "      <td>449100.0</td>\n",
       "      <td>Pista</td>\n",
       "      <td>Marcos Eventos LTDA</td>\n",
       "      <td>1900-02-24</td>\n",
       "      <td>59.99</td>\n",
       "      <td>24</td>\n",
       "    </tr>\n",
       "    <tr>\n",
       "      <th>Aline Moreira</th>\n",
       "      <td>Feminino</td>\n",
       "      <td>109870.0</td>\n",
       "      <td>VIP</td>\n",
       "      <td>Marcos Eventos LTDA</td>\n",
       "      <td>1900-02-23</td>\n",
       "      <td>89.99</td>\n",
       "      <td>23</td>\n",
       "    </tr>\n",
       "    <tr>\n",
       "      <th>Lucas Prado</th>\n",
       "      <td>Masculino</td>\n",
       "      <td>980123.0</td>\n",
       "      <td>VIP</td>\n",
       "      <td>Abreu Festas SA</td>\n",
       "      <td>1900-02-28</td>\n",
       "      <td>89.99</td>\n",
       "      <td>28</td>\n",
       "    </tr>\n",
       "    <tr>\n",
       "      <th>Gerson dos Santos</th>\n",
       "      <td>Masculino</td>\n",
       "      <td>451020.0</td>\n",
       "      <td>VIP</td>\n",
       "      <td>Marcos Eventos LTDA</td>\n",
       "      <td>1900-02-15</td>\n",
       "      <td>89.99</td>\n",
       "      <td>15</td>\n",
       "    </tr>\n",
       "    <tr>\n",
       "      <th>Lucas Pereira</th>\n",
       "      <td>Masculino</td>\n",
       "      <td>910321.0</td>\n",
       "      <td>Pista</td>\n",
       "      <td>Marcos Eventos LTDA</td>\n",
       "      <td>1900-02-16</td>\n",
       "      <td>59.99</td>\n",
       "      <td>16</td>\n",
       "    </tr>\n",
       "    <tr>\n",
       "      <th>Olivio Kássio</th>\n",
       "      <td>Masculino</td>\n",
       "      <td>371943.0</td>\n",
       "      <td>Pista</td>\n",
       "      <td>Marcos Eventos LTDA</td>\n",
       "      <td>1900-02-16</td>\n",
       "      <td>59.99</td>\n",
       "      <td>16</td>\n",
       "    </tr>\n",
       "    <tr>\n",
       "      <th>Júlia Simão</th>\n",
       "      <td>Feminino</td>\n",
       "      <td>123456.0</td>\n",
       "      <td>Pista</td>\n",
       "      <td>Abreu Festas SA</td>\n",
       "      <td>1900-02-24</td>\n",
       "      <td>59.99</td>\n",
       "      <td>24</td>\n",
       "    </tr>\n",
       "  </tbody>\n",
       "</table>\n",
       "</div>"
      ],
      "text/plain": [
       "                        Sexo        RG Tipo Ingresso  Fornecedor Ingresso  \\\n",
       "Nome                                                                        \n",
       "Felipe Ventura     Masculino  449100.0         Pista  Marcos Eventos LTDA   \n",
       "Aline Moreira       Feminino  109870.0           VIP  Marcos Eventos LTDA   \n",
       "Lucas Prado        Masculino  980123.0           VIP      Abreu Festas SA   \n",
       "Gerson dos Santos  Masculino  451020.0           VIP  Marcos Eventos LTDA   \n",
       "Lucas Pereira      Masculino  910321.0         Pista  Marcos Eventos LTDA   \n",
       "Olivio Kássio      Masculino  371943.0         Pista  Marcos Eventos LTDA   \n",
       "Júlia Simão         Feminino  123456.0         Pista      Abreu Festas SA   \n",
       "\n",
       "                  Data de Aquisição  Preço  Dia de Aquisição  \n",
       "Nome                                                          \n",
       "Felipe Ventura           1900-02-24  59.99                24  \n",
       "Aline Moreira            1900-02-23  89.99                23  \n",
       "Lucas Prado              1900-02-28  89.99                28  \n",
       "Gerson dos Santos        1900-02-15  89.99                15  \n",
       "Lucas Pereira            1900-02-16  59.99                16  \n",
       "Olivio Kássio            1900-02-16  59.99                16  \n",
       "Júlia Simão              1900-02-24  59.99                24  "
      ]
     },
     "metadata": {},
     "output_type": "display_data"
    }
   ],
   "source": [
    "#Agora, vamos substituir um valor no DF sem utilizar o replace\n",
    "\n",
    "'Para isso, vamos utilizar o caso do RG da Júlia Simão'\n",
    "\n",
    "balada.loc['Júlia Simão','RG']=123456\n",
    "display(balada)"
   ]
  },
  {
   "cell_type": "code",
   "execution_count": 89,
   "id": "95547b45-b6a6-412f-8403-0a40a06ed0a9",
   "metadata": {},
   "outputs": [
    {
     "data": {
      "text/plain": [
       "'Para solucionar os problemas com acentuação no Excel, utilizar o comando de encoding com latin1'"
      ]
     },
     "execution_count": 89,
     "metadata": {},
     "output_type": "execute_result"
    }
   ],
   "source": [
    "#Transformando balada em um arquivo em csv\n",
    "balada.to_csv('/Users/felipeveiga/Documents/Jupyter/Python Lira/balada_aula.csv', sep=';', encoding='latin1')\n",
    "\n",
    "'''Para solucionar os problemas com acentuação no Excel, utilizar o comando de encoding com latin1'''"
   ]
  },
  {
   "cell_type": "code",
   "execution_count": 90,
   "id": "6f4d870e-4bf0-4ebc-9ceb-a13f04fd2d7d",
   "metadata": {},
   "outputs": [
    {
     "data": {
      "text/html": [
       "<div>\n",
       "<style scoped>\n",
       "    .dataframe tbody tr th:only-of-type {\n",
       "        vertical-align: middle;\n",
       "    }\n",
       "\n",
       "    .dataframe tbody tr th {\n",
       "        vertical-align: top;\n",
       "    }\n",
       "\n",
       "    .dataframe thead th {\n",
       "        text-align: right;\n",
       "    }\n",
       "</style>\n",
       "<table border=\"1\" class=\"dataframe\">\n",
       "  <thead>\n",
       "    <tr style=\"text-align: right;\">\n",
       "      <th></th>\n",
       "      <th>2019</th>\n",
       "      <th>2020</th>\n",
       "    </tr>\n",
       "  </thead>\n",
       "  <tbody>\n",
       "    <tr>\n",
       "      <th>iphone</th>\n",
       "      <td>500</td>\n",
       "      <td>750</td>\n",
       "    </tr>\n",
       "    <tr>\n",
       "      <th>samsung a-30</th>\n",
       "      <td>300</td>\n",
       "      <td>400</td>\n",
       "    </tr>\n",
       "    <tr>\n",
       "      <th>zenfone</th>\n",
       "      <td>150</td>\n",
       "      <td>180</td>\n",
       "    </tr>\n",
       "  </tbody>\n",
       "</table>\n",
       "</div>"
      ],
      "text/plain": [
       "              2019  2020\n",
       "iphone         500   750\n",
       "samsung a-30   300   400\n",
       "zenfone        150   180"
      ]
     },
     "metadata": {},
     "output_type": "display_data"
    }
   ],
   "source": [
    "#Transformação de um dicionário em DataFrame\n",
    "casas_bahia={'iphone':[500,750],'samsung a-30':[300,400], 'zenfone':[150,180]}\n",
    "casas_bahia_df=pd.DataFrame.from_dict(casas_bahia, orient='index') \n",
    "\n",
    "'O comando orient indica qual função as chaves do dicionário deverão ter (index ou colunas)'\n",
    "\n",
    "casas_bahia_df.rename(columns={0:2019,1:2020}, inplace=True)\n",
    "casas_bahia_df.name='Preço dos Produtos'\n",
    "\n",
    "display(casas_bahia_df)"
   ]
  },
  {
   "cell_type": "code",
   "execution_count": 102,
   "id": "467cf4f8-be65-4c3f-9b71-fd29737a7637",
   "metadata": {
    "tags": []
   },
   "outputs": [
    {
     "ename": "ParserError",
     "evalue": "Error tokenizing data. C error: Expected 1 fields in line 6, saw 2\n",
     "output_type": "error",
     "traceback": [
      "\u001b[0;31m---------------------------------------------------------------------------\u001b[0m",
      "\u001b[0;31mParserError\u001b[0m                               Traceback (most recent call last)",
      "\u001b[0;32m<ipython-input-102-f0ae5cdcf05b>\u001b[0m in \u001b[0;36m<module>\u001b[0;34m\u001b[0m\n\u001b[1;32m      8\u001b[0m \u001b[0;31m#display(arquivo)\u001b[0m\u001b[0;34m\u001b[0m\u001b[0;34m\u001b[0m\u001b[0;34m\u001b[0m\u001b[0m\n\u001b[1;32m      9\u001b[0m \u001b[0;31m#pd.read_csv('https://drive.google.com/file/d/1s8UUGpwI95wQJ4TEWx7qFlChfTrxmkS4/view?usp=sharing', index_col=0, encoding='utf-8')\u001b[0m\u001b[0;34m\u001b[0m\u001b[0;34m\u001b[0m\u001b[0;34m\u001b[0m\u001b[0m\n\u001b[0;32m---> 10\u001b[0;31m \u001b[0mpd\u001b[0m\u001b[0;34m.\u001b[0m\u001b[0mread_csv\u001b[0m\u001b[0;34m(\u001b[0m\u001b[0marquivo\u001b[0m\u001b[0;34m)\u001b[0m\u001b[0;34m\u001b[0m\u001b[0;34m\u001b[0m\u001b[0m\n\u001b[0m\u001b[1;32m     11\u001b[0m \u001b[0;34m\u001b[0m\u001b[0m\n",
      "\u001b[0;32m~/opt/anaconda3/lib/python3.8/site-packages/pandas/io/parsers.py\u001b[0m in \u001b[0;36mread_csv\u001b[0;34m(filepath_or_buffer, sep, delimiter, header, names, index_col, usecols, squeeze, prefix, mangle_dupe_cols, dtype, engine, converters, true_values, false_values, skipinitialspace, skiprows, skipfooter, nrows, na_values, keep_default_na, na_filter, verbose, skip_blank_lines, parse_dates, infer_datetime_format, keep_date_col, date_parser, dayfirst, cache_dates, iterator, chunksize, compression, thousands, decimal, lineterminator, quotechar, quoting, doublequote, escapechar, comment, encoding, dialect, error_bad_lines, warn_bad_lines, delim_whitespace, low_memory, memory_map, float_precision, storage_options)\u001b[0m\n\u001b[1;32m    608\u001b[0m     \u001b[0mkwds\u001b[0m\u001b[0;34m.\u001b[0m\u001b[0mupdate\u001b[0m\u001b[0;34m(\u001b[0m\u001b[0mkwds_defaults\u001b[0m\u001b[0;34m)\u001b[0m\u001b[0;34m\u001b[0m\u001b[0;34m\u001b[0m\u001b[0m\n\u001b[1;32m    609\u001b[0m \u001b[0;34m\u001b[0m\u001b[0m\n\u001b[0;32m--> 610\u001b[0;31m     \u001b[0;32mreturn\u001b[0m \u001b[0m_read\u001b[0m\u001b[0;34m(\u001b[0m\u001b[0mfilepath_or_buffer\u001b[0m\u001b[0;34m,\u001b[0m \u001b[0mkwds\u001b[0m\u001b[0;34m)\u001b[0m\u001b[0;34m\u001b[0m\u001b[0;34m\u001b[0m\u001b[0m\n\u001b[0m\u001b[1;32m    611\u001b[0m \u001b[0;34m\u001b[0m\u001b[0m\n\u001b[1;32m    612\u001b[0m \u001b[0;34m\u001b[0m\u001b[0m\n",
      "\u001b[0;32m~/opt/anaconda3/lib/python3.8/site-packages/pandas/io/parsers.py\u001b[0m in \u001b[0;36m_read\u001b[0;34m(filepath_or_buffer, kwds)\u001b[0m\n\u001b[1;32m    466\u001b[0m \u001b[0;34m\u001b[0m\u001b[0m\n\u001b[1;32m    467\u001b[0m     \u001b[0;32mwith\u001b[0m \u001b[0mparser\u001b[0m\u001b[0;34m:\u001b[0m\u001b[0;34m\u001b[0m\u001b[0;34m\u001b[0m\u001b[0m\n\u001b[0;32m--> 468\u001b[0;31m         \u001b[0;32mreturn\u001b[0m \u001b[0mparser\u001b[0m\u001b[0;34m.\u001b[0m\u001b[0mread\u001b[0m\u001b[0;34m(\u001b[0m\u001b[0mnrows\u001b[0m\u001b[0;34m)\u001b[0m\u001b[0;34m\u001b[0m\u001b[0;34m\u001b[0m\u001b[0m\n\u001b[0m\u001b[1;32m    469\u001b[0m \u001b[0;34m\u001b[0m\u001b[0m\n\u001b[1;32m    470\u001b[0m \u001b[0;34m\u001b[0m\u001b[0m\n",
      "\u001b[0;32m~/opt/anaconda3/lib/python3.8/site-packages/pandas/io/parsers.py\u001b[0m in \u001b[0;36mread\u001b[0;34m(self, nrows)\u001b[0m\n\u001b[1;32m   1055\u001b[0m     \u001b[0;32mdef\u001b[0m \u001b[0mread\u001b[0m\u001b[0;34m(\u001b[0m\u001b[0mself\u001b[0m\u001b[0;34m,\u001b[0m \u001b[0mnrows\u001b[0m\u001b[0;34m=\u001b[0m\u001b[0;32mNone\u001b[0m\u001b[0;34m)\u001b[0m\u001b[0;34m:\u001b[0m\u001b[0;34m\u001b[0m\u001b[0;34m\u001b[0m\u001b[0m\n\u001b[1;32m   1056\u001b[0m         \u001b[0mnrows\u001b[0m \u001b[0;34m=\u001b[0m \u001b[0mvalidate_integer\u001b[0m\u001b[0;34m(\u001b[0m\u001b[0;34m\"nrows\"\u001b[0m\u001b[0;34m,\u001b[0m \u001b[0mnrows\u001b[0m\u001b[0;34m)\u001b[0m\u001b[0;34m\u001b[0m\u001b[0;34m\u001b[0m\u001b[0m\n\u001b[0;32m-> 1057\u001b[0;31m         \u001b[0mindex\u001b[0m\u001b[0;34m,\u001b[0m \u001b[0mcolumns\u001b[0m\u001b[0;34m,\u001b[0m \u001b[0mcol_dict\u001b[0m \u001b[0;34m=\u001b[0m \u001b[0mself\u001b[0m\u001b[0;34m.\u001b[0m\u001b[0m_engine\u001b[0m\u001b[0;34m.\u001b[0m\u001b[0mread\u001b[0m\u001b[0;34m(\u001b[0m\u001b[0mnrows\u001b[0m\u001b[0;34m)\u001b[0m\u001b[0;34m\u001b[0m\u001b[0;34m\u001b[0m\u001b[0m\n\u001b[0m\u001b[1;32m   1058\u001b[0m \u001b[0;34m\u001b[0m\u001b[0m\n\u001b[1;32m   1059\u001b[0m         \u001b[0;32mif\u001b[0m \u001b[0mindex\u001b[0m \u001b[0;32mis\u001b[0m \u001b[0;32mNone\u001b[0m\u001b[0;34m:\u001b[0m\u001b[0;34m\u001b[0m\u001b[0;34m\u001b[0m\u001b[0m\n",
      "\u001b[0;32m~/opt/anaconda3/lib/python3.8/site-packages/pandas/io/parsers.py\u001b[0m in \u001b[0;36mread\u001b[0;34m(self, nrows)\u001b[0m\n\u001b[1;32m   2059\u001b[0m     \u001b[0;32mdef\u001b[0m \u001b[0mread\u001b[0m\u001b[0;34m(\u001b[0m\u001b[0mself\u001b[0m\u001b[0;34m,\u001b[0m \u001b[0mnrows\u001b[0m\u001b[0;34m=\u001b[0m\u001b[0;32mNone\u001b[0m\u001b[0;34m)\u001b[0m\u001b[0;34m:\u001b[0m\u001b[0;34m\u001b[0m\u001b[0;34m\u001b[0m\u001b[0m\n\u001b[1;32m   2060\u001b[0m         \u001b[0;32mtry\u001b[0m\u001b[0;34m:\u001b[0m\u001b[0;34m\u001b[0m\u001b[0;34m\u001b[0m\u001b[0m\n\u001b[0;32m-> 2061\u001b[0;31m             \u001b[0mdata\u001b[0m \u001b[0;34m=\u001b[0m \u001b[0mself\u001b[0m\u001b[0;34m.\u001b[0m\u001b[0m_reader\u001b[0m\u001b[0;34m.\u001b[0m\u001b[0mread\u001b[0m\u001b[0;34m(\u001b[0m\u001b[0mnrows\u001b[0m\u001b[0;34m)\u001b[0m\u001b[0;34m\u001b[0m\u001b[0;34m\u001b[0m\u001b[0m\n\u001b[0m\u001b[1;32m   2062\u001b[0m         \u001b[0;32mexcept\u001b[0m \u001b[0mStopIteration\u001b[0m\u001b[0;34m:\u001b[0m\u001b[0;34m\u001b[0m\u001b[0;34m\u001b[0m\u001b[0m\n\u001b[1;32m   2063\u001b[0m             \u001b[0;32mif\u001b[0m \u001b[0mself\u001b[0m\u001b[0;34m.\u001b[0m\u001b[0m_first_chunk\u001b[0m\u001b[0;34m:\u001b[0m\u001b[0;34m\u001b[0m\u001b[0;34m\u001b[0m\u001b[0m\n",
      "\u001b[0;32mpandas/_libs/parsers.pyx\u001b[0m in \u001b[0;36mpandas._libs.parsers.TextReader.read\u001b[0;34m()\u001b[0m\n",
      "\u001b[0;32mpandas/_libs/parsers.pyx\u001b[0m in \u001b[0;36mpandas._libs.parsers.TextReader._read_low_memory\u001b[0;34m()\u001b[0m\n",
      "\u001b[0;32mpandas/_libs/parsers.pyx\u001b[0m in \u001b[0;36mpandas._libs.parsers.TextReader._read_rows\u001b[0;34m()\u001b[0m\n",
      "\u001b[0;32mpandas/_libs/parsers.pyx\u001b[0m in \u001b[0;36mpandas._libs.parsers.TextReader._tokenize_rows\u001b[0;34m()\u001b[0m\n",
      "\u001b[0;32mpandas/_libs/parsers.pyx\u001b[0m in \u001b[0;36mpandas._libs.parsers.raise_parser_error\u001b[0;34m()\u001b[0m\n",
      "\u001b[0;31mParserError\u001b[0m: Error tokenizing data. C error: Expected 1 fields in line 6, saw 2\n"
     ]
    }
   ],
   "source": [
    "#Lendo arquivos em csv da internet\n",
    "import requests\n",
    "import io\n",
    "\n",
    "conteudo=requests.get('https://drive.google.com/file/d/1s8UUGpwI95wQJ4TEWx7qFlChfTrxmkS4/view?usp=sharing')\n",
    "conteudo=conteudo.content\n",
    "arquivo=io.StringIO(conteudo.decode('latin1'))\n",
    "#display(arquivo)\n",
    "#pd.read_csv('https://drive.google.com/file/d/1s8UUGpwI95wQJ4TEWx7qFlChfTrxmkS4/view?usp=sharing', index_col=0, encoding='utf-8')\n",
    "pd.read_csv(arquivo)\n",
    "\n"
   ]
  },
  {
   "cell_type": "code",
   "execution_count": 7,
   "id": "7653e8bd-a683-4112-857a-2009a263b2df",
   "metadata": {},
   "outputs": [
    {
     "data": {
      "text/html": [
       "<div>\n",
       "<style scoped>\n",
       "    .dataframe tbody tr th:only-of-type {\n",
       "        vertical-align: middle;\n",
       "    }\n",
       "\n",
       "    .dataframe tbody tr th {\n",
       "        vertical-align: top;\n",
       "    }\n",
       "\n",
       "    .dataframe thead th {\n",
       "        text-align: right;\n",
       "    }\n",
       "</style>\n",
       "<table border=\"1\" class=\"dataframe\">\n",
       "  <thead>\n",
       "    <tr style=\"text-align: right;\">\n",
       "      <th></th>\n",
       "      <th>Produto</th>\n",
       "      <th>Preço</th>\n",
       "    </tr>\n",
       "  </thead>\n",
       "  <tbody>\n",
       "    <tr>\n",
       "      <th>0</th>\n",
       "      <td>Arroz</td>\n",
       "      <td>2</td>\n",
       "    </tr>\n",
       "    <tr>\n",
       "      <th>1</th>\n",
       "      <td>Feijão</td>\n",
       "      <td>4</td>\n",
       "    </tr>\n",
       "    <tr>\n",
       "      <th>2</th>\n",
       "      <td>Abóbora</td>\n",
       "      <td>5</td>\n",
       "    </tr>\n",
       "  </tbody>\n",
       "</table>\n",
       "</div>"
      ],
      "text/plain": [
       "   Produto   Preço\n",
       "0    Arroz       2\n",
       "1   Feijão       4\n",
       "2  Abóbora       5"
      ]
     },
     "execution_count": 7,
     "metadata": {},
     "output_type": "execute_result"
    }
   ],
   "source": [
    "pd.read_csv('mercado.csv')"
   ]
  },
  {
   "cell_type": "code",
   "execution_count": 66,
   "id": "da3488db-cf95-440b-ae6d-a623d91a25e2",
   "metadata": {},
   "outputs": [
    {
     "data": {
      "text/html": [
       "<div>\n",
       "<style scoped>\n",
       "    .dataframe tbody tr th:only-of-type {\n",
       "        vertical-align: middle;\n",
       "    }\n",
       "\n",
       "    .dataframe tbody tr th {\n",
       "        vertical-align: top;\n",
       "    }\n",
       "\n",
       "    .dataframe thead th {\n",
       "        text-align: right;\n",
       "    }\n",
       "</style>\n",
       "<table border=\"1\" class=\"dataframe\">\n",
       "  <thead>\n",
       "    <tr style=\"text-align: right;\">\n",
       "      <th></th>\n",
       "      <th>Preço</th>\n",
       "      <th>Tipo</th>\n",
       "      <th>Multiplicador Imposto</th>\n",
       "      <th>Quantidade 1° Semestre</th>\n",
       "      <th>Receita 1° Semestre</th>\n",
       "      <th>Quantidade 2° Semestre</th>\n",
       "      <th>Receita 2° Semestre</th>\n",
       "    </tr>\n",
       "    <tr>\n",
       "      <th>Produto</th>\n",
       "      <th></th>\n",
       "      <th></th>\n",
       "      <th></th>\n",
       "      <th></th>\n",
       "      <th></th>\n",
       "      <th></th>\n",
       "      <th></th>\n",
       "    </tr>\n",
       "  </thead>\n",
       "  <tbody>\n",
       "    <tr>\n",
       "      <th>Iphone 11</th>\n",
       "      <td>3100</td>\n",
       "      <td>Celular</td>\n",
       "      <td>1.5</td>\n",
       "      <td>23</td>\n",
       "      <td>85560</td>\n",
       "      <td>12</td>\n",
       "      <td>44640</td>\n",
       "    </tr>\n",
       "    <tr>\n",
       "      <th>Samsung A-30</th>\n",
       "      <td>1200</td>\n",
       "      <td>Celular</td>\n",
       "      <td>1.5</td>\n",
       "      <td>42</td>\n",
       "      <td>60480</td>\n",
       "      <td>31</td>\n",
       "      <td>44640</td>\n",
       "    </tr>\n",
       "    <tr>\n",
       "      <th>XBOX One</th>\n",
       "      <td>1900</td>\n",
       "      <td>Console</td>\n",
       "      <td>1.3</td>\n",
       "      <td>11</td>\n",
       "      <td>27170</td>\n",
       "      <td>21</td>\n",
       "      <td>51870</td>\n",
       "    </tr>\n",
       "    <tr>\n",
       "      <th>PS4</th>\n",
       "      <td>2100</td>\n",
       "      <td>Console</td>\n",
       "      <td>1.3</td>\n",
       "      <td>9</td>\n",
       "      <td>24570</td>\n",
       "      <td>19</td>\n",
       "      <td>51870</td>\n",
       "    </tr>\n",
       "  </tbody>\n",
       "</table>\n",
       "</div>"
      ],
      "text/plain": [
       "              Preço     Tipo  Multiplicador Imposto  Quantidade 1° Semestre  \\\n",
       "Produto                                                                       \n",
       "Iphone 11      3100  Celular                    1.5                      23   \n",
       "Samsung A-30   1200  Celular                    1.5                      42   \n",
       "XBOX One       1900  Console                    1.3                      11   \n",
       "PS4            2100  Console                    1.3                       9   \n",
       "\n",
       "              Receita 1° Semestre  Quantidade 2° Semestre  Receita 2° Semestre  \n",
       "Produto                                                                         \n",
       "Iphone 11                   85560                      12                44640  \n",
       "Samsung A-30                60480                      31                44640  \n",
       "XBOX One                    27170                      21                51870  \n",
       "PS4                         24570                      19                51870  "
      ]
     },
     "metadata": {},
     "output_type": "display_data"
    }
   ],
   "source": [
    "# Lendo uma tabela em Excel\n",
    "# Atualizando valores de linhas com base em informações de outras linhas\n",
    "\n",
    "tabela=pd.read_excel('Excel_Exemplo_Lira.xlsx', header=1, index_col=2)\n",
    "tabela.drop(tabela.iloc[:,[0,1]], axis=1, inplace=True) \n",
    "\n",
    "\n",
    "'Método rápido de se deletar colunas/linhas do DF: drop'\n",
    "\n",
    "\n",
    "tabela.rename(columns={'Multiplicador Impoto':'Multiplicador Imposto'},inplace=True) #Pequena Correção do DF\n",
    "tabela.loc[tabela['Tipo']=='Celular','Multiplicador Imposto']=1.5\n",
    "\n",
    "\n",
    "'Estamos trocando o valor do multiplicador de imposto apenas para os produtos do tipo Celular'\n",
    "\n",
    "display(tabela)"
   ]
  },
  {
   "cell_type": "code",
   "execution_count": 67,
   "id": "edba7357-6fb6-48f3-8333-4a354ed26651",
   "metadata": {},
   "outputs": [
    {
     "data": {
      "text/html": [
       "<div>\n",
       "<style scoped>\n",
       "    .dataframe tbody tr th:only-of-type {\n",
       "        vertical-align: middle;\n",
       "    }\n",
       "\n",
       "    .dataframe tbody tr th {\n",
       "        vertical-align: top;\n",
       "    }\n",
       "\n",
       "    .dataframe thead th {\n",
       "        text-align: right;\n",
       "    }\n",
       "</style>\n",
       "<table border=\"1\" class=\"dataframe\">\n",
       "  <thead>\n",
       "    <tr style=\"text-align: right;\">\n",
       "      <th></th>\n",
       "      <th>Tipo</th>\n",
       "      <th>Preço</th>\n",
       "      <th>Multiplicador Imposto</th>\n",
       "      <th>Quantidade 1° Semestre</th>\n",
       "      <th>Receita 1° Semestre</th>\n",
       "      <th>Quantidade 2° Semestre</th>\n",
       "      <th>Receita 2° Semestre</th>\n",
       "    </tr>\n",
       "    <tr>\n",
       "      <th>Produto</th>\n",
       "      <th></th>\n",
       "      <th></th>\n",
       "      <th></th>\n",
       "      <th></th>\n",
       "      <th></th>\n",
       "      <th></th>\n",
       "      <th></th>\n",
       "    </tr>\n",
       "  </thead>\n",
       "  <tbody>\n",
       "    <tr>\n",
       "      <th>Iphone 11</th>\n",
       "      <td>Celular</td>\n",
       "      <td>3100</td>\n",
       "      <td>1.5</td>\n",
       "      <td>23</td>\n",
       "      <td>106950.0</td>\n",
       "      <td>12</td>\n",
       "      <td>55800.0</td>\n",
       "    </tr>\n",
       "    <tr>\n",
       "      <th>Samsung A-30</th>\n",
       "      <td>Celular</td>\n",
       "      <td>1200</td>\n",
       "      <td>1.5</td>\n",
       "      <td>42</td>\n",
       "      <td>75600.0</td>\n",
       "      <td>31</td>\n",
       "      <td>55800.0</td>\n",
       "    </tr>\n",
       "    <tr>\n",
       "      <th>XBOX One</th>\n",
       "      <td>Console</td>\n",
       "      <td>1900</td>\n",
       "      <td>1.3</td>\n",
       "      <td>11</td>\n",
       "      <td>27170.0</td>\n",
       "      <td>21</td>\n",
       "      <td>51870.0</td>\n",
       "    </tr>\n",
       "    <tr>\n",
       "      <th>PS4</th>\n",
       "      <td>Console</td>\n",
       "      <td>2100</td>\n",
       "      <td>1.3</td>\n",
       "      <td>9</td>\n",
       "      <td>24570.0</td>\n",
       "      <td>19</td>\n",
       "      <td>51870.0</td>\n",
       "    </tr>\n",
       "  </tbody>\n",
       "</table>\n",
       "</div>"
      ],
      "text/plain": [
       "                 Tipo  Preço  Multiplicador Imposto  Quantidade 1° Semestre  \\\n",
       "Produto                                                                       \n",
       "Iphone 11     Celular   3100                    1.5                      23   \n",
       "Samsung A-30  Celular   1200                    1.5                      42   \n",
       "XBOX One      Console   1900                    1.3                      11   \n",
       "PS4           Console   2100                    1.3                       9   \n",
       "\n",
       "              Receita 1° Semestre  Quantidade 2° Semestre  Receita 2° Semestre  \n",
       "Produto                                                                         \n",
       "Iphone 11                106950.0                      12              55800.0  \n",
       "Samsung A-30              75600.0                      31              55800.0  \n",
       "XBOX One                  27170.0                      21              51870.0  \n",
       "PS4                       24570.0                      19              51870.0  "
      ]
     },
     "metadata": {},
     "output_type": "display_data"
    }
   ],
   "source": [
    "#Atualizando os valores de Receitas\n",
    "\n",
    "'''Como sabemos, o pandas não importa as fórmulas utilizadas na planilha. Dessa forma, \n",
    "deveremos atualizar, também os valores de Receita do 1° e 2° Semestres'''\n",
    "\n",
    "tabela['Receita 1° Semestre']=tabela['Preço']*tabela['Multiplicador Imposto']*tabela['Quantidade 1° Semestre']\n",
    "tabela['Receita 2° Semestre']=tabela['Preço']*tabela['Multiplicador Imposto']*tabela['Quantidade 2° Semestre']\n",
    "\n",
    "tabela=tabela.iloc[:,[1,0,2,3,4,5,6]] #Novamente: uma outra pequena correção no DF\n",
    "\n",
    "display(tabela)\n"
   ]
  },
  {
   "cell_type": "code",
   "execution_count": 71,
   "id": "325835dd-9837-4c11-8acd-7a331e9a70df",
   "metadata": {},
   "outputs": [
    {
     "data": {
      "text/plain": [
       "'Abrindo o arquivo, é visível notar que o gráfico da planilha original não está mais disponível'"
      ]
     },
     "execution_count": 71,
     "metadata": {},
     "output_type": "execute_result"
    }
   ],
   "source": [
    "# Salvando o DF produzido como um arquivo em Excel\n",
    "\n",
    "tabela.to_excel('Nova_Tabela_Lira.xlsx') # Lembrar de colocar a extensão do arquivo!\n",
    "\n",
    "\n",
    "'Abrindo o arquivo, é visível notar que o gráfico da planilha original não está mais disponível'"
   ]
  },
  {
   "cell_type": "code",
   "execution_count": 89,
   "id": "c4a38a03-7742-43b0-b2c0-91426e5547bc",
   "metadata": {},
   "outputs": [
    {
     "name": "stdout",
     "output_type": "stream",
     "text": [
      "XBOX One\n",
      "3\n"
     ]
    },
    {
     "data": {
      "text/plain": [
       "'Aqui, estamos pedindo para que o openpyxl printe o valor da célula C5'"
      ]
     },
     "execution_count": 89,
     "metadata": {},
     "output_type": "execute_result"
    }
   ],
   "source": [
    "# Agora, faremos o mesmo procedimento com o openpyxl\n",
    "from openpyxl import Workbook, load_workbook\n",
    "\n",
    "planilha= load_workbook('Excel_Exemplo_Lira.xlsx')  #Carregando o arquivo\n",
    "pagina_ativa=planilha.active                       #Selecionando a worksheet ativa \n",
    "\n",
    "\n",
    "print(pagina_ativa['C5'].value) \n",
    "print(pagina_ativa['C5'].column)\n",
    "\n",
    "'Aqui, estamos pedindo para que o openpyxl printe o valor da célula C5'\n",
    "'Também pedimos para o openpyxl nos revelar o valor da coluna da célula escolhida'"
   ]
  },
  {
   "cell_type": "code",
   "execution_count": 19,
   "id": "59e3f4f7-1b61-4822-a2e4-04b6aa2343b4",
   "metadata": {
    "collapsed": true,
    "jupyter": {
     "outputs_hidden": true
    },
    "tags": []
   },
   "outputs": [
    {
     "data": {
      "text/plain": [
       "'Quando você for abrir o arquivo, repare que tanto as fórmulas das outras colunas, quanto o gráfico\\nplotado serão preservados!'"
      ]
     },
     "execution_count": 19,
     "metadata": {},
     "output_type": "execute_result"
    }
   ],
   "source": [
    "# Vamos continuar nossas atividades no openpyxl\n",
    "# Iremos fazer a mesma substituição do Multiplicador Imposto realizado no pandas\n",
    "\n",
    "planilha=load_workbook('Excel_Exemplo_Lira.xlsx')\n",
    "pagina_ativa=planilha.active\n",
    "for celula in pagina_ativa['E']: #Lembrando: a coluna E é aquela que contém os tipos dos produtos\n",
    "    if celula.value=='Celular':\n",
    "        numero_linha=celula.row\n",
    "        pagina_ativa[f'F{numero_linha}']=1.5 #Aqui, fazemos algo como uma formatação in place do valor da célula!\n",
    "        \n",
    "        \n",
    "planilha.save('openpyxl_teste_Lira.xlsx')\n",
    "\n",
    "'''Quando você for abrir o arquivo, repare que tanto as fórmulas das outras colunas, quanto o gráfico\n",
    "plotado serão preservados!'''\n"
   ]
  },
  {
   "cell_type": "markdown",
   "id": "dd54d6d2-3eb3-4673-a98e-8285b801eb6b",
   "metadata": {
    "tags": []
   },
   "source": [
    "### 'Agora, vamos complementar o módulo do lira com um vídeo sobre o openpyxl do Tech With Tim' ###"
   ]
  },
  {
   "cell_type": "code",
   "execution_count": 120,
   "id": "9a8fa388-e647-46cb-b0c4-8e10999533dd",
   "metadata": {},
   "outputs": [
    {
     "data": {
      "text/html": [
       "<div>\n",
       "<style scoped>\n",
       "    .dataframe tbody tr th:only-of-type {\n",
       "        vertical-align: middle;\n",
       "    }\n",
       "\n",
       "    .dataframe tbody tr th {\n",
       "        vertical-align: top;\n",
       "    }\n",
       "\n",
       "    .dataframe thead th {\n",
       "        text-align: right;\n",
       "    }\n",
       "</style>\n",
       "<table border=\"1\" class=\"dataframe\">\n",
       "  <thead>\n",
       "    <tr style=\"text-align: right;\">\n",
       "      <th></th>\n",
       "      <th>B</th>\n",
       "      <th>C</th>\n",
       "      <th>D</th>\n",
       "      <th>E</th>\n",
       "      <th>F</th>\n",
       "      <th>G</th>\n",
       "      <th>H</th>\n",
       "      <th>I</th>\n",
       "    </tr>\n",
       "  </thead>\n",
       "  <tbody>\n",
       "    <tr>\n",
       "      <th>2</th>\n",
       "      <td>Produto</td>\n",
       "      <td>Preço</td>\n",
       "      <td>Tipo</td>\n",
       "      <td>Multiplicador Impoto</td>\n",
       "      <td>Quantidade 1° Semestre</td>\n",
       "      <td>Receita 1° Semestre</td>\n",
       "      <td>Quantidade 2° Semestre</td>\n",
       "      <td>Receita 2° Semestre</td>\n",
       "    </tr>\n",
       "    <tr>\n",
       "      <th>3</th>\n",
       "      <td>Iphone 12</td>\n",
       "      <td>3100</td>\n",
       "      <td>Celular</td>\n",
       "      <td>1.2</td>\n",
       "      <td>23</td>\n",
       "      <td>85560</td>\n",
       "      <td>12</td>\n",
       "      <td>44640</td>\n",
       "    </tr>\n",
       "    <tr>\n",
       "      <th>4</th>\n",
       "      <td>Samsung A-30</td>\n",
       "      <td>1200</td>\n",
       "      <td>Celular</td>\n",
       "      <td>1.2</td>\n",
       "      <td>42</td>\n",
       "      <td>60480</td>\n",
       "      <td>31</td>\n",
       "      <td>44640</td>\n",
       "    </tr>\n",
       "    <tr>\n",
       "      <th>5</th>\n",
       "      <td>XBOX One</td>\n",
       "      <td>1900</td>\n",
       "      <td>Console</td>\n",
       "      <td>1.3</td>\n",
       "      <td>11</td>\n",
       "      <td>27170</td>\n",
       "      <td>21</td>\n",
       "      <td>51870</td>\n",
       "    </tr>\n",
       "    <tr>\n",
       "      <th>6</th>\n",
       "      <td>PS4</td>\n",
       "      <td>2100</td>\n",
       "      <td>Console</td>\n",
       "      <td>1.3</td>\n",
       "      <td>9</td>\n",
       "      <td>24570</td>\n",
       "      <td>19</td>\n",
       "      <td>51870</td>\n",
       "    </tr>\n",
       "  </tbody>\n",
       "</table>\n",
       "</div>"
      ],
      "text/plain": [
       "              B      C        D                     E                       F  \\\n",
       "2       Produto  Preço     Tipo  Multiplicador Impoto  Quantidade 1° Semestre   \n",
       "3     Iphone 12   3100  Celular                   1.2                      23   \n",
       "4  Samsung A-30   1200  Celular                   1.2                      42   \n",
       "5      XBOX One   1900  Console                   1.3                      11   \n",
       "6           PS4   2100  Console                   1.3                       9   \n",
       "\n",
       "                     G                       H                    I  \n",
       "2  Receita 1° Semestre  Quantidade 2° Semestre  Receita 2° Semestre  \n",
       "3                85560                      12                44640  \n",
       "4                60480                      31                44640  \n",
       "5                27170                      21                51870  \n",
       "6                24570                      19                51870  "
      ]
     },
     "metadata": {},
     "output_type": "display_data"
    },
    {
     "data": {
      "text/plain": [
       "'Fizemos um pequeno tratamento no DataFrame: note que, agora, os nomes das colunas e index são\\nequivalentes aos daqueles do arquivo em Excel.\\n\\n    Dessa forma, a localização das células se tornará mais simples'"
      ]
     },
     "execution_count": 120,
     "metadata": {},
     "output_type": "execute_result"
    }
   ],
   "source": [
    "# Como um verificador de nossas alterações no workbook, utilizaremos esta view do arquivo com o pandas \n",
    "\n",
    "import pandas as pd\n",
    "import numpy as np\n",
    "a=pd.read_excel('Excel_Exemplo_Lira.xlsx')\n",
    "\n",
    "l=['0','A','B','C','D','E','F','G','H','I','J']\n",
    "\n",
    "d1={f'Unnamed: {i}':letter for i, letter in enumerate(l)}\n",
    "d2={x:y for x,y in zip(np.arange(0,5), np.arange(2,7))}\n",
    "\n",
    "a.rename(columns=d1, index=d2, inplace=True)\n",
    "a.drop(a.iloc[:,[0,1]], axis=1,inplace=True)\n",
    "display(a)\n",
    "\n",
    "'''Fizemos um pequeno tratamento no DataFrame: note que, agora, os nomes das colunas e index são\n",
    "equivalentes aos daqueles do arquivo em Excel.\n",
    "\n",
    "    Dessa forma, a localização das células se tornará mais simples'''"
   ]
  },
  {
   "cell_type": "code",
   "execution_count": 104,
   "id": "a38f3b3a-9a3c-4620-94ea-3b1a13126e90",
   "metadata": {},
   "outputs": [
    {
     "name": "stdout",
     "output_type": "stream",
     "text": [
      "None\n"
     ]
    },
    {
     "data": {
      "text/plain": [
       "'Lembre-se sempre de utilizar .value para essas operações!'"
      ]
     },
     "execution_count": 104,
     "metadata": {},
     "output_type": "execute_result"
    }
   ],
   "source": [
    "from openpyxl import Workbook, load_workbook\n",
    "\n",
    "wb = load_workbook('Excel_Exemplo_Lira.xlsx')\n",
    "ws = wb.active #Abrindo a worksheet ativa do nosso Workbook\n",
    "\n",
    "print(ws['C3'].value) #Printando o valor de uma determinada célula em nossa worksheet\n",
    "\n",
    "'''Lembre-se sempre de utilizar .value para essas operações!'''\n"
   ]
  },
  {
   "cell_type": "code",
   "execution_count": 89,
   "id": "c5ec0fc6-8ba3-4de1-820f-761b909a9520",
   "metadata": {},
   "outputs": [
    {
     "data": {
      "text/plain": [
       "'Como visto em nossa view, a célula C3 agora não é mais Iphone 11, e sim, Iphone 12'"
      ]
     },
     "execution_count": 89,
     "metadata": {},
     "output_type": "execute_result"
    }
   ],
   "source": [
    "#Agora, vamos alterar o valor de uma determinada célula\n",
    "\n",
    "ws['C3']='Iphone 12'  #Nota: para a alteração de valores, não precisamos do comando .value\n",
    "wb.save('Excel_Exemplo_Lira.xlsx')\n",
    "\n",
    "'Como visto em nossa view, a célula C3 agora não é mais Iphone 11, e sim, Iphone 12'"
   ]
  },
  {
   "cell_type": "code",
   "execution_count": 99,
   "id": "8ff97127-7f2e-4852-a60d-5663741f15a1",
   "metadata": {},
   "outputs": [
    {
     "name": "stdout",
     "output_type": "stream",
     "text": [
      "['Mercado', 'Teste Sheet']\n",
      "<Worksheet \"Teste Sheet\">\n"
     ]
    }
   ],
   "source": [
    "# Vamos aprender a buscar uma worksheet que não seja a active\n",
    "\n",
    "print(wb.sheetnames)  # Printando os nomes das worksheets de nosso arquivo\n",
    "\n",
    "\n",
    "'Tendo isso em vista, caso quiséssemos trabalhar com a worksheet Teste Sheet, deveríamos realizar:'\n",
    "\n",
    "wb=load_workbook('Excel_Exemplo_Lira.xlsx')\n",
    "ws = wb['Teste Sheet']\n",
    "print(ws)"
   ]
  },
  {
   "cell_type": "code",
   "execution_count": 102,
   "id": "253d6ba8-3e23-4184-8b98-bc1878afe243",
   "metadata": {},
   "outputs": [
    {
     "name": "stdout",
     "output_type": "stream",
     "text": [
      "['Mercado', 'Teste Sheet', 'OpenPyXL', 'OpenPyXL1', 'OpenPyXL2']\n"
     ]
    }
   ],
   "source": [
    "# Agora, vamos criar uma nova worksheet em nosso arquivo\n",
    "\n",
    "wb.create_sheet('OpenPyXL')\n",
    "'Realizar este comando apenas uma vez: caso o contrário, o python criará novas worksheets (teste, teste1, teste2, etc)'\n",
    "\n",
    "print(wb.sheetnames)"
   ]
  },
  {
   "cell_type": "code",
   "execution_count": 118,
   "id": "dbf71292-8796-453d-a30f-504ff33cc203",
   "metadata": {},
   "outputs": [],
   "source": [
    "# Agora, vamos criar o nosso próprio workbook!\n",
    "\n",
    "wb= Workbook()\n",
    "ws= wb.active\n",
    "ws.title='Notas Escola'\n",
    "\n",
    "'Para adicionar de maneira rápida valores, podemos utlizar o comando append'\n",
    "\n",
    "ws.append(['Matéria','1° Tri','2° Tri','3° Tri','Soma Notas'])\n",
    "ws.append(['Matemática', 7.5, 8, 4.5, '=SUM(B2,C2,D2)'])\n",
    "ws.append(['Português',4,6,9.5,'=AVERAGE(B3:D3)'])\n",
    "\n",
    "wb.save('primeiro_openpyxl.xlsx')\n",
    "\n",
    "#Parei no instante 13:10!"
   ]
  },
  {
   "cell_type": "code",
   "execution_count": 25,
   "id": "f1756b5a-3432-412b-92ca-642f228ad536",
   "metadata": {},
   "outputs": [],
   "source": [
    "from openpyxl import Workbook, load_workbook\n",
    "\n",
    "wb=Workbook()\n",
    "ws=wb.active\n",
    "ws.title='Dados Balada'\n",
    "\n",
    "balada=pd.read_csv('balada.csv',skipinitialspace=True, header=None)\n",
    "for i in range(len(balada)):\n",
    "    a=[dados for dados in balada.iloc[i,:]]\n",
    "    ws.append(a)\n",
    "\n",
    "\n",
    "wb.save('Balada_Teste.xlsx')\n"
   ]
  },
  {
   "cell_type": "code",
   "execution_count": 26,
   "id": "50c7fdd6-7795-481a-ace0-dc6bc44c97bd",
   "metadata": {},
   "outputs": [
    {
     "data": {
      "text/plain": [
       "<Worksheet \"Camarote\">"
      ]
     },
     "execution_count": 26,
     "metadata": {},
     "output_type": "execute_result"
    }
   ],
   "source": [
    "wb.create_sheet('Camarote')"
   ]
  },
  {
   "cell_type": "code",
   "execution_count": 30,
   "id": "422cfabe-f85d-466e-bddf-1a4a45b778d5",
   "metadata": {},
   "outputs": [],
   "source": [
    "ws=wb['Camarote']\n",
    "\n",
    "bar=pd.read_csv('bar_camarote.csv', header=None)\n",
    "\n",
    "for i in range(len(bar)):\n",
    "    a=[dados for dados in bar.iloc[i,:]]\n",
    "    ws.append(a)\n",
    "    \n",
    "wb.save('Balada_Teste.xlsx')"
   ]
  },
  {
   "cell_type": "code",
   "execution_count": 37,
   "id": "3bd5a7f5-47be-454c-98bf-ce6309f2c112",
   "metadata": {},
   "outputs": [],
   "source": [
    "# Acessando valores individuais de células\n",
    "from openpyxl import Workbook, load_workbook\n",
    "from openpyxl.utils import get_column_letter\n",
    "\n",
    "wb=Workbook()\n",
    "ws=wb.active\n",
    "ws.title='Nomeando células'\n",
    "\n",
    "# Para o loop, utilizaremos get_column_name, que transforma uma integer em um nome de coluna Excel\n",
    "for row in range(1,5):\n",
    "    for column in range(1,5):\n",
    "        column=get_column_letter(column)\n",
    "        ws[column + str(row)] = column + str(row)\n",
    "        \n",
    "wb.save('Nomes_Celulas.xlsx')"
   ]
  },
  {
   "cell_type": "code",
   "execution_count": 38,
   "id": "1f0f986b-b36d-4689-ba18-042359e58d58",
   "metadata": {},
   "outputs": [
    {
     "data": {
      "text/plain": [
       "<Worksheet \"Merge Cells\">"
      ]
     },
     "execution_count": 38,
     "metadata": {},
     "output_type": "execute_result"
    }
   ],
   "source": [
    "# Podemos utilizar o openpyxl para fundir células\n",
    "# PS: Para essa tarefa, vamos reutilizar o arquivo da questão anterior criando uma nova sheet\n",
    "wb = load_workbook('Nomes_Celulas.xlsx')\n",
    "wb.create_sheet('Merge Cells')"
   ]
  },
  {
   "cell_type": "code",
   "execution_count": 41,
   "id": "ebae661b-1a8a-4244-b030-4cb226eaeabe",
   "metadata": {},
   "outputs": [],
   "source": [
    "ws=wb['Merge Cells']\n",
    "ws.merge_cells('A1:E1')\n",
    "ws['A1']='Estas células sofreram um merge'\n",
    "\n",
    "# Se você quiser reverter o merge, escreva ws.unmerge_cells('A1:E1')\n",
    "wb.save('Nomes_Celulas.xlsx')"
   ]
  },
  {
   "cell_type": "code",
   "execution_count": null,
   "id": "eeaef6dc-3e86-4464-86d1-98e0d71cd829",
   "metadata": {},
   "outputs": [],
   "source": [
    "# Podemos, também, fazer o insert de novas linhas e colunas\n",
    "wb = load_workbook('Balada_Teste.xlsx')\n",
    "ws = wb['Dados Balada']\n",
    "\n",
    "ws.insert_rows(7)\n",
    "\n",
    "#PS: O comando para a inserção de novas colunas é ws.insert_cols(Numeração da Coluna) -> A=1; B=2, etc"
   ]
  },
  {
   "cell_type": "code",
   "execution_count": 45,
   "id": "4a965502-1b2a-42a4-a695-57a8550baa8b",
   "metadata": {},
   "outputs": [],
   "source": [
    "# Com a linha inserida, vamos preenchê-la com novos dados\n",
    "\n",
    "l = ['Gilberto Carvalho', 'Masculino', 131312, 'Pista', 'Marcos LTDA', '31/03', 59.99]\n",
    "for column_number in range(1,8):\n",
    "    column_letter = get_column_letter(column_number)\n",
    "    ws[column_letter + str(7)] = l[column_number - 1]\n",
    "    \n",
    "\n",
    "wb.save('Balada_Teste.xlsx')"
   ]
  },
  {
   "cell_type": "code",
   "execution_count": 48,
   "id": "7781c1dd-fa6b-40b1-ac8b-3003dcccd162",
   "metadata": {},
   "outputs": [],
   "source": [
    "# Deletando uma linha/coluna criada\n",
    "# Obs: Ainda utilizaremos o arquivo da Balada!\n",
    "\n",
    "ws.delete_rows(3)\n",
    "\n",
    "wb.save('Balada_Teste.xlsx')\n"
   ]
  },
  {
   "cell_type": "code",
   "execution_count": 51,
   "id": "29ce8d17-9f9e-4515-a35b-d6ffa80583e8",
   "metadata": {},
   "outputs": [],
   "source": [
    "# Podemos mover um conjunto de dados de um lugar da planilha para outro\n",
    "# Obs: Ainda estamos utilizando o arquivo da Balada\n",
    "\n",
    "ws = wb['Dados Balada']\n",
    "ws.move_range('A1:G6', rows=5, cols=5)\n",
    "\n",
    "wb.save('Balada_Teste.xlsx')"
   ]
  },
  {
   "cell_type": "code",
   "execution_count": 58,
   "id": "d9844899-1718-4845-922f-f29d92046d9f",
   "metadata": {},
   "outputs": [],
   "source": [
    "# Vamos criar um novo workbook inserir agora uma série de dados\n",
    "\n",
    "wb = Workbook()\n",
    "ws = wb.active\n",
    "ws.title = 'Notas'\n",
    "\n",
    "dados = {'Felipe' : {'Matemática' : 6.5, 'Português' : 7, 'História':8}, \n",
    "        'Guilherme' : {'Matemática' : 9, 'Português' : 8.5, 'História' : 6.5},\n",
    "        'Eduardo' : {'Matemática' : 3, 'Português' : 1.5, 'História' : 10}\n",
    "        } \n",
    "\n",
    "# Primeiramente, vamos criar um header para o arquivo\n",
    "header = ['Nome'] + list(dados['Felipe'].keys())\n",
    "ws.append(header)\n",
    "\n",
    "wb.save('Boletim.xlsx')\n"
   ]
  },
  {
   "cell_type": "code",
   "execution_count": 61,
   "id": "a643a0b1-210a-458b-a843-51e3a7071b46",
   "metadata": {},
   "outputs": [],
   "source": [
    "# Agora, vamos inserir os nomes dos alunos e suas respectivas notas\n",
    "\n",
    "# Como os dicionários não possuem index, devemos utilizar um loop para acessar os seus dados\n",
    "for person in dados:\n",
    "    grades = list(dados[person].values())\n",
    "    ws.append([person] + grades )\n",
    "    \n",
    "wb.save('Boletim.xlsx')"
   ]
  },
  {
   "cell_type": "code",
   "execution_count": 65,
   "id": "14daa06f-5405-4bac-9672-57fe6f3fac94",
   "metadata": {},
   "outputs": [],
   "source": [
    "# Criando mais um elemento no header\n",
    "ws['E1'] = 'Média'\n",
    "wb.save('Boletim.xlsx')"
   ]
  },
  {
   "cell_type": "code",
   "execution_count": 64,
   "id": "09734cad-195a-4e9e-a0e0-debc2eaa8214",
   "metadata": {},
   "outputs": [],
   "source": [
    "# Vamos inserir a média geral das notas disponíveis\n",
    "        \n",
    "for row in range (2,5):\n",
    "    ws[f'E{row}'] = f'=AVERAGE(B{row}:D{row})'\n",
    "\n",
    "wb.save('Boletim.xlsx')\n",
    "    "
   ]
  },
  {
   "cell_type": "code",
   "execution_count": 68,
   "id": "45a35e43-5f5c-41a3-a48e-319bd6b9b0e6",
   "metadata": {},
   "outputs": [],
   "source": [
    "# Aqui, fiz apenas uma correção dos dados\n",
    "for i in range(2):\n",
    "    ws.delete_rows(5)\n",
    "\n",
    "wb.save('Boletim.xlsx')"
   ]
  },
  {
   "cell_type": "code",
   "execution_count": 9,
   "id": "ce118657-e9ed-42b4-aaae-d675f138b2f5",
   "metadata": {},
   "outputs": [
    {
     "data": {
      "text/plain": [
       "<Worksheet \"Grades USA\">"
      ]
     },
     "execution_count": 9,
     "metadata": {},
     "output_type": "execute_result"
    }
   ],
   "source": [
    "# Dia 11/09/2021: Parei no instante 30:15\n",
    "from openpyxl import Workbook, load_workbook\n",
    "wb = load_workbook('Boletim.xlsx')\n",
    "wb.create_sheet('Grades USA')"
   ]
  },
  {
   "cell_type": "code",
   "execution_count": 11,
   "id": "2fe9a0fd-bcbc-4369-9bc6-d3d507dccfc8",
   "metadata": {},
   "outputs": [],
   "source": [
    "ws = wb['Grades USA']\n",
    "\n",
    "d={'Jefferson':{'Math':'A+','Literature':'C','Chemistry':'B-'},\n",
    "  'Arnaldo':{'Math':'D+','Literature':'C-','Chemistry':'A+'},\n",
    "  'Oliver':{'Math':'C+','Literature':'F','Chemistry':'A-'}\n",
    "  }\n",
    "\n",
    "l = ['Name'] + list(d['Jefferson'].keys())\n",
    "ws.append(l)\n",
    "\n",
    "wb.save('Boletim.xlsx')"
   ]
  },
  {
   "cell_type": "code",
   "execution_count": 12,
   "id": "0ecee5c3-aa31-4c6e-a418-7568d96707b5",
   "metadata": {},
   "outputs": [],
   "source": [
    "ws.delete_rows(2)"
   ]
  },
  {
   "cell_type": "code",
   "execution_count": 13,
   "id": "eb03cf5a-4c1b-4c7e-ab48-3b00374b7f32",
   "metadata": {},
   "outputs": [],
   "source": [
    "wb.save('Boletim.xlsx')"
   ]
  },
  {
   "cell_type": "code",
   "execution_count": 14,
   "id": "2e74df2b-1ab3-496b-a04e-14303712d235",
   "metadata": {},
   "outputs": [],
   "source": [
    "for person in d:\n",
    "    ws.append([person]+[grade for grade in d[person].values()])"
   ]
  },
  {
   "cell_type": "code",
   "execution_count": 16,
   "id": "4a70d6b0-fea7-44c3-882e-aa2bc6409159",
   "metadata": {},
   "outputs": [],
   "source": [
    "wb.save('Boletim.xlsx')"
   ]
  },
  {
   "cell_type": "code",
   "execution_count": 23,
   "id": "e8e7e486-8bd8-4c76-bbe7-821197bf4ccc",
   "metadata": {},
   "outputs": [],
   "source": [
    "from openpyxl.utils import get_column_letter\n",
    "from openpyxl.styles import Font\n",
    "\n",
    "for column_number in range(1,len(d['Jefferson'].values()) + 2):\n",
    "    column_letter = get_column_letter(column_number)\n",
    "    ws[f'{column_letter}{1}'].font = Font(name='Times New Roman',bold=True, italic=True )\n",
    "    \n",
    "wb.save('Boletim.xlsx')"
   ]
  },
  {
   "cell_type": "markdown",
   "id": "1859d1e9-d557-4d8c-8829-0d7b3086709e",
   "metadata": {},
   "source": [
    "# Agora, estamos voltando aos vídeos do Lira!"
   ]
  },
  {
   "cell_type": "code",
   "execution_count": 41,
   "id": "ea1682e4-a38b-4c99-8ba0-756d20063027",
   "metadata": {},
   "outputs": [
    {
     "data": {
      "text/html": [
       "<div>\n",
       "<style scoped>\n",
       "    .dataframe tbody tr th:only-of-type {\n",
       "        vertical-align: middle;\n",
       "    }\n",
       "\n",
       "    .dataframe tbody tr th {\n",
       "        vertical-align: top;\n",
       "    }\n",
       "\n",
       "    .dataframe thead th {\n",
       "        text-align: right;\n",
       "    }\n",
       "</style>\n",
       "<table border=\"1\" class=\"dataframe\">\n",
       "  <thead>\n",
       "    <tr style=\"text-align: right;\">\n",
       "      <th></th>\n",
       "      <th>Author</th>\n",
       "      <th>Quantity</th>\n",
       "    </tr>\n",
       "    <tr>\n",
       "      <th>Book</th>\n",
       "      <th></th>\n",
       "      <th></th>\n",
       "    </tr>\n",
       "  </thead>\n",
       "  <tbody>\n",
       "    <tr>\n",
       "      <th>Edgar Allan Poe Short</th>\n",
       "      <td>E.A Poe</td>\n",
       "      <td>7</td>\n",
       "    </tr>\n",
       "    <tr>\n",
       "      <th>The Adventures of Sherlock Holmes</th>\n",
       "      <td>Sir Arthur Conan Doyle</td>\n",
       "      <td>1</td>\n",
       "    </tr>\n",
       "    <tr>\n",
       "      <th>Machiavelli: Genious or the Demonic Confusion?</th>\n",
       "      <td>Olavo de Carvalho</td>\n",
       "      <td>24</td>\n",
       "    </tr>\n",
       "    <tr>\n",
       "      <th>Le Crime au Père Boniface</th>\n",
       "      <td>Guy de Maupassant</td>\n",
       "      <td>3</td>\n",
       "    </tr>\n",
       "  </tbody>\n",
       "</table>\n",
       "</div>"
      ],
      "text/plain": [
       "                                                                Author  \\\n",
       "Book                                                                     \n",
       "Edgar Allan Poe Short                                          E.A Poe   \n",
       "The Adventures of Sherlock Holmes               Sir Arthur Conan Doyle   \n",
       "Machiavelli: Genious or the Demonic Confusion?       Olavo de Carvalho   \n",
       "Le Crime au Père Boniface                            Guy de Maupassant   \n",
       "\n",
       "                                                Quantity  \n",
       "Book                                                      \n",
       "Edgar Allan Poe Short                                  7  \n",
       "The Adventures of Sherlock Holmes                      1  \n",
       "Machiavelli: Genious or the Demonic Confusion?        24  \n",
       "Le Crime au Père Boniface                              3  "
      ]
     },
     "execution_count": 41,
     "metadata": {},
     "output_type": "execute_result"
    }
   ],
   "source": [
    "import pandas as pd\n",
    "from pandas import DataFrame, Series\n",
    "import numpy as np\n",
    "bookstore = pd.read_csv('bookstore.csv', index_col=0, skipinitialspace=True)\n",
    "bookstore.loc[bookstore.index == 'Machiavelli: Genious or the Demonic Confusion?', 'Quantity'] +=23\n",
    "\n",
    "bookstore"
   ]
  },
  {
   "cell_type": "code",
   "execution_count": null,
   "id": "75694146-4c3b-46b7-9836-4e071735f4ad",
   "metadata": {},
   "outputs": [],
   "source": [
    "from tqdm import tqdm\n",
    "\n",
    "pbar = tqdm(total=len(np.arange(100)), position=0, leave=True)\n",
    "for i in range(1000000000000000000):\n",
    "    pbar.update()\n",
    "    print(i)"
   ]
  },
  {
   "cell_type": "code",
   "execution_count": null,
   "id": "8f8ce677-5449-443c-a622-f9defb3f2381",
   "metadata": {},
   "outputs": [],
   "source": []
  }
 ],
 "metadata": {
  "kernelspec": {
   "display_name": "Python 3",
   "language": "python",
   "name": "python3"
  },
  "language_info": {
   "codemirror_mode": {
    "name": "ipython",
    "version": 3
   },
   "file_extension": ".py",
   "mimetype": "text/x-python",
   "name": "python",
   "nbconvert_exporter": "python",
   "pygments_lexer": "ipython3",
   "version": "3.8.8"
  }
 },
 "nbformat": 4,
 "nbformat_minor": 5
}
