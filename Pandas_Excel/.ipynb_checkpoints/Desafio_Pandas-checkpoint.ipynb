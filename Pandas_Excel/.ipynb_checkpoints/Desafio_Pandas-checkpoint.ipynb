{
 "cells": [
  {
   "cell_type": "code",
   "execution_count": 1,
   "id": "03a385ef-7ca7-4780-a63d-da72fb9bfa12",
   "metadata": {},
   "outputs": [],
   "source": [
    "import pandas as pd\n",
    "import numpy as np"
   ]
  },
  {
   "cell_type": "code",
   "execution_count": 48,
   "id": "cc8e5384-b65c-422d-bd36-dd26a900549e",
   "metadata": {},
   "outputs": [
    {
     "data": {
      "text/html": [
       "<div>\n",
       "<style scoped>\n",
       "    .dataframe tbody tr th:only-of-type {\n",
       "        vertical-align: middle;\n",
       "    }\n",
       "\n",
       "    .dataframe tbody tr th {\n",
       "        vertical-align: top;\n",
       "    }\n",
       "\n",
       "    .dataframe thead th {\n",
       "        text-align: right;\n",
       "    }\n",
       "</style>\n",
       "<table border=\"1\" class=\"dataframe\">\n",
       "  <thead>\n",
       "    <tr style=\"text-align: right;\">\n",
       "      <th></th>\n",
       "      <th>Codigo do Servico</th>\n",
       "      <th>ID Funcionário</th>\n",
       "      <th>ID Cliente</th>\n",
       "      <th>Tempo Total de Contrato (Meses)</th>\n",
       "    </tr>\n",
       "  </thead>\n",
       "  <tbody>\n",
       "    <tr>\n",
       "      <th>0</th>\n",
       "      <td>OS0001</td>\n",
       "      <td>67</td>\n",
       "      <td>1</td>\n",
       "      <td>14</td>\n",
       "    </tr>\n",
       "    <tr>\n",
       "      <th>1</th>\n",
       "      <td>OS0002</td>\n",
       "      <td>17</td>\n",
       "      <td>2</td>\n",
       "      <td>12</td>\n",
       "    </tr>\n",
       "    <tr>\n",
       "      <th>2</th>\n",
       "      <td>OS0003</td>\n",
       "      <td>116</td>\n",
       "      <td>4</td>\n",
       "      <td>14</td>\n",
       "    </tr>\n",
       "    <tr>\n",
       "      <th>3</th>\n",
       "      <td>OS0004</td>\n",
       "      <td>37</td>\n",
       "      <td>5</td>\n",
       "      <td>8</td>\n",
       "    </tr>\n",
       "    <tr>\n",
       "      <th>4</th>\n",
       "      <td>OS0005</td>\n",
       "      <td>130</td>\n",
       "      <td>6</td>\n",
       "      <td>8</td>\n",
       "    </tr>\n",
       "    <tr>\n",
       "      <th>...</th>\n",
       "      <td>...</td>\n",
       "      <td>...</td>\n",
       "      <td>...</td>\n",
       "      <td>...</td>\n",
       "    </tr>\n",
       "    <tr>\n",
       "      <th>232</th>\n",
       "      <td>OS0233</td>\n",
       "      <td>111</td>\n",
       "      <td>315</td>\n",
       "      <td>4</td>\n",
       "    </tr>\n",
       "    <tr>\n",
       "      <th>233</th>\n",
       "      <td>OS0234</td>\n",
       "      <td>124</td>\n",
       "      <td>316</td>\n",
       "      <td>8</td>\n",
       "    </tr>\n",
       "    <tr>\n",
       "      <th>234</th>\n",
       "      <td>OS0235</td>\n",
       "      <td>72</td>\n",
       "      <td>317</td>\n",
       "      <td>6</td>\n",
       "    </tr>\n",
       "    <tr>\n",
       "      <th>235</th>\n",
       "      <td>OS0236</td>\n",
       "      <td>90</td>\n",
       "      <td>319</td>\n",
       "      <td>14</td>\n",
       "    </tr>\n",
       "    <tr>\n",
       "      <th>236</th>\n",
       "      <td>OS0237</td>\n",
       "      <td>22</td>\n",
       "      <td>320</td>\n",
       "      <td>12</td>\n",
       "    </tr>\n",
       "  </tbody>\n",
       "</table>\n",
       "<p>237 rows × 4 columns</p>\n",
       "</div>"
      ],
      "text/plain": [
       "    Codigo do Servico  ID Funcionário  ID Cliente  \\\n",
       "0              OS0001              67           1   \n",
       "1              OS0002              17           2   \n",
       "2              OS0003             116           4   \n",
       "3              OS0004              37           5   \n",
       "4              OS0005             130           6   \n",
       "..                ...             ...         ...   \n",
       "232            OS0233             111         315   \n",
       "233            OS0234             124         316   \n",
       "234            OS0235              72         317   \n",
       "235            OS0236              90         319   \n",
       "236            OS0237              22         320   \n",
       "\n",
       "     Tempo Total de Contrato (Meses)  \n",
       "0                                 14  \n",
       "1                                 12  \n",
       "2                                 14  \n",
       "3                                  8  \n",
       "4                                  8  \n",
       "..                               ...  \n",
       "232                                4  \n",
       "233                                8  \n",
       "234                                6  \n",
       "235                               14  \n",
       "236                               12  \n",
       "\n",
       "[237 rows x 4 columns]"
      ]
     },
     "metadata": {},
     "output_type": "display_data"
    }
   ],
   "source": [
    "servicos = pd.read_excel('BaseServiçosPrestados.xlsx')\n",
    "servicos.drop(servicos.iloc[:,[4,5]], axis = 1, inplace = True)\n",
    "display(servicos)\n",
    "\n",
    "clientes = pd.read_csv('CadastroClientes.csv', sep=';')\n",
    "#display(clientes)\n",
    "\n",
    "funcionarios = pd.read_csv('CadastroFuncionarios.csv', sep=';', decimal=',')\n",
    "#display(funcionarios)"
   ]
  },
  {
   "cell_type": "code",
   "execution_count": 99,
   "id": "0d7ce586-9092-4636-85fb-f3f73f29fdb2",
   "metadata": {
    "tags": []
   },
   "outputs": [],
   "source": [
    "#Pré Exercício 1: Readequando os valores numéricos\n",
    "for row in range(len(funcionarios)):\n",
    "    for column in range(3, 8):\n",
    "        if funcionarios.dtypes[column] != 'int64':\n",
    "            funcionarios.iloc[row, column] = funcionarios.iloc[row, column].replace(',', '.')"
   ]
  },
  {
   "cell_type": "code",
   "execution_count": 113,
   "id": "a0e964f5-c6ef-417c-8b9f-cdb453883bcc",
   "metadata": {
    "tags": []
   },
   "outputs": [],
   "source": [
    "funcionarios = funcionarios.astype({'Salario Base':'float', 'Impostos':'float','Beneficios':'float',\n",
    "                                   'Impostos':'float','VT':'float','VR':'float'})"
   ]
  },
  {
   "cell_type": "code",
   "execution_count": 44,
   "id": "ecffbc1b-53bf-42c1-a42d-b56408a761d7",
   "metadata": {
    "tags": []
   },
   "outputs": [
    {
     "name": "stdout",
     "output_type": "stream",
     "text": [
      "O total gasto com funcionários foi R$2,717,493.22\n"
     ]
    }
   ],
   "source": [
    "# Exercício 1\n",
    "soma = 0\n",
    "for row in range(len(funcionarios)):\n",
    "    soma += funcionarios.iloc[row, 3:8].sum() \n",
    "    \n",
    "print('O total gasto com funcionários foi R${:,}'.format(soma))\n",
    "\n",
    "# Dica, podemos utilziar {:,} para se ter uma vírgula como separador de cada de milhar"
   ]
  },
  {
   "cell_type": "code",
   "execution_count": 46,
   "id": "6694faf3-8db4-4f3d-b3e8-edcd8b10c357",
   "metadata": {},
   "outputs": [
    {
     "name": "stdout",
     "output_type": "stream",
     "text": [
      "O faturamento foi de R$5,519,160\n"
     ]
    }
   ],
   "source": [
    "#Exercício 2\n",
    "quest2 = clientes.merge(servicos)\n",
    "quest2.drop(quest2.iloc[:,[1,3,4]], axis=1, inplace=True)\n",
    "quest2.set_index('ID Cliente', inplace=True)\n",
    "\n",
    "faturamento = sum(quest2.iloc[:,0] * quest2.iloc[:,1]) \n",
    "\n",
    "print('O faturamento foi de R${:,}'.format(faturamento))"
   ]
  },
  {
   "cell_type": "code",
   "execution_count": 52,
   "id": "1805055e-9814-4c6f-847a-cf507b881a3c",
   "metadata": {},
   "outputs": [
    {
     "name": "stdout",
     "output_type": "stream",
     "text": [
      "O percentual foi de 76.31578947368422%\n"
     ]
    }
   ],
   "source": [
    "# Exercício 3\n",
    "\n",
    "#Revisar! Eu poderia ter utilizado funcionarios.iloc[:,0].unique() !\n",
    "\n",
    "l1 = []\n",
    "l2 = []\n",
    "l3 = []\n",
    "#Criando uma lista com o ID de todos os funcionários da empresa\n",
    "for row in range(len(funcionarios)):\n",
    "    l1.append(funcionarios.iloc[row,0])\n",
    "\n",
    "#Criando uma lista com os valores da coluna ID Funcionário do DF de Serviços\n",
    "for row in range(len(servicos)):\n",
    "    l2.append(servicos.iloc[row, 2])\n",
    "\n",
    "# Criando uma lista que contenha, uma única vez, apenas os ID's dos funcionários que fizeram vendas\n",
    "# Para que não haja repetições, escolhi o comando IN\n",
    "for id in l1:\n",
    "    if id in l2:\n",
    "        if id not in l3:\n",
    "            l3.append(id)   \n",
    "\n",
    "# Por fim, obtenho a porcentagem pedida fazendo a razão entre o len de l3 e o len de l1\n",
    "pct = len(l3) / len(l1)\n",
    "print(f'O percentual foi de {pct*100}%')"
   ]
  },
  {
   "cell_type": "code",
   "execution_count": 192,
   "id": "e6af50b0-1c3b-4b59-85fa-a2e7cfe958a8",
   "metadata": {},
   "outputs": [
    {
     "data": {
      "text/plain": [
       "array([  1,   2,   3,   4,   5,   6,   7,   8,   9,  10,  11,  13,  14,\n",
       "        16,  17,  18,  21,  22,  23,  24,  25,  26,  27,  28,  29,  31,\n",
       "        32,  34,  35,  36,  37,  38,  39,  44,  45,  46,  47,  48,  49,\n",
       "        51,  52,  54,  56,  57,  58,  60,  61,  62,  63,  64,  65,  66,\n",
       "        67,  68,  69,  70,  71,  72,  73,  74,  76,  77,  78,  79,  80,\n",
       "        81,  83,  84,  85,  86,  88,  90,  91,  92,  93,  94,  97,  98,\n",
       "        99, 100, 101, 102, 103, 105, 109, 110, 111, 112, 113, 116, 117,\n",
       "       118, 119, 121, 122, 123, 124, 125, 127, 129, 130, 131, 132, 133,\n",
       "       135, 137, 138, 139, 142, 143, 144, 148, 149, 150])"
      ]
     },
     "execution_count": 192,
     "metadata": {},
     "output_type": "execute_result"
    }
   ],
   "source": [
    "funcionarios.iloc[:,0].unique()"
   ]
  },
  {
   "cell_type": "code",
   "execution_count": 53,
   "id": "b88d47f2-34e2-4897-a8b1-946a50ff9cb9",
   "metadata": {},
   "outputs": [
    {
     "data": {
      "text/plain": [
       "Area\n",
       "Administrativo    63\n",
       "Comercial         44\n",
       "Financeiro        42\n",
       "Logística         40\n",
       "Operações         48\n",
       "Name: ID Funcionário, dtype: int64"
      ]
     },
     "metadata": {},
     "output_type": "display_data"
    },
    {
     "data": {
      "text/plain": [
       "Administrativo    63\n",
       "Operações         48\n",
       "Comercial         44\n",
       "Financeiro        42\n",
       "Logística         40\n",
       "Name: Area, dtype: int64"
      ]
     },
     "execution_count": 53,
     "metadata": {},
     "output_type": "execute_result"
    }
   ],
   "source": [
    "# Exercício 4\n",
    "funcionarios_ex4 = funcionarios.drop(funcionarios.iloc[:,1:9], axis=1)\n",
    "servicos_ex4 = servicos.drop(servicos.iloc[:,[0,2,3]], axis=1)\n",
    "ex4 = servicos_ex4.merge(funcionarios_ex4)\n",
    "display(ex4.groupby(['Area'])['ID Funcionário'].count()) \n",
    "\n",
    "# Outra maneira de se fazer o exercício (value_counts())\n",
    "ex4['Area'].value_counts()"
   ]
  },
  {
   "cell_type": "code",
   "execution_count": 35,
   "id": "f4cf2a7c-71f5-4b55-aeed-78eff96c2f1f",
   "metadata": {},
   "outputs": [
    {
     "data": {
      "text/html": [
       "<div>\n",
       "<style scoped>\n",
       "    .dataframe tbody tr th:only-of-type {\n",
       "        vertical-align: middle;\n",
       "    }\n",
       "\n",
       "    .dataframe tbody tr th {\n",
       "        vertical-align: top;\n",
       "    }\n",
       "\n",
       "    .dataframe thead th {\n",
       "        text-align: right;\n",
       "    }\n",
       "</style>\n",
       "<table border=\"1\" class=\"dataframe\">\n",
       "  <thead>\n",
       "    <tr style=\"text-align: right;\">\n",
       "      <th></th>\n",
       "      <th>Número de funcionários</th>\n",
       "    </tr>\n",
       "    <tr>\n",
       "      <th>Area</th>\n",
       "      <th></th>\n",
       "    </tr>\n",
       "  </thead>\n",
       "  <tbody>\n",
       "    <tr>\n",
       "      <th>Administrativo</th>\n",
       "      <td>26</td>\n",
       "    </tr>\n",
       "    <tr>\n",
       "      <th>Comercial</th>\n",
       "      <td>26</td>\n",
       "    </tr>\n",
       "    <tr>\n",
       "      <th>Financeiro</th>\n",
       "      <td>18</td>\n",
       "    </tr>\n",
       "    <tr>\n",
       "      <th>Logística</th>\n",
       "      <td>21</td>\n",
       "    </tr>\n",
       "    <tr>\n",
       "      <th>Operações</th>\n",
       "      <td>23</td>\n",
       "    </tr>\n",
       "  </tbody>\n",
       "</table>\n",
       "</div>"
      ],
      "text/plain": [
       "                Número de funcionários\n",
       "Area                                  \n",
       "Administrativo                      26\n",
       "Comercial                           26\n",
       "Financeiro                          18\n",
       "Logística                           21\n",
       "Operações                           23"
      ]
     },
     "execution_count": 35,
     "metadata": {},
     "output_type": "execute_result"
    }
   ],
   "source": [
    "# Exercício 5\n",
    "funcionarios_ex5 = funcionarios_ex4\n",
    "funcionarios_ex5.groupby(['Area']).count().rename(columns={'ID Funcionário':'Número de funcionários'})"
   ]
  },
  {
   "cell_type": "code",
   "execution_count": 56,
   "id": "8210e8b7-4988-41d9-b0f4-e59d7c1e1e4f",
   "metadata": {},
   "outputs": [
    {
     "name": "stdout",
     "output_type": "stream",
     "text": [
      "O valor é de R$2,502.56\n"
     ]
    }
   ],
   "source": [
    "# Exercício 6\n",
    "a = clientes['Valor Contrato Mensal'].mean()\n",
    "print('O valor é de R${:,.2f}'.format(a))\n",
    "\n",
    "# Para printar apenas duas casas decimais: utlizar .2f"
   ]
  }
 ],
 "metadata": {
  "kernelspec": {
   "display_name": "Python 3",
   "language": "python",
   "name": "python3"
  },
  "language_info": {
   "codemirror_mode": {
    "name": "ipython",
    "version": 3
   },
   "file_extension": ".py",
   "mimetype": "text/x-python",
   "name": "python",
   "nbconvert_exporter": "python",
   "pygments_lexer": "ipython3",
   "version": "3.8.8"
  }
 },
 "nbformat": 4,
 "nbformat_minor": 5
}
