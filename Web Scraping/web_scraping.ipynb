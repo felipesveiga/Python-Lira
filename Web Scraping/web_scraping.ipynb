{
 "cells": [
  {
   "cell_type": "code",
   "execution_count": 2,
   "id": "f475dcb9-a6fa-4c51-8ff3-04b17714e436",
   "metadata": {},
   "outputs": [],
   "source": [
    "from selenium import webdriver"
   ]
  },
  {
   "cell_type": "code",
   "execution_count": 12,
   "id": "2be89128-f209-4bc0-8bc7-ac75fc7be30c",
   "metadata": {},
   "outputs": [
    {
     "name": "stdout",
     "output_type": "stream",
     "text": [
      "YouTube\n"
     ]
    }
   ],
   "source": [
    "# Definindo opções do webdriver do Google Chrome -> Impedir o seu display explícito\n",
    "chrome_options = webdriver.ChromeOptions()\n",
    "chrome_options.add_argument('headless')\n",
    "\n",
    "# Colocando as opções definidas em webdriver.Chrome()\n",
    "driver = webdriver.Chrome(options = chrome_options)\n",
    "driver.get('https://youtube.com')\n",
    "print(driver.title)\n",
    "driver.quit()"
   ]
  },
  {
   "cell_type": "code",
   "execution_count": 15,
   "id": "e927e1e2-7ae4-4643-b074-4a9a1e4ba5df",
   "metadata": {},
   "outputs": [],
   "source": [
    "# Navegando no Google\n",
    "\n",
    "driver = webdriver.Chrome()\n",
    "driver.get('https://google.com/search?q=premier+league+table')"
   ]
  }
 ],
 "metadata": {
  "kernelspec": {
   "display_name": "Python 3",
   "language": "python",
   "name": "python3"
  },
  "language_info": {
   "codemirror_mode": {
    "name": "ipython",
    "version": 3
   },
   "file_extension": ".py",
   "mimetype": "text/x-python",
   "name": "python",
   "nbconvert_exporter": "python",
   "pygments_lexer": "ipython3",
   "version": "3.8.8"
  }
 },
 "nbformat": 4,
 "nbformat_minor": 5
}
