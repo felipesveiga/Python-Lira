{
 "cells": [
  {
   "cell_type": "code",
   "execution_count": 4,
   "id": "47f5d2d6-e90e-42f3-b478-1aa271ac0428",
   "metadata": {},
   "outputs": [
    {
     "name": "stdout",
     "output_type": "stream",
     "text": [
      "    A    B    C\n",
      "1 ['-', '-', '-']\n",
      "2 ['-', '-', '-']\n",
      "3 ['-', '-', '-']\n"
     ]
    },
    {
     "name": "stdin",
     "output_type": "stream",
     "text": [
      "Jogador 1: Digite a sua posição (Exemplo: 2C) ifnewinfewignwe\n"
     ]
    },
    {
     "name": "stdout",
     "output_type": "stream",
     "text": [
      "Jogada inválida! Tente Novamente\n"
     ]
    },
    {
     "name": "stdin",
     "output_type": "stream",
     "text": [
      "Jogador 1: Digite a sua posição (Exemplo: 2C) 12345678\n"
     ]
    },
    {
     "name": "stdout",
     "output_type": "stream",
     "text": [
      "Jogada inválida! Tente Novamente\n"
     ]
    },
    {
     "name": "stdin",
     "output_type": "stream",
     "text": [
      "Jogador 1: Digite a sua posição (Exemplo: 2C) 641\n"
     ]
    },
    {
     "name": "stdout",
     "output_type": "stream",
     "text": [
      "Jogada inválida! Tente Novamente\n"
     ]
    },
    {
     "name": "stdin",
     "output_type": "stream",
     "text": [
      "Jogador 1: Digite a sua posição (Exemplo: 2C) 121\n"
     ]
    },
    {
     "name": "stdout",
     "output_type": "stream",
     "text": [
      "Jogada inválida! Tente Novamente\n"
     ]
    },
    {
     "name": "stdin",
     "output_type": "stream",
     "text": [
      "Jogador 1: Digite a sua posição (Exemplo: 2C) 21\n"
     ]
    },
    {
     "name": "stdout",
     "output_type": "stream",
     "text": [
      "Jogada inválida! Tente Novamente\n"
     ]
    },
    {
     "name": "stdin",
     "output_type": "stream",
     "text": [
      "Jogador 1: Digite a sua posição (Exemplo: 2C) 2A\n"
     ]
    },
    {
     "name": "stdout",
     "output_type": "stream",
     "text": [
      "    A    B    C\n",
      "1 ['-', '-', '-']\n",
      "2 ['X', '-', '-']\n",
      "3 ['-', '-', '-']\n"
     ]
    },
    {
     "name": "stdin",
     "output_type": "stream",
     "text": [
      "Jogador 2: Digite a sua posição (Exemplo: 2C) 1A\n"
     ]
    },
    {
     "name": "stdout",
     "output_type": "stream",
     "text": [
      "    A    B    C\n",
      "1 ['O', '-', '-']\n",
      "2 ['X', '-', '-']\n",
      "3 ['-', '-', '-']\n"
     ]
    },
    {
     "name": "stdin",
     "output_type": "stream",
     "text": [
      "Jogador 1: Digite a sua posição (Exemplo: 2C) 2C\n"
     ]
    },
    {
     "name": "stdout",
     "output_type": "stream",
     "text": [
      "    A    B    C\n",
      "1 ['O', '-', '-']\n",
      "2 ['X', '-', 'X']\n",
      "3 ['-', '-', '-']\n"
     ]
    },
    {
     "name": "stdin",
     "output_type": "stream",
     "text": [
      "Jogador 2: Digite a sua posição (Exemplo: 2C) 1B\n"
     ]
    },
    {
     "name": "stdout",
     "output_type": "stream",
     "text": [
      "    A    B    C\n",
      "1 ['O', 'O', '-']\n",
      "2 ['X', '-', 'X']\n",
      "3 ['-', '-', '-']\n"
     ]
    },
    {
     "name": "stdin",
     "output_type": "stream",
     "text": [
      "Jogador 1: Digite a sua posição (Exemplo: 2C) 1C\n"
     ]
    },
    {
     "name": "stdout",
     "output_type": "stream",
     "text": [
      "    A    B    C\n",
      "1 ['O', 'O', 'X']\n",
      "2 ['X', '-', 'X']\n",
      "3 ['-', '-', '-']\n"
     ]
    },
    {
     "name": "stdin",
     "output_type": "stream",
     "text": [
      "Jogador 2: Digite a sua posição (Exemplo: 2C) 3C\n"
     ]
    },
    {
     "name": "stdout",
     "output_type": "stream",
     "text": [
      "    A    B    C\n",
      "1 ['O', 'O', 'X']\n",
      "2 ['X', '-', 'X']\n",
      "3 ['-', '-', 'O']\n"
     ]
    },
    {
     "name": "stdin",
     "output_type": "stream",
     "text": [
      "Jogador 1: Digite a sua posição (Exemplo: 2C) 2B\n"
     ]
    },
    {
     "name": "stdout",
     "output_type": "stream",
     "text": [
      "    A    B    C\n",
      "1 ['O', 'O', 'X']\n",
      "2 ['X', 'X', 'X']\n",
      "3 ['-', '-', 'O']\n"
     ]
    },
    {
     "data": {
      "text/plain": [
       "'jogador 1 venceu!'"
      ]
     },
     "execution_count": 4,
     "metadata": {},
     "output_type": "execute_result"
    }
   ],
   "source": [
    "# Projeto Final \n",
    "\n",
    "def vitoria(m, let ):\n",
    "    # Vitória por verticalidade\n",
    "    for c in range(3):\n",
    "        if m[0+c] == let and m[3+c] == let and m[6+c] == let:\n",
    "            return True\n",
    "        \n",
    "    # Vitória por horizontalidade\n",
    "    for l in range(0,7,3):\n",
    "        if m[0+l] == let and m[1+l] == let and m[2+l] == let:\n",
    "            return True\n",
    "            \n",
    "    # Vitória por diagonal(1)\n",
    "    if m[0] == let and m[4] == let and m[8] == let:\n",
    "        return True\n",
    "    # Vitória por diagonal(2)\n",
    "    if m[2] == let and m[4] == let and m[6] == let:\n",
    "        return True\n",
    "\n",
    "# Função para a inserção da posição do jogador\n",
    "def insercao(m,rod):\n",
    "    # Lista com as posições válidas\n",
    "    posicoes = ['1A','1B','1C','2A','2B','2C','3A','3B','3C']\n",
    "    # Printando uma view de nosso jogo\n",
    "    print('   ','A','  ', 'B','  ','C')\n",
    "    for l in range(0,9,3):\n",
    "        print(int((l/3)+1), m[l:l+3])\n",
    "    while True:\n",
    "        # Verificação: Quando a rodada for número par, X deve jogar. Caso contrário: é o O\n",
    "        if rod %2 == 0:\n",
    "            nome = 1\n",
    "            sigla = 'X'\n",
    "        else:\n",
    "            nome = 2\n",
    "            sigla = 'O'\n",
    "        # Input para o jogador inserir a sua posição\n",
    "        jogada = str.upper(input(f'Jogador {nome}: Digite a sua posição (Exemplo: 2C)')) \n",
    "        # Verificação da validade do input\n",
    "        if len(jogada) !=2:\n",
    "            print('Jogada inválida! Tente Novamente')\n",
    "        else:\n",
    "            if jogada not in posicoes:\n",
    "                print('Jogada inválida! Tente Novamente')\n",
    "                #clear_output(wait=True)\n",
    "            else:\n",
    "                # Comparando o index do input com o seu respectivo index no jogo\n",
    "                jogada = posicoes.index(jogada)\n",
    "                if m[jogada] == '-':\n",
    "                    m[jogada] = f'{sigla}'\n",
    "                    break\n",
    "\n",
    "def velha():\n",
    "    rod = 0\n",
    "    wm1 = 'jogador 1 venceu!'\n",
    "    wm2 = 'jogador 2 venceu!'\n",
    "    vv = 'Velha!'\n",
    "    fim = 'Fim de Jogo'\n",
    "    matriz = ['-','-','-','-','-','-','-','-','-'] \n",
    "    while True:\n",
    "        # Inserção da posição do Jogador 1\n",
    "        insercao(matriz, rod)\n",
    "        rod += 1\n",
    "        # Verificação de Vitória\n",
    "        if vitoria(matriz, 'X') == True:\n",
    "            print('   ','A','  ', 'B','  ','C')\n",
    "            for l in range(0,9,3):\n",
    "                print(int((l/3)+1), matriz[l:l+3])\n",
    "            return wm1\n",
    "        # Empate: \n",
    "        if '-' not in matriz:\n",
    "            return vv\n",
    "        # Inserção da posição do Jogador 2\n",
    "        insercao(matriz, rod)\n",
    "        rod += 1\n",
    "        # Verificação de vitória Jogador 2\n",
    "        if vitoria(matriz, 'O') == True:\n",
    "            print('   ','A','  ', 'B','  ','C')\n",
    "            for l in range(0,9,3):\n",
    "                print(int((l/3)+1), matriz[l:l+3])\n",
    "            return wm2\n",
    "velha()"
   ]
  }
 ],
 "metadata": {
  "kernelspec": {
   "display_name": "Python 3",
   "language": "python",
   "name": "python3"
  },
  "language_info": {
   "codemirror_mode": {
    "name": "ipython",
    "version": 3
   },
   "file_extension": ".py",
   "mimetype": "text/x-python",
   "name": "python",
   "nbconvert_exporter": "python",
   "pygments_lexer": "ipython3",
   "version": "3.8.8"
  }
 },
 "nbformat": 4,
 "nbformat_minor": 5
}
