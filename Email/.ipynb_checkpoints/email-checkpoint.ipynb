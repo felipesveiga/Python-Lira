{
 "cells": [
  {
   "cell_type": "code",
   "execution_count": 2,
   "id": "dbe88c7b-ef46-4012-b919-1a3cd42cc0d0",
   "metadata": {
    "collapsed": true,
    "jupyter": {
     "outputs_hidden": true
    },
    "tags": []
   },
   "outputs": [
    {
     "name": "stdout",
     "output_type": "stream",
     "text": [
      "Collecting yagmail\n",
      "  Downloading yagmail-0.14.260-py2.py3-none-any.whl (16 kB)\n",
      "Collecting premailer\n",
      "  Downloading premailer-3.10.0-py2.py3-none-any.whl (19 kB)\n",
      "Requirement already satisfied: lxml in /Users/felipeveiga/opt/anaconda3/lib/python3.8/site-packages (from premailer->yagmail) (4.6.3)\n",
      "Collecting cssselect\n",
      "  Downloading cssselect-1.1.0-py2.py3-none-any.whl (16 kB)\n",
      "Collecting cachetools\n",
      "  Downloading cachetools-4.2.4-py3-none-any.whl (10 kB)\n",
      "Requirement already satisfied: requests in /Users/felipeveiga/opt/anaconda3/lib/python3.8/site-packages (from premailer->yagmail) (2.25.1)\n",
      "Collecting cssutils\n",
      "  Downloading cssutils-2.3.0-py3-none-any.whl (404 kB)\n",
      "\u001b[K     |████████████████████████████████| 404 kB 6.9 MB/s eta 0:00:01\n",
      "\u001b[?25hRequirement already satisfied: idna<3,>=2.5 in /Users/felipeveiga/opt/anaconda3/lib/python3.8/site-packages (from requests->premailer->yagmail) (2.10)\n",
      "Requirement already satisfied: chardet<5,>=3.0.2 in /Users/felipeveiga/opt/anaconda3/lib/python3.8/site-packages (from requests->premailer->yagmail) (4.0.0)\n",
      "Requirement already satisfied: certifi>=2017.4.17 in /Users/felipeveiga/opt/anaconda3/lib/python3.8/site-packages (from requests->premailer->yagmail) (2020.12.5)\n",
      "Requirement already satisfied: urllib3<1.27,>=1.21.1 in /Users/felipeveiga/opt/anaconda3/lib/python3.8/site-packages (from requests->premailer->yagmail) (1.26.4)\n",
      "Installing collected packages: cssutils, cssselect, cachetools, premailer, yagmail\n",
      "Successfully installed cachetools-4.2.4 cssselect-1.1.0 cssutils-2.3.0 premailer-3.10.0 yagmail-0.14.260\n",
      "Note: you may need to restart the kernel to use updated packages.\n"
     ]
    }
   ],
   "source": [
    "pip install yagmail"
   ]
  },
  {
   "cell_type": "code",
   "execution_count": 14,
   "id": "a65e75ca-2141-4727-9af2-1fa5bf9bcbaf",
   "metadata": {},
   "outputs": [],
   "source": [
    "from pathlib import Path\n",
    "import shutil"
   ]
  },
  {
   "cell_type": "code",
   "execution_count": 23,
   "id": "fe848af6-ba8a-4f6c-a946-41cd982d155e",
   "metadata": {},
   "outputs": [
    {
     "data": {
      "text/plain": [
       "'/Users/felipeveiga/Documents/Jupyter/Python Lira/Email/poe.txt'"
      ]
     },
     "execution_count": 23,
     "metadata": {},
     "output_type": "execute_result"
    }
   ],
   "source": [
    "origem = Path().cwd()\n",
    "poe = origem.parents[0] / 'txt-PDF' / 'poe.txt'\n",
    "\n",
    "destino = origem\n",
    "shutil.copy2(str(poe), str(destino))"
   ]
  },
  {
   "cell_type": "code",
   "execution_count": 4,
   "id": "5abb8564-368e-4860-bfc4-f5a3ed84af45",
   "metadata": {},
   "outputs": [
    {
     "data": {
      "text/plain": [
       "{}"
      ]
     },
     "execution_count": 4,
     "metadata": {},
     "output_type": "execute_result"
    }
   ],
   "source": [
    "# Enviando Emails com o Yagmail\n",
    "import yagmail\n",
    "\n",
    "user = yagmail.SMTP(user = 'felipesveiga@gmail.com', password = 'dudu0603')\n",
    "user.send(to = 'felipeveiga2410@gmail.com', subject='Meu primeiro email com o Python', contents = 'Este é o meu primeiro email enviado com o Python')\n"
   ]
  },
  {
   "cell_type": "code",
   "execution_count": 27,
   "id": "c1134fa1-fd33-4e0d-ae19-63c45bb0f63d",
   "metadata": {},
   "outputs": [
    {
     "data": {
      "text/plain": [
       "{}"
      ]
     },
     "execution_count": 27,
     "metadata": {},
     "output_type": "execute_result"
    }
   ],
   "source": [
    "usp = yagmail.SMTP(user = 'felipesveiga@usp.br', password = 'Dudu0603!')\n",
    "usp.send(to = 'felipeveiga2410@gmail.com', subject = 'Teste USP', \\\n",
    "         contents = 'Email enviado com minha conta da USP!')"
   ]
  },
  {
   "cell_type": "code",
   "execution_count": 5,
   "id": "a5df2429-1796-43d4-9372-a56109fe38ba",
   "metadata": {},
   "outputs": [
    {
     "data": {
      "text/plain": [
       "{}"
      ]
     },
     "execution_count": 5,
     "metadata": {},
     "output_type": "execute_result"
    }
   ],
   "source": [
    "user.send(to='roberto.veiga@gmail.com', subject='Meu primeiro email com o Python',\n",
    "         contents = 'Pai, acabo de enviar este email utilizando o Python!')"
   ]
  },
  {
   "cell_type": "code",
   "execution_count": 25,
   "id": "6a7c0f76-be09-46a9-938c-0e3ea5283f17",
   "metadata": {},
   "outputs": [
    {
     "data": {
      "text/plain": [
       "{}"
      ]
     },
     "execution_count": 25,
     "metadata": {},
     "output_type": "execute_result"
    }
   ],
   "source": [
    "user.send(to='felipeveiga2410@gmail.com', subject='Arquivo', attachments='poe.txt')"
   ]
  },
  {
   "cell_type": "code",
   "execution_count": 13,
   "id": "014660f0-3c10-4f37-be36-f343b8347bda",
   "metadata": {},
   "outputs": [
    {
     "data": {
      "text/plain": [
       "{}"
      ]
     },
     "execution_count": 13,
     "metadata": {},
     "output_type": "execute_result"
    }
   ],
   "source": [
    "dois_quatro = yagmail.SMTP(user = 'felipeveiga2410@gmail.com', password = 'weareliverpool2410')\n",
    "dois_quatro.send(to='felipesveiga@gmail.com', subject='Teste Python', contents = 'Teste')"
   ]
  },
  {
   "cell_type": "code",
   "execution_count": 29,
   "id": "514d3ddd-b294-4ab8-92a2-f2aa0c0cecc5",
   "metadata": {},
   "outputs": [
    {
     "data": {
      "text/plain": [
       "{}"
      ]
     },
     "execution_count": 29,
     "metadata": {},
     "output_type": "execute_result"
    }
   ],
   "source": [
    "user.send(to = 'felipeveiga2410@gmail.com', subject = 'Múltiplos Arquivos', \\\n",
    "         attachments = ['poe.txt','segundo_texto.txt'])"
   ]
  },
  {
   "cell_type": "code",
   "execution_count": 30,
   "id": "fa86d95c-af70-4377-bb89-44ff5f5458d7",
   "metadata": {},
   "outputs": [
    {
     "data": {
      "text/plain": [
       "{}"
      ]
     },
     "execution_count": 30,
     "metadata": {},
     "output_type": "execute_result"
    }
   ],
   "source": [
    "user.send(to = ['felipeveiga2410@gmail.com','felipesveiga@usp.br'], subject = 'Múltiplos Contatos')"
   ]
  },
  {
   "cell_type": "code",
   "execution_count": 49,
   "id": "97b5ac96-63c4-49a9-a5fc-d7b4b424092f",
   "metadata": {},
   "outputs": [
    {
     "data": {
      "text/plain": [
       "{}"
      ]
     },
     "execution_count": 49,
     "metadata": {},
     "output_type": "execute_result"
    }
   ],
   "source": [
    "sveiga= yagmail.SMTP(user = 'felipeveiga2410@gmail.com')\n",
    "sveiga.send(to = 'felipesveiga@gmail.com', subject= 'Oi')"
   ]
  },
  {
   "cell_type": "code",
   "execution_count": 104,
   "id": "49b4f259-6928-496d-ad62-e14b96a67114",
   "metadata": {
    "collapsed": true,
    "jupyter": {
     "outputs_hidden": true
    },
    "tags": []
   },
   "outputs": [
    {
     "name": "stdout",
     "output_type": "stream",
     "text": [
      "/Users/felipeveiga/Downloads/Apostila de ExercÃ­cios_Gabarito Resumido_Partes I e II.xlsx\n",
      "/Users/felipeveiga/Downloads/AnÃ¡lise_CBD_2014 a 2020_Matriz.xlsx\n",
      "/Users/felipeveiga/Downloads/Resolução exercício 12_Parte II (1).xlsx\n",
      "/Users/felipeveiga/Downloads/Elasticidade_1C_Excel.xlsx\n",
      "/Users/felipeveiga/Downloads/EAC0111_RelaÃ§Ã£o de grupos e empresas2021.xlsx\n",
      "/Users/felipeveiga/Downloads/Produção.xlsx\n",
      "/Users/felipeveiga/Downloads/Resolução exercício 10_Transportadora.xlsx\n",
      "/Users/felipeveiga/Downloads/Terminologia ACB e Cadernos Itobi 4.4 .xlsx\n",
      "/Users/felipeveiga/Downloads/idade.xlsx\n",
      "/Users/felipeveiga/Downloads/05-13 - Dashboard Vendas Digital.xlsx\n",
      "/Users/felipeveiga/Downloads/Matriz para resoluÃ§Ã£o de exercÃ­cios.xlsx\n",
      "/Users/felipeveiga/Downloads/Apostila de Exercícios_Gabarito Resumido_Partes I-II-III.xlsx\n",
      "/Users/felipeveiga/Downloads/teste_excel.xlsx\n",
      "/Users/felipeveiga/Downloads/Logística.xlsx\n",
      "/Users/felipeveiga/Downloads/Vendas.xlsx\n",
      "/Users/felipeveiga/Downloads/Felipe_Veiga_12511486_MetalurgiaGuarulhense.xlsx\n",
      "/Users/felipeveiga/Downloads/Felipe_Veiga_12511486_Cia Porto Eucaliptos.xlsx\n",
      "/Users/felipeveiga/Downloads/SAC+E+PRICE.xlsx\n",
      "/Users/felipeveiga/Downloads/Lesson_04_04_Formatting_FillFont_End.xlsx\n",
      "/Users/felipeveiga/Downloads/Matriz_BalanÃ§os Sucessivos.xlsx\n",
      "/Users/felipeveiga/Downloads/~$Exercícios resolvidos - Lista-Classe-DIURNO.xlsx\n",
      "/Users/felipeveiga/Downloads/AnÃ¡lise_CBD_2014 a 2020_Matriz-2.xlsx\n",
      "/Users/felipeveiga/Downloads/Marketing.xlsx\n",
      "/Users/felipeveiga/Downloads/AnÃ¡lise_CBD_2014 a 2020_Matriz-3.xlsx\n",
      "/Users/felipeveiga/Downloads/Job Task 2- ADM.xlsx\n",
      "/Users/felipeveiga/Downloads/Operações.xlsx\n",
      "/Users/felipeveiga/Downloads/Match.xlsx\n",
      "/Users/felipeveiga/Downloads/~$Match.xlsx\n",
      "/Users/felipeveiga/Downloads/Terminologia ACB e Cadernos Itobi 4.4  (1).xlsx\n",
      "/Users/felipeveiga/Downloads/Financeiro.xlsx\n",
      "/Users/felipeveiga/Downloads/Resolução exercício 12_Parte II.xlsx\n",
      "/Users/felipeveiga/Downloads/ResoluÃ§Ã£o exercÃ­cio 10_Transportadora.xlsx\n",
      "/Users/felipeveiga/Downloads/Planilha de Rendimentos e Despesas_0.xlsx\n",
      "/Users/felipeveiga/Downloads/Book 1.xlsx\n",
      "/Users/felipeveiga/Downloads/Manutenção.xlsx\n",
      "/Users/felipeveiga/Downloads/Projecoes_de_Longo_Prazo_Itau_BRASIL_mai21_.xlsx\n",
      "/Users/felipeveiga/Downloads/Tarefa3CustosDados.xlsx\n",
      "/Users/felipeveiga/Downloads/Exercícios resolvidos - Lista-Classe-DIURNO.xlsx\n",
      "/Users/felipeveiga/Downloads/EAC0111_2021_Cronograma (1).xlsx\n"
     ]
    }
   ],
   "source": [
    "# Como pegar a data de última modificação de um arquivo\n",
    "# Exemplo com o poe.txt\n",
    "import os\n",
    "import datetime\n",
    "poe = Path.cwd() / 'poe.txt'\n",
    "\n",
    "hoje = datetime.datetime.now().date()\n",
    "hoje\n",
    "\n",
    "timestamp = os.path.getmtime(poe)\n",
    "datetime.datetime.fromtimestamp(timestamp).date()\n",
    "#st_birthtime(poe)\n",
    "Path.cwd()\n",
    "\n",
    "a = Path.cwd().parents[3] / 'Downloads'\n",
    "b= a.iterdir()\n",
    "for file in b:\n",
    "    if file.suffix == '.xlsx':\n",
    "        print(file)\n"
   ]
  },
  {
   "cell_type": "code",
   "execution_count": 109,
   "id": "d5ab8126-6a88-40d7-be77-753543c46388",
   "metadata": {
    "tags": []
   },
   "outputs": [
    {
     "name": "stdout",
     "output_type": "stream",
     "text": [
      "/Users/felipeveiga/Downloads/Produção.xlsx\n",
      "/Users/felipeveiga/Downloads/Logística.xlsx\n",
      "/Users/felipeveiga/Downloads/Vendas.xlsx\n",
      "/Users/felipeveiga/Downloads/Marketing.xlsx\n",
      "/Users/felipeveiga/Downloads/Operações.xlsx\n",
      "/Users/felipeveiga/Downloads/Financeiro.xlsx\n",
      "/Users/felipeveiga/Downloads/Manutenção.xlsx\n"
     ]
    }
   ],
   "source": [
    "# Para o Projeto deste módulo\n",
    "import datetime\n",
    "import os\n",
    "import shutil\n",
    "\n",
    "# Acabamos de fazer o Download das planilhas a serem utilizadas no projeto\n",
    "# Elas, atualmente, encontram-se na pasta Downloads. Queremos colocá-las dentro deste diretório. \n",
    "# No entanto, Downloads possui inúmeros arquivos. Como é que poderemos selecionar apenas os que queremos?\n",
    "current = Path.cwd()\n",
    "\n",
    "# Para isso, vamos utilizar a comparação de datas da última modificação do arquivo e a data atual\n",
    "hoje = datetime.datetime.now().date()\n",
    "\n",
    "# Criando um path para. pasta Downloads\n",
    "a = Path.cwd().parents[3] / 'Downloads'\n",
    "\n",
    "# Criando um iterador para o Path\n",
    "a = a.iterdir()\n",
    "\n",
    "for archive in a:\n",
    "    # Cada arquivo de Downloads terá timestamp da data de última modificação registrada\n",
    "    timestamp = os.path.getmtime(archive)\n",
    "    # Haverá, também, a verificação de se o arquivo encontrado é um xlsx\n",
    "    if archive.suffix == '.xlsx':\n",
    "        # Por fim, vamos converter a timestamp do arquivo para um datetime\n",
    "        # Com isso, vamos comparar a data do timestamp com a data atual (afinal, fizemos o download\n",
    "                                                                # desses arquivos hoje (dia 02/10/2021)\n",
    "        if datetime.datetime.fromtimestamp(timestamp).date() == hoje:\n",
    "            print(archive)\n",
    "            # Caso haja um arquivo xlsx que possui hoje como a sua última data de modificação,\n",
    "            # o colocaremos dentro do nosso diretório atual\n",
    "            shutil.copy(archive, current )\n",
    "            \n",
    "        "
   ]
  },
  {
   "cell_type": "code",
   "execution_count": 113,
   "id": "cc790081-5e1a-4f8e-8673-3c54efe03722",
   "metadata": {},
   "outputs": [],
   "source": [
    "# Criei um dir Desafio e agora vou colocar os xlsx's dentro dele\n",
    "for archive in current.iterdir():\n",
    "    if archive.suffix == '.xlsx':\n",
    "        shutil.move(str(archive), str(current / 'Desafio'))"
   ]
  },
  {
   "cell_type": "code",
   "execution_count": 114,
   "id": "7efb2ebd-bf77-4bde-91b7-e1bfd18e89b3",
   "metadata": {},
   "outputs": [
    {
     "data": {
      "text/plain": [
       "{}"
      ]
     },
     "execution_count": 114,
     "metadata": {},
     "output_type": "execute_result"
    }
   ],
   "source": [
    "user.send(to ='duduveiga0603@gmail.com', subject = 'Email Python', contents = 'Este email foi enviado pelo Python')"
   ]
  },
  {
   "cell_type": "code",
   "execution_count": 125,
   "id": "aab1e045-63f7-4c92-8e85-1f54bf2d83f2",
   "metadata": {},
   "outputs": [
    {
     "name": "stdout",
     "output_type": "stream",
     "text": [
      "/Users/veigar/Music\n"
     ]
    },
    {
     "ename": "PermissionError",
     "evalue": "[Errno 13] Permission denied: '/Users/veigar/Music'",
     "output_type": "error",
     "traceback": [
      "\u001b[0;31m---------------------------------------------------------------------------\u001b[0m",
      "\u001b[0;31mPermissionError\u001b[0m                           Traceback (most recent call last)",
      "\u001b[0;32m<ipython-input-125-be2fea815a1c>\u001b[0m in \u001b[0;36m<module>\u001b[0;34m\u001b[0m\n\u001b[1;32m      5\u001b[0m             \u001b[0mprint\u001b[0m\u001b[0;34m(\u001b[0m\u001b[0mx\u001b[0m\u001b[0;34m)\u001b[0m\u001b[0;34m\u001b[0m\u001b[0;34m\u001b[0m\u001b[0m\n\u001b[1;32m      6\u001b[0m             \u001b[0;32mif\u001b[0m \u001b[0mx\u001b[0m\u001b[0;34m.\u001b[0m\u001b[0mis_file\u001b[0m\u001b[0;34m(\u001b[0m\u001b[0;34m)\u001b[0m \u001b[0;34m==\u001b[0m \u001b[0;32mFalse\u001b[0m\u001b[0;34m:\u001b[0m\u001b[0;34m\u001b[0m\u001b[0;34m\u001b[0m\u001b[0m\n\u001b[0;32m----> 7\u001b[0;31m                 \u001b[0;32mfor\u001b[0m \u001b[0mm\u001b[0m \u001b[0;32min\u001b[0m \u001b[0mx\u001b[0m\u001b[0;34m.\u001b[0m\u001b[0miterdir\u001b[0m\u001b[0;34m(\u001b[0m\u001b[0;34m)\u001b[0m\u001b[0;34m:\u001b[0m\u001b[0;34m\u001b[0m\u001b[0;34m\u001b[0m\u001b[0m\n\u001b[0m\u001b[1;32m      8\u001b[0m                     \u001b[0mprint\u001b[0m\u001b[0;34m(\u001b[0m\u001b[0mm\u001b[0m\u001b[0;34m)\u001b[0m\u001b[0;34m\u001b[0m\u001b[0;34m\u001b[0m\u001b[0m\n",
      "\u001b[0;32m~/opt/anaconda3/lib/python3.8/pathlib.py\u001b[0m in \u001b[0;36miterdir\u001b[0;34m(self)\u001b[0m\n\u001b[1;32m   1119\u001b[0m         \u001b[0;32mif\u001b[0m \u001b[0mself\u001b[0m\u001b[0;34m.\u001b[0m\u001b[0m_closed\u001b[0m\u001b[0;34m:\u001b[0m\u001b[0;34m\u001b[0m\u001b[0;34m\u001b[0m\u001b[0m\n\u001b[1;32m   1120\u001b[0m             \u001b[0mself\u001b[0m\u001b[0;34m.\u001b[0m\u001b[0m_raise_closed\u001b[0m\u001b[0;34m(\u001b[0m\u001b[0;34m)\u001b[0m\u001b[0;34m\u001b[0m\u001b[0;34m\u001b[0m\u001b[0m\n\u001b[0;32m-> 1121\u001b[0;31m         \u001b[0;32mfor\u001b[0m \u001b[0mname\u001b[0m \u001b[0;32min\u001b[0m \u001b[0mself\u001b[0m\u001b[0;34m.\u001b[0m\u001b[0m_accessor\u001b[0m\u001b[0;34m.\u001b[0m\u001b[0mlistdir\u001b[0m\u001b[0;34m(\u001b[0m\u001b[0mself\u001b[0m\u001b[0;34m)\u001b[0m\u001b[0;34m:\u001b[0m\u001b[0;34m\u001b[0m\u001b[0;34m\u001b[0m\u001b[0m\n\u001b[0m\u001b[1;32m   1122\u001b[0m             \u001b[0;32mif\u001b[0m \u001b[0mname\u001b[0m \u001b[0;32min\u001b[0m \u001b[0;34m{\u001b[0m\u001b[0;34m'.'\u001b[0m\u001b[0;34m,\u001b[0m \u001b[0;34m'..'\u001b[0m\u001b[0;34m}\u001b[0m\u001b[0;34m:\u001b[0m\u001b[0;34m\u001b[0m\u001b[0;34m\u001b[0m\u001b[0m\n\u001b[1;32m   1123\u001b[0m                 \u001b[0;31m# Yielding a path object for these makes little sense\u001b[0m\u001b[0;34m\u001b[0m\u001b[0;34m\u001b[0m\u001b[0;34m\u001b[0m\u001b[0m\n",
      "\u001b[0;31mPermissionError\u001b[0m: [Errno 13] Permission denied: '/Users/veigar/Music'"
     ]
    }
   ],
   "source": [
    "b = current.parents[4]\n",
    "for d in b.iterdir():\n",
    "    if d.is_file() == False:\n",
    "        for x in d.iterdir():\n",
    "            print(x)\n",
    "            if x.is_file() == False:\n",
    "                for m in x.iterdir():\n",
    "                    print(m)"
   ]
  },
  {
   "cell_type": "code",
   "execution_count": 17,
   "id": "217f9b04-1304-424a-863a-df1648ebb6c8",
   "metadata": {},
   "outputs": [],
   "source": [
    "from pathlib import Path\n",
    "import shutil\n",
    "\n",
    "current = Path.cwd().parents[1] / 'Python4Data' /'Cap911 (Time Series)'\n",
    "to = Path.cwd()\n",
    "for file in current.iterdir():\n",
    "    if file.suffix == '.csv':\n",
    "        shutil.copy2(str(file),str(to))"
   ]
  },
  {
   "cell_type": "code",
   "execution_count": 20,
   "id": "17cc5f49-cdad-4cca-9343-e4e1996d9f0e",
   "metadata": {
    "tags": []
   },
   "outputs": [
    {
     "data": {
      "text/plain": [
       "{}"
      ]
     },
     "execution_count": 20,
     "metadata": {},
     "output_type": "execute_result"
    }
   ],
   "source": [
    "import yagmail\n",
    "from pathlib import Path\n",
    "import shutil\n",
    "\n",
    "# Caso o corpo de nosso texto for muito extenso, podemos utilizar uma string com aspas triplas\n",
    "\n",
    "corpo_email = '''\n",
    "Caro Felipe,\n",
    "Segue o histórico da Pfizer como pedido.\n",
    "\n",
    "Um abraço,\n",
    "Felipe'''\n",
    "\n",
    "user.send(to='felipeveiga2410@gmail.com', subject='Relatório Pfizer', contents = corpo_email, \\\n",
    "         attachments = 'PFE.csv')"
   ]
  },
  {
   "cell_type": "markdown",
   "id": "d39fe472-c6b7-46e6-8c7f-756097e01b57",
   "metadata": {},
   "source": [
    "# Lendo e extraindo informações de emails"
   ]
  },
  {
   "cell_type": "code",
   "execution_count": 21,
   "id": "d7ccc130-6ba7-4977-813e-0ca1096c233d",
   "metadata": {},
   "outputs": [
    {
     "name": "stdout",
     "output_type": "stream",
     "text": [
      "Collecting imap_tools\n",
      "  Downloading imap_tools-0.49.1-py3-none-any.whl (28 kB)\n",
      "Installing collected packages: imap-tools\n",
      "Successfully installed imap-tools-0.49.1\n",
      "Note: you may need to restart the kernel to use updated packages.\n"
     ]
    }
   ],
   "source": [
    "pip install imap_tools"
   ]
  },
  {
   "cell_type": "code",
   "execution_count": 5,
   "id": "93eb6faa-a63f-4075-92e9-404bd7c5468d",
   "metadata": {},
   "outputs": [
    {
     "data": {
      "text/plain": [
       "{}"
      ]
     },
     "execution_count": 5,
     "metadata": {},
     "output_type": "execute_result"
    }
   ],
   "source": [
    "import yagmail\n",
    "subject = 'Documents`s Links in the News'\n",
    "\n",
    "text = '''Dear all,\n",
    "Currently, I am watching the Thomas Lenz's interview in The Alex Jones Show \n",
    "regarding the Pentagon's documents proving the ineffectiveness of COVID-19 vaccines.\n",
    "I was looking to find all the files showed during the interview, but I am having\n",
    "difficulties to search them in the web. Considering this, I have the following \n",
    "suggestion: the next time you post a Alex Jones Show's video, send the links of \n",
    "the documents presented so the public can have a facilitated access to them.\n",
    "\n",
    "Thank you and greetings from Brazil!\n",
    "Felipe\n",
    "\n",
    "'''\n",
    "\n",
    "infowars = 'showtips_nfocom@infowars.com'\n",
    "user.send(to = 'felipesveiga@gmail.com', subject = subject, contents=text )"
   ]
  },
  {
   "cell_type": "code",
   "execution_count": 14,
   "id": "5f7f92f4-db58-47f6-9edb-d48487d36305",
   "metadata": {},
   "outputs": [
    {
     "name": "stdout",
     "output_type": "stream",
     "text": [
      "hi\n"
     ]
    }
   ],
   "source": [
    "from pathlib import Path\n",
    "import shutil\n",
    "import yagmail\n",
    "\n",
    "jogo_velha = Path.cwd().parents[1] / 'Let`s Code'\n",
    "destiny = Path.cwd().parents[1] / 'Python Lira' / 'Email'\n",
    "for data in jogo_velha.iterdir():\n",
    "    if data.is_dir() == True:\n",
    "        for dados in data.iterdir():\n",
    "            if dados.name == 'Felipe_Veiga_jogo_velha.ipynb':\n",
    "                print('hi')\n",
    "                shutil.copy2(dados, destiny)\n",
    "                \n",
    "\n"
   ]
  },
  {
   "cell_type": "code",
   "execution_count": 15,
   "id": "8faa9242-a061-4795-a1d4-fe8e25a02ec0",
   "metadata": {},
   "outputs": [
    {
     "data": {
      "text/plain": [
       "{}"
      ]
     },
     "execution_count": 15,
     "metadata": {},
     "output_type": "execute_result"
    }
   ],
   "source": [
    "user.send(to = 'felipesveiga@gmail.com', subject='Jogo da Velha', attachments = 'Felipe_Veiga_jogo_velha.ipynb')"
   ]
  },
  {
   "cell_type": "code",
   "execution_count": 52,
   "id": "e027baf0-60cb-4032-a08c-5416f0929670",
   "metadata": {},
   "outputs": [],
   "source": [
    "from imap_tools import MailBox, AND, OR, NOT\n",
    "\n",
    "username = 'felipesveiga@gmail.com'\n",
    "password = 'dudu0603'\n",
    "\n",
    "# Cada servidor de email possui o seu próprio código IMAP!\n",
    "felipe = MailBox('imap.gmail.com').login(username, password)"
   ]
  },
  {
   "cell_type": "code",
   "execution_count": 56,
   "id": "25913030-4442-40c6-8248-21d39fef7c46",
   "metadata": {},
   "outputs": [
    {
     "name": "stdout",
     "output_type": "stream",
     "text": [
      "<class 'generator'>\n",
      "2018-06-22 22:48:07-03:00\n",
      "2020-12-02 10:00:57-03:00\n",
      "2020-12-02 10:02:14-03:00\n",
      "2020-12-02 10:03:56-03:00\n",
      "2020-12-02 10:27:37-03:00\n",
      "2020-12-02 10:30:15-03:00\n",
      "2020-12-02 10:48:12-03:00\n",
      "2020-12-02 10:50:39-03:00\n",
      "2020-12-02 11:02:07-03:00\n",
      "2020-12-02 11:05:30-03:00\n",
      "2020-12-02 12:37:19-03:00\n"
     ]
    }
   ],
   "source": [
    "# Filtrando a nossa caixa de entrada\n",
    "# Para evitar o erro excêntrico: deixar parâmtros e variáveis separadas por espaço na hora da definição\n",
    "emails_desejados = felipe.fetch(AND(from_= username, to = 'roberto.veiga@gmail.com'))\n",
    "\n",
    "# Note que o comando fetch criará um objeto gerador\n",
    "print(type(emails_desejados))\n",
    "\n",
    "# Portanto, para abrir os emails requeridos, precisamos de um loop\n",
    "for email in emails_desejados:\n",
    "    print(email.date)\n",
    "    \n",
    "# EU PAREI NO INSTANTE 16:14 DO VÍDEO"
   ]
  },
  {
   "cell_type": "code",
   "execution_count": 18,
   "id": "b10198c5-e65a-4b47-a1bf-d0469b4af385",
   "metadata": {},
   "outputs": [],
   "source": [
    "from imap_tools import AND, OR,NOT, MailBox\n",
    "from pathlib import Path\n",
    "import shutil\n",
    "import datetime\n",
    "import os\n",
    "\n",
    "username = 'felipesveiga@gmail.com'\n",
    "password = 'dudu0603'\n",
    "\n",
    "felipe = MailBox('imap.gmail.com').login(username, password)\n"
   ]
  },
  {
   "cell_type": "code",
   "execution_count": 42,
   "id": "300400f5-2942-4d91-86ee-7428f6e5ccb8",
   "metadata": {},
   "outputs": [],
   "source": [
    "from imap_tools import MailBox, AND, OR, NOT\n",
    "\n",
    "username = 'felipesveiga@gmail.com'\n",
    "password = 'dudu0603'\n",
    "felipe = MailBox('imap.gmail.com').login(username=username, password=password)"
   ]
  },
  {
   "cell_type": "code",
   "execution_count": 34,
   "id": "87b79907-d1f5-4126-8512-130ae1efbb33",
   "metadata": {},
   "outputs": [
    {
     "name": "stdout",
     "output_type": "stream",
     "text": [
      "Teste imap_tools Isto é um teste\n",
      "Teste imap_tools Isto é um teste\n",
      "Teste0 Conteúdo0\n",
      "Teste1 Conteúdo1\n",
      "Teste2 Conteúdo2\n",
      "Teste3 Conteúdo3\n",
      "Teste4 Conteúdo4\n",
      "Teste5 Conteúdo5\n",
      "Teste6 Conteúdo6\n",
      "Teste7 Conteúdo7\n",
      "Teste8 Conteúdo8\n",
      "Teste9 Conteúdo9\n",
      "Teste imap_tools Isto é um teste\n"
     ]
    }
   ],
   "source": [
    "import yagmail\n",
    "import datetime\n",
    "\n",
    "# Testando a eficácia do imap_tools\n",
    "hoje = datetime.datetime.now().date()\n",
    "\n",
    "# Vamos enviar, agora mesmo, um email para o felipesveiga@gmail.com e verificar se ele é lido pelo imap_tools\n",
    "#user.send(to=username, subject = 'Teste imap_tools', contents = 'Isto é um teste')\n",
    "\n",
    "emails_desejados = felipe.fetch(AND(from_ = username, date = hoje))\n",
    "\n",
    "for email in emails_desejados:\n",
    "    print(email.subject, email.text)\n",
    "# Como é possível enxergar, o teste foi um sucesso!\n",
    "\n",
    "# Dica: Caso um email seja enviado depois que já tenhamos rodado o código pela primeira vez, deveremos\n",
    "# fazer um login novamente no código MailBox('imap.gmail.com').login(username, password)"
   ]
  },
  {
   "cell_type": "code",
   "execution_count": 40,
   "id": "a4ec5c94-4004-41b9-a290-3da850ace672",
   "metadata": {},
   "outputs": [
    {
     "data": {
      "text/plain": [
       "{}"
      ]
     },
     "execution_count": 40,
     "metadata": {},
     "output_type": "execute_result"
    }
   ],
   "source": [
    "# Agora, vamos aprender a extrair anexos de nossos emails!\n",
    "# Para testar a eficiência do imap_tools, vamos emails desnecessários a nossa caixa de entrada\n",
    "# Vamos fazer com que nosso algorítmo reconheça apenas o email que contenha o nosso attachment\n",
    "\n",
    "\n",
    "# Esta seção foi para enviarmos os emails falsos os quais o algorítmo terá que ignorar\n",
    "assuntos = [f'Teste{i}' for i in range(10)]\n",
    "contents = [f'Conteúdo{i}' for i in range(10)]\n",
    "caixa_texto = '''\n",
    "Caro Felipe,\n",
    "Segue abaixo o relatório da Pfizer como prometido. Qualquer dúvida, não hesite em entrar em contato.\n",
    "\n",
    "Abraço,\n",
    "Felipe '''\n",
    "\n",
    "\n",
    "#for i in range(10):\n",
    "    #user.send(to= username, subject= assuntos[i], contents = contents[i])\n",
    "    \n",
    "# Agora, vamos enviar o email que queremos que seja reconhecido\n",
    "user.send(to = username, subject = 'Relatório Pfizer', contents = caixa_texto, \\\n",
    "          attachments = 'PFE.csv')\n",
    "    \n"
   ]
  },
  {
   "cell_type": "code",
   "execution_count": 49,
   "id": "6d3de1fc-6444-43a5-acbb-77ac698c8b68",
   "metadata": {},
   "outputs": [],
   "source": [
    "# Agora, vamos entrar em nossa caixa de entrada e procurar apenas pelo email com o relatório Pfizer!\n",
    "\n",
    "hoje = datetime.datetime.now().date()\n",
    "email_pfizer = felipe.fetch(AND(from_ = username, date = hoje))\n",
    "\n",
    "for email in email_pfizer:\n",
    "    # Os attachments de cada email são transformados em uma lista\n",
    "    if len(email.attachments) != 0:\n",
    "        for file in email.attachments:\n",
    "            if '.csv' in file.filename:\n",
    "                # payload: pega as informações do arquivo em bytes\n",
    "                arquivo_bytes = file.payload \n",
    "                # Curiosidade, em with open, poderíamos ter criado um arquivo em xlsx\n",
    "                # Para isso, bastava digitar: with open(arquivo.xlsx, 'wb') as arquivo (...)\n",
    "                with open('Pfizer.csv', 'wb') as pfizer:\n",
    "                    pfizer.write(arquivo_bytes)\n",
    "                    # Sucesso!"
   ]
  },
  {
   "cell_type": "code",
   "execution_count": 7,
   "id": "68e28727-3b46-4740-a7d6-c6bbbcd77af5",
   "metadata": {},
   "outputs": [],
   "source": [
    "import yagmail"
   ]
  },
  {
   "cell_type": "code",
   "execution_count": 9,
   "id": "3e6fc2ab-6f36-473b-bf21-2b114582255f",
   "metadata": {},
   "outputs": [],
   "source": [
    "from pathlib import Path\n",
    "import os\n",
    "import shutil\n",
    "import yagmail\n",
    "import datetime\n",
    "to = ['roberto.veiga@gmail.com', 'felipesveiga@gmail.com']\n",
    "current = Path.cwd().parents[3] / 'Downloads'\n",
    "hoje = datetime.datetime.now().date()\n",
    "\n",
    "for file in current.iterdir():\n",
    "    timestamp = datetime.datetime.fromtimestamp(os.stat(file).st_birthtime).date()\n",
    "    if timestamp == hoje:\n",
    "        user.send(to = to, subject = 'Contrato Revelo', attachments = file)\n",
    "        \n",
    "    "
   ]
  },
  {
   "cell_type": "markdown",
   "id": "d973012a-c643-443b-a8e2-2032357e220d",
   "metadata": {},
   "source": [
    "# Vídeo do Corey Schafer!"
   ]
  },
  {
   "cell_type": "code",
   "execution_count": null,
   "id": "7d2a248e-f5fc-46e5-ad55-66acaa1d66ad",
   "metadata": {},
   "outputs": [],
   "source": [
    "# Primeiro, vamos criar as nossas environmental variables!\n",
    "import os"
   ]
  },
  {
   "cell_type": "code",
   "execution_count": 29,
   "id": "ac2a7135-4521-479d-b508-befc44283382",
   "metadata": {},
   "outputs": [],
   "source": [
    "import smtplib\n",
    "\n",
    "with smtplib.SMTP('smtp.gmail.com', 587) as smtp:\n",
    "    # este método nos identifica com o servidor de email utilizado\n",
    "    smtp.ehlo()\n",
    "    # Este comando vai encriptar o nosso acesso \n",
    "    smtp.starttls()\n",
    "    smtp.ehlo()\n",
    "    \n",
    "smtp.login(user = 'felipesveiga@gmail.com')"
   ]
  }
 ],
 "metadata": {
  "kernelspec": {
   "display_name": "Python 3",
   "language": "python",
   "name": "python3"
  },
  "language_info": {
   "codemirror_mode": {
    "name": "ipython",
    "version": 3
   },
   "file_extension": ".py",
   "mimetype": "text/x-python",
   "name": "python",
   "nbconvert_exporter": "python",
   "pygments_lexer": "ipython3",
   "version": "3.8.8"
  }
 },
 "nbformat": 4,
 "nbformat_minor": 5
}
