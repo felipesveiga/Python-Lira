{
 "cells": [
  {
   "cell_type": "code",
   "execution_count": 2,
   "id": "1352be83-51d7-4947-b817-25894f6947df",
   "metadata": {},
   "outputs": [],
   "source": [
    "caixa_texto = '''\n",
    "Caro Felipe,\n",
    "Segue abaixo o relatório da Pfizer como prometido. Qualquer dúvida, não hesite em entrar em contato.\n",
    "\n",
    "Abraço,\n",
    "Felipe '''"
   ]
  }
 ],
 "metadata": {
  "kernelspec": {
   "display_name": "Python 3",
   "language": "python",
   "name": "python3"
  },
  "language_info": {
   "codemirror_mode": {
    "name": "ipython",
    "version": 3
   },
   "file_extension": ".py",
   "mimetype": "text/x-python",
   "name": "python",
   "nbconvert_exporter": "python",
   "pygments_lexer": "ipython3",
   "version": "3.8.8"
  }
 },
 "nbformat": 4,
 "nbformat_minor": 5
}
