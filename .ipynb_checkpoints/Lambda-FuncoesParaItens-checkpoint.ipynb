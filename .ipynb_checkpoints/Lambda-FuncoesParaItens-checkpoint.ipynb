{
 "cells": [
  {
   "cell_type": "code",
   "execution_count": 19,
   "id": "d85cb4b5-c474-4776-b222-548d47e157c7",
   "metadata": {},
   "outputs": [
    {
     "data": {
      "text/plain": [
       "['edpapao-aomf12', 'nfppamo12', 'nfiewpnpifn101l-', 'amepla', 'password']"
      ]
     },
     "execution_count": 19,
     "metadata": {},
     "output_type": "execute_result"
    }
   ],
   "source": [
    "def corrige(text):\n",
    "    text=text.casefold().strip().replace(' ','')\n",
    "    return text\n",
    "    \n",
    "senhas=['edpaPAo-  aomf12','nfppAMO12','nfiewpnpifn101l-','amepla','password']\n",
    "correcao=list(map(corrige,senhas)) \n",
    "correcao\n"
   ]
  },
  {
   "cell_type": "code",
   "execution_count": 29,
   "id": "2c468f20-69f7-47c5-9eca-fb6fbae96d44",
   "metadata": {},
   "outputs": [
    {
     "data": {
      "text/plain": [
       "['Amanda', 'andre', 'felipe', 'Muriel']"
      ]
     },
     "execution_count": 29,
     "metadata": {},
     "output_type": "execute_result"
    }
   ],
   "source": [
    "l=['Amanda','felipe','andre','Muriel']\n",
    "l.sort(key=str.casefold) #Ordenando elementos de uma lista, independentemente de começarem com maiúscula ou minúscula\n",
    "l"
   ]
  },
  {
   "cell_type": "code",
   "execution_count": 55,
   "id": "e43e88bc-d613-4296-bbac-3f4e2d72605f",
   "metadata": {},
   "outputs": [
    {
     "data": {
      "text/plain": [
       "{'peito de frango': 100, 'feijão carioca': 75, 'vinho': 50, 'abóbora': 20}"
      ]
     },
     "execution_count": 55,
     "metadata": {},
     "output_type": "execute_result"
    }
   ],
   "source": [
    "\n",
    "f= lambda x: x[1] #Esta função faz sorted reconhecer os values do dicionário como parâmetro para ordenação\n",
    "from operator import itemgetter #Uma outra maneira seria utilizar itemgetter\n",
    "\n",
    "produtos={'vinho':50,'abóbora':20,'peito de frango':100,'feijão carioca':75}\n",
    "dict(sorted(produtos.items(), key=itemgetter(1), reverse=True))\n",
    "dict(sorted(produtos.items(), key=f, reverse=True))\n",
    "\n",
    "#produtos_ordenados={produtos[produto]:produto for produto in produtos}\n",
    "#sorted(produtos_ordenados.items())\n"
   ]
  },
  {
   "cell_type": "code",
   "execution_count": 79,
   "id": "2699aa9a-f34f-489f-9b73-de257b41e847",
   "metadata": {},
   "outputs": [
    {
     "name": "stdout",
     "output_type": "stream",
     "text": [
      "{'Nokia': 200, 'Zenfone': 500, 'Samsung A-10': 900, 'Motorola Z10': 1150, 'IPhone 9': 1300}\n"
     ]
    },
    {
     "data": {
      "text/html": [
       "<div>\n",
       "<style scoped>\n",
       "    .dataframe tbody tr th:only-of-type {\n",
       "        vertical-align: middle;\n",
       "    }\n",
       "\n",
       "    .dataframe tbody tr th {\n",
       "        vertical-align: top;\n",
       "    }\n",
       "\n",
       "    .dataframe thead th {\n",
       "        text-align: right;\n",
       "    }\n",
       "</style>\n",
       "<table border=\"1\" class=\"dataframe\">\n",
       "  <thead>\n",
       "    <tr style=\"text-align: right;\">\n",
       "      <th></th>\n",
       "      <th>Preços</th>\n",
       "    </tr>\n",
       "  </thead>\n",
       "  <tbody>\n",
       "    <tr>\n",
       "      <th>Nokia</th>\n",
       "      <td>200</td>\n",
       "    </tr>\n",
       "    <tr>\n",
       "      <th>Zenfone</th>\n",
       "      <td>500</td>\n",
       "    </tr>\n",
       "    <tr>\n",
       "      <th>Samsung A-10</th>\n",
       "      <td>900</td>\n",
       "    </tr>\n",
       "    <tr>\n",
       "      <th>Motorola Z10</th>\n",
       "      <td>1150</td>\n",
       "    </tr>\n",
       "    <tr>\n",
       "      <th>IPhone 9</th>\n",
       "      <td>1300</td>\n",
       "    </tr>\n",
       "  </tbody>\n",
       "</table>\n",
       "</div>"
      ],
      "text/plain": [
       "              Preços\n",
       "Nokia            200\n",
       "Zenfone          500\n",
       "Samsung A-10     900\n",
       "Motorola Z10    1150\n",
       "IPhone 9        1300"
      ]
     },
     "execution_count": 79,
     "metadata": {},
     "output_type": "execute_result"
    }
   ],
   "source": [
    "# Uma alternativa para a elaboração de DataFrames ordenados\n",
    "import operator \n",
    "import numpy as np\n",
    "from operator import itemgetter\n",
    "import pandas as pd\n",
    "from pandas import DataFrame, Series\n",
    "d={'Zenfone':500,'IPhone 9':1300,'Samsung A-10':900,'Motorola Z10':1150,'Nokia':200}\n",
    "d=dict(sorted(d.items(),key=itemgetter(1)))\n",
    "print(d)\n",
    "precos=pd.DataFrame({'Preços':d}, index=d.keys())\n",
    "precos "
   ]
  }
 ],
 "metadata": {
  "kernelspec": {
   "display_name": "Python 3",
   "language": "python",
   "name": "python3"
  },
  "language_info": {
   "codemirror_mode": {
    "name": "ipython",
    "version": 3
   },
   "file_extension": ".py",
   "mimetype": "text/x-python",
   "name": "python",
   "nbconvert_exporter": "python",
   "pygments_lexer": "ipython3",
   "version": "3.8.8"
  }
 },
 "nbformat": 4,
 "nbformat_minor": 5
}
