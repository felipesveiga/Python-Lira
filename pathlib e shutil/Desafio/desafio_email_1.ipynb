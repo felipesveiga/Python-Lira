{
 "cells": [
  {
   "cell_type": "code",
   "execution_count": 1,
   "id": "e068d812-801b-4f38-ae06-e7c575d2b6c1",
   "metadata": {},
   "outputs": [],
   "source": [
    "# Let's get started with our challenge\n",
    "# Firstly, we ought to create a new directory made specially for this occasion\n",
    "from pathlib import Path\n",
    "import shutil\n",
    "desafio = Path.cwd() / 'Desafio'\n",
    "desafio.mkdir()"
   ]
  },
  {
   "cell_type": "code",
   "execution_count": null,
   "id": "76037d05-1d95-4165-bdb2-3feeb1d87fbd",
   "metadata": {},
   "outputs": [],
   "source": [
    "# Now, let's allocate this file into the new directory\n",
    "file =  Path.cwd() / 'de"
   ]
  }
 ],
 "metadata": {
  "kernelspec": {
   "display_name": "Python 3",
   "language": "python",
   "name": "python3"
  },
  "language_info": {
   "codemirror_mode": {
    "name": "ipython",
    "version": 3
   },
   "file_extension": ".py",
   "mimetype": "text/x-python",
   "name": "python",
   "nbconvert_exporter": "python",
   "pygments_lexer": "ipython3",
   "version": "3.8.8"
  }
 },
 "nbformat": 4,
 "nbformat_minor": 5
}
