{
 "cells": [
  {
   "cell_type": "code",
   "execution_count": 4,
   "id": "eb2c4f66-3332-4644-8662-6f7e4ee271d2",
   "metadata": {},
   "outputs": [
    {
     "data": {
      "text/plain": [
       "[30.0, 300.0, 600.0, 15000.0]"
      ]
     },
     "execution_count": 4,
     "metadata": {},
     "output_type": "execute_result"
    }
   ],
   "source": [
    "precos=[100,1000,2000,50000]\n",
    "impostos=[preco*0.3 for preco in precos]\n",
    "impostos"
   ]
  },
  {
   "cell_type": "code",
   "execution_count": 16,
   "id": "ed8359a3-7529-423e-bb75-45c24dda82b3",
   "metadata": {},
   "outputs": [
    {
     "data": {
      "text/plain": [
       "[30.0, 300.0, 600.0, 15000.0]"
      ]
     },
     "execution_count": 16,
     "metadata": {},
     "output_type": "execute_result"
    }
   ],
   "source": [
    "precos=[100,1000,2000,50000]\n",
    "imposto_produto=lambda x : x*0.3 \n",
    "impostos=[imposto_produto(preco) for preco in precos]\n",
    "impostos"
   ]
  },
  {
   "cell_type": "code",
   "execution_count": 33,
   "id": "017bbf00-30b3-41f7-a8d2-01abc1f17a80",
   "metadata": {},
   "outputs": [
    {
     "name": "stdout",
     "output_type": "stream",
     "text": [
      "[(30.0, 'charuto cubano importado'), (300.0, 'samsung a10'), (600.0, 'iphone 8'), (15000.0, 'camaro')]\n"
     ]
    }
   ],
   "source": [
    "precos=[100,1000,2000,50000]\n",
    "produtos=['charuto cubano importado','samsung a10','iphone 8', 'camaro']\n",
    "imposto_produto=lambda x,y: x*y\n",
    "impostos=[imposto_produto(preco,0.3) for preco in precos]\n",
    "print(list(zip(impostos,produtos))) \n",
    "\n"
   ]
  },
  {
   "cell_type": "code",
   "execution_count": 52,
   "id": "e027c294-6b7a-474a-a154-da3d8c4a3ed5",
   "metadata": {},
   "outputs": [
    {
     "name": "stdout",
     "output_type": "stream",
     "text": [
      "(300, 'honda')\n"
     ]
    }
   ],
   "source": [
    "veiculos=[('honda',300,450),('mitsubishi',200,180),('chevrolet',180,380)]\n",
    "precos_2019=(preco[1] for preco in veiculos) #Método 1 \n",
    "\n",
    "vendas_2019=[quant2019 for marca, quant2019, quant2020 in veiculos] #Método 2 (envolve o unpacking)\n",
    "max(vendas_2019) #Muito Útil! Pega o maior valor de uma determinada sequência\n",
    "\n",
    "vendas_e_produtos2019=[(quant2019, marca) for marca, quant2019, quant2020 in veiculos]\n",
    "print(max(vendas_e_produtos2019)) #Identificando a marca de maior venda em 2019.\n"
   ]
  },
  {
   "cell_type": "code",
   "execution_count": 58,
   "id": "e21f960e-36b8-43f0-8ca8-2d4950e74a71",
   "metadata": {},
   "outputs": [
    {
     "name": "stdout",
     "output_type": "stream",
     "text": [
      "[('mocha', 13.99), ('mocha branco', 14.5), ('cookies `n cream', 16.5), ('morango', 12.99)]\n"
     ]
    }
   ],
   "source": [
    "frapuccinos=['mocha','mocha branco','cookies `n cream', 'morango']\n",
    "precos=[13.99,14.50,16.50,12.99]\n",
    "starbucks=list(zip(frapuccinos,precos))\n",
    "print(starbucks)\n",
    "#for element in starbucks:\n",
    "    #print(element)"
   ]
  },
  {
   "cell_type": "code",
   "execution_count": 62,
   "id": "fa332736-d738-4222-982e-79b01abb6c82",
   "metadata": {},
   "outputs": [
    {
     "name": "stdout",
     "output_type": "stream",
     "text": [
      "0 mocha\n",
      "1 mocha branco\n",
      "2 cookies `n cream\n",
      "3 morango\n"
     ]
    }
   ],
   "source": [
    "frapuccinos=['mocha','mocha branco','cookies `n cream', 'morango']\n",
    "for i, produto in enumerate(frapuccinos):\n",
    "    print(i, produto)"
   ]
  },
  {
   "cell_type": "code",
   "execution_count": 73,
   "id": "dd844605-dfb6-4ed9-8234-459c150a173a",
   "metadata": {},
   "outputs": [
    {
     "name": "stdout",
     "output_type": "stream",
     "text": [
      "cookies `n cream\n",
      "morango\n"
     ]
    }
   ],
   "source": [
    "meta=300\n",
    "frapuccinos=['mocha','mocha branco','cookies `n cream', 'morango']\n",
    "vendas=[100,200,350,400]\n",
    "produtos_vendas=list(zip(vendas, frapuccinos))\n",
    "produtos_vendas_ok=[produto for quantidade, produto in produtos_vendas if quantidade>meta]\n",
    "for element in produtos_vendas_ok:\n",
    "    print(element)\n",
    "\n"
   ]
  },
  {
   "cell_type": "code",
   "execution_count": 72,
   "id": "dc1826dd-28e4-4bd6-b503-c408ff0b2fd8",
   "metadata": {},
   "outputs": [
    {
     "name": "stdout",
     "output_type": "stream",
     "text": [
      "(100, 'mocha')\n",
      "(200, 'mocha branco')\n",
      "(350, 'cookies `n cream')\n",
      "(400, 'morango')\n"
     ]
    }
   ],
   "source": [
    "frapuccinos=['mocha','mocha branco','cookies `n cream', 'morango']\n",
    "vendas=[100,200,350,400]\n",
    "produtos_vendas=list(zip(vendas, frapuccinos))\n",
    "#produtos_vendas=[(zip(vendas, frapuccinos))] \n",
    "for element in produtos_vendas:\n",
    "    print(element)"
   ]
  },
  {
   "cell_type": "code",
   "execution_count": 48,
   "id": "100c64d4-7671-48c1-8613-4caa59806fb0",
   "metadata": {},
   "outputs": [
    {
     "data": {
      "text/plain": [
       "[2250.0, 1800.0, 900, 600]"
      ]
     },
     "execution_count": 48,
     "metadata": {},
     "output_type": "execute_result"
    }
   ],
   "source": [
    "d={'Felipe':1500, 'Eduardo':1200, 'Antonio':900,'Gabriel':600}\n",
    "l=[d[nome]*1.5 if d[nome]>1000 else d[nome] for nome in d]#dicionario[key] é a maneira correta de ser referir \n",
    "                                                    #a um value de um dic\n",
    "#[o que eu quero, condicoes, de onde eu vou tirar o que preciso]"
   ]
  },
  {
   "cell_type": "code",
   "execution_count": 56,
   "id": "15375de2-0851-4837-98fb-a557b29c39aa",
   "metadata": {},
   "outputs": [
    {
     "data": {
      "text/plain": [
       "[('algodao', 500),\n",
       " ('feijao', 'suficiente'),\n",
       " ('macarrao', 'suficiente'),\n",
       " ('ovo', 1000),\n",
       " ('mortadela', 'suficiente')]"
      ]
     },
     "execution_count": 56,
     "metadata": {},
     "output_type": "execute_result"
    }
   ],
   "source": [
    "produtos=[('algodao', 200),('feijao',500),('macarrao',700),('ovo',478),('mortadela',800)]\n",
    "a_comprar=[(produto,500) if estoque <300  else (produto,1000) if estoque>300 and estoque<500 else (produto,'suficiente') for produto, estoque in produtos]\n",
    "a_comprar"
   ]
  },
  {
   "cell_type": "code",
   "execution_count": 111,
   "id": "2ef47d35-cb08-4892-ad14-f545057c47dd",
   "metadata": {},
   "outputs": [
    {
     "name": "stdout",
     "output_type": "stream",
     "text": [
      "Os Top 5 produtos representaram 68.18181818181817% das vendas\n"
     ]
    },
    {
     "data": {
      "text/plain": [
       "[(670, 'askov'),\n",
       " (450, 'pepsi'),\n",
       " (300, 'montain dew'),\n",
       " (300, 'fanta'),\n",
       " (230, 'coca cola')]"
      ]
     },
     "execution_count": 111,
     "metadata": {},
     "output_type": "execute_result"
    }
   ],
   "source": [
    "produtos=['brahma','guarana','montain dew','red bull','agua','fanta','coca cola','pepsi','askov','monster','dolly']\n",
    "quantidades=[110,200,300,100,200,300,230,450,670,100,200,]\n",
    "vendas=[(quantidade,produto) for produto, quantidade in zip(produtos, quantidades)]\n",
    "vendas.sort(reverse=True)\n",
    "vendas=vendas[:5]\n",
    "vendas_top5=[quantidade for quantidade, produto in vendas]\n",
    "q5=sum(vendas_top5)\n",
    "t=sum(quantidades)\n",
    "print('Os Top 5 produtos representaram {}% das vendas'.format((q5/t)*100)) "
   ]
  },
  {
   "cell_type": "code",
   "execution_count": 112,
   "id": "cf6fadf9-36ec-48eb-982e-fe53f89f6dc7",
   "metadata": {},
   "outputs": [
    {
     "name": "stdout",
     "output_type": "stream",
     "text": [
      "1 brahma\n",
      "2 guarana\n",
      "3 montain dew\n",
      "4 red bull\n",
      "5 agua\n",
      "6 fanta\n",
      "7 coca cola\n",
      "8 pepsi\n",
      "9 askov\n",
      "10 monster\n",
      "11 dolly\n"
     ]
    }
   ],
   "source": [
    "produtos=['brahma','guarana','montain dew','red bull','agua','fanta','coca cola','pepsi','askov','monster','dolly']\n",
    "for i,element in enumerate(produtos):\n",
    "    print (i+1,element)"
   ]
  }
 ],
 "metadata": {
  "kernelspec": {
   "display_name": "Python 3",
   "language": "python",
   "name": "python3"
  },
  "language_info": {
   "codemirror_mode": {
    "name": "ipython",
    "version": 3
   },
   "file_extension": ".py",
   "mimetype": "text/x-python",
   "name": "python",
   "nbconvert_exporter": "python",
   "pygments_lexer": "ipython3",
   "version": "3.8.8"
  }
 },
 "nbformat": 4,
 "nbformat_minor": 5
}
