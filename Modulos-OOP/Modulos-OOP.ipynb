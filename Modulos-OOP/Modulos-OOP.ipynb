{
 "cells": [
  {
   "cell_type": "code",
   "execution_count": 13,
   "id": "696fa5d2-decd-4c16-baf9-040167d0316a",
   "metadata": {
    "tags": []
   },
   "outputs": [
    {
     "data": {
      "text/plain": [
       "True"
      ]
     },
     "execution_count": 13,
     "metadata": {},
     "output_type": "execute_result"
    }
   ],
   "source": [
    "import webbrowser as wb\n",
    "wb.open_new_tab('https://www.espn.com.br/')"
   ]
  },
  {
   "cell_type": "code",
   "execution_count": 1,
   "id": "99465c03-fce7-4053-9637-c4bc058ef6cc",
   "metadata": {},
   "outputs": [
    {
     "data": {
      "text/plain": [
       "'Fri Aug 27 22:28:37 2021'"
      ]
     },
     "execution_count": 1,
     "metadata": {},
     "output_type": "execute_result"
    }
   ],
   "source": [
    "import time\n",
    "time.ctime()"
   ]
  },
  {
   "cell_type": "code",
   "execution_count": 7,
   "id": "0a46f9d6-306e-4aa9-b842-a37b6b95aa66",
   "metadata": {},
   "outputs": [
    {
     "ename": "KeyboardInterrupt",
     "evalue": "",
     "output_type": "error",
     "traceback": [
      "\u001b[0;31m---------------------------------------------------------------------------\u001b[0m",
      "\u001b[0;31mKeyboardInterrupt\u001b[0m                         Traceback (most recent call last)",
      "\u001b[0;32m<ipython-input-7-a4ef553be97d>\u001b[0m in \u001b[0;36m<module>\u001b[0;34m\u001b[0m\n\u001b[1;32m      1\u001b[0m \u001b[0minicio\u001b[0m\u001b[0;34m=\u001b[0m\u001b[0mtime\u001b[0m\u001b[0;34m.\u001b[0m\u001b[0mtime\u001b[0m\u001b[0;34m(\u001b[0m\u001b[0;34m)\u001b[0m\u001b[0;34m\u001b[0m\u001b[0;34m\u001b[0m\u001b[0m\n\u001b[0;32m----> 2\u001b[0;31m \u001b[0;32mfor\u001b[0m \u001b[0mi\u001b[0m \u001b[0;32min\u001b[0m \u001b[0mrange\u001b[0m\u001b[0;34m(\u001b[0m\u001b[0;36m1000000000\u001b[0m\u001b[0;34m)\u001b[0m\u001b[0;34m:\u001b[0m\u001b[0;34m\u001b[0m\u001b[0;34m\u001b[0m\u001b[0m\n\u001b[0m\u001b[1;32m      3\u001b[0m     \u001b[0;32mpass\u001b[0m\u001b[0;34m\u001b[0m\u001b[0;34m\u001b[0m\u001b[0m\n\u001b[1;32m      4\u001b[0m \u001b[0mfim\u001b[0m\u001b[0;34m=\u001b[0m\u001b[0mtime\u001b[0m\u001b[0;34m.\u001b[0m\u001b[0mtime\u001b[0m\u001b[0;34m(\u001b[0m\u001b[0;34m)\u001b[0m\u001b[0;34m\u001b[0m\u001b[0;34m\u001b[0m\u001b[0m\n\u001b[1;32m      5\u001b[0m \u001b[0mprint\u001b[0m\u001b[0;34m(\u001b[0m\u001b[0mfim\u001b[0m\u001b[0;34m-\u001b[0m\u001b[0minicio\u001b[0m\u001b[0;34m)\u001b[0m\u001b[0;34m\u001b[0m\u001b[0;34m\u001b[0m\u001b[0m\n",
      "\u001b[0;31mKeyboardInterrupt\u001b[0m: "
     ]
    }
   ],
   "source": [
    "inicio=time.time()\n",
    "for i in range(1000000000):\n",
    "    pass\n",
    "fim=time.time()\n",
    "print(fim-inicio)"
   ]
  },
  {
   "cell_type": "code",
   "execution_count": 8,
   "id": "871a01bc-4cf0-4822-b0ae-90b0fabde579",
   "metadata": {},
   "outputs": [
    {
     "name": "stdout",
     "output_type": "stream",
     "text": [
      "esperando\n",
      "agora\n"
     ]
    }
   ],
   "source": [
    "print('esperando')\n",
    "time.sleep(5)\n",
    "print('agora')"
   ]
  },
  {
   "cell_type": "code",
   "execution_count": 9,
   "id": "afbb9cbf-b919-44ca-a055-193511afc018",
   "metadata": {},
   "outputs": [
    {
     "data": {
      "text/plain": [
       "time.struct_time(tm_year=2021, tm_mon=8, tm_mday=25, tm_hour=16, tm_min=15, tm_sec=13, tm_wday=2, tm_yday=237, tm_isdst=0)"
      ]
     },
     "execution_count": 9,
     "metadata": {},
     "output_type": "execute_result"
    }
   ],
   "source": [
    "time.gmtime()"
   ]
  },
  {
   "cell_type": "code",
   "execution_count": 16,
   "id": "338e4d7c-b729-42d6-aaf7-8df3f95e85d2",
   "metadata": {},
   "outputs": [
    {
     "name": "stdout",
     "output_type": "stream",
     "text": [
      "A hora atual é: 13:18:5\n",
      "A hora atual é: 13:18:5\n"
     ]
    }
   ],
   "source": [
    "h=time.gmtime().tm_hour-3\n",
    "m=time.gmtime().tm_min\n",
    "s=time.gmtime().tm_sec\n",
    "print('A hora atual é: {}:{}:{}'.format(h,m,s))\n",
    "time.sleep(5)\n",
    "print('A hora atual é: {}:{}:{}'.format(h,m,s))\n"
   ]
  },
  {
   "cell_type": "code",
   "execution_count": 23,
   "id": "4aaeb181-16ac-4081-90d7-a97a9babd2a3",
   "metadata": {},
   "outputs": [
    {
     "data": {
      "text/plain": [
       "[('oi', 2200), ('olá', 1100), ('tv', 800)]"
      ]
     },
     "execution_count": 23,
     "metadata": {},
     "output_type": "execute_result"
    }
   ],
   "source": [
    "from collections import Counter\n",
    "d={'oi':2200, 'olá':1100,'tv':800,'lari':500,'apple':300,'popo':100}\n",
    "Counter(d).most_common(3)"
   ]
  },
  {
   "cell_type": "code",
   "execution_count": 24,
   "id": "dade835f-3668-4414-a73f-2c4ba7da2341",
   "metadata": {},
   "outputs": [],
   "source": [
    "%matplotlib inline"
   ]
  },
  {
   "cell_type": "code",
   "execution_count": 29,
   "id": "85151919-0ce8-4fab-b16e-6b105937eeab",
   "metadata": {},
   "outputs": [
    {
     "data": {
      "text/plain": [
       "(array([1., 0., 1., 0., 1., 0., 1., 0., 1., 1.]),\n",
       " array([0. , 0.5, 1. , 1.5, 2. , 2.5, 3. , 3.5, 4. , 4.5, 5. ]),\n",
       " <BarContainer object of 10 artists>)"
      ]
     },
     "execution_count": 29,
     "metadata": {},
     "output_type": "execute_result"
    },
    {
     "data": {
      "image/png": "[encoded data removed]",
      "text/plain": [
       "<Figure size 432x288 with 1 Axes>"
      ]
     },
     "metadata": {
      "needs_background": "light"
     },
     "output_type": "display_data"
    }
   ],
   "source": [
    "import matplotlib.pyplot as plt\n",
    "plt.hist(d)"
   ]
  },
  {
   "cell_type": "code",
   "execution_count": 57,
   "id": "ae0c0a99-ed57-4ef2-9c0a-87bc4b6f7b8e",
   "metadata": {},
   "outputs": [
    {
     "data": {
      "text/plain": [
       "(0.0, 8.0, 0.0, 1800.0)"
      ]
     },
     "execution_count": 57,
     "metadata": {},
     "output_type": "execute_result"
    },
    {
     "data": {
      "image/png": "[encoded data removed]",
      "text/plain": [
       "<Figure size 432x288 with 1 Axes>"
      ]
     },
     "metadata": {
      "needs_background": "light"
     },
     "output_type": "display_data"
    }
   ],
   "source": [
    "import numpy as np\n",
    "vendas=[200,300,400,100,300,300,1200,1300]\n",
    "meses=['Jan','Fev','Mar','Abr','Mai','Jun','Jul','Ago']\n",
    "#plt.hist(vendas,bottom= produtos)\n",
    "plt.plot(meses,vendas, color='r') #É possível definir os valor do eixo x\n",
    "plt.ylabel('Número de Vendas')\n",
    "plt.xlabel('Meses')\n",
    "plt.axis([0,8,0,max(vendas)+500]) #Dica: para atualização automática do eixo y, deixar o max do eixo y como max(lista_base)"
   ]
  },
  {
   "cell_type": "code",
   "execution_count": 98,
   "id": "508247af-4f00-41d0-8a63-bd582edfcb3a",
   "metadata": {},
   "outputs": [
    {
     "data": {
      "text/plain": [
       "(0.0, 51.0, 0.0, 5188.0)"
      ]
     },
     "execution_count": 98,
     "metadata": {},
     "output_type": "execute_result"
    },
    {
     "data": {
      "image/png": "[encoded data removed]",
      "text/plain": [
       "<Figure size 432x288 with 1 Axes>"
      ]
     },
     "metadata": {
      "needs_background": "light"
     },
     "output_type": "display_data"
    }
   ],
   "source": [
    "import numpy as np\n",
    "import matplotlib.pyplot as plt\n",
    "\n",
    "a=np.random.randint(1000,5000,50)\n",
    "x=np.arange(1,51)\n",
    "plt.plot(x,a,'g*', alpha=0.5,)\n",
    "plt.axis([0,51,0,max(a)+300])"
   ]
  },
  {
   "cell_type": "code",
   "execution_count": 106,
   "id": "b5959dde-a452-4321-9453-a2b27de3cde4",
   "metadata": {},
   "outputs": [
    {
     "data": {
      "text/plain": [
       "(0.0, 8.0, 0.0, 1800.0)"
      ]
     },
     "execution_count": 106,
     "metadata": {},
     "output_type": "execute_result"
    },
    {
     "data": {
      "image/png": "[encoded data removed]",
      "text/plain": [
       "<Figure size 432x288 with 2 Axes>"
      ]
     },
     "metadata": {
      "needs_background": "light"
     },
     "output_type": "display_data"
    }
   ],
   "source": [
    "#plt.figure(1, figsize=(15,3))\n",
    "plt.subplot(1,2,1)\n",
    "a=np.random.randint(1000,5000,50)\n",
    "x=np.arange(1,51)\n",
    "plt.plot(x,a,'g*', alpha=0.5,)\n",
    "plt.axis([0,51,0,max(a)+300])\n",
    "\n",
    "plt.subplot(1,2,2)\n",
    "vendas=[200,300,400,100,300,300,1200,1300]\n",
    "meses=['Jan','Fev','Mar','Abr','Mai','Jun','Jul','Ago']\n",
    "plt.plot(meses,vendas, color='r') \n",
    "plt.ylabel('Número de Vendas')\n",
    "plt.xlabel('Meses')\n",
    "plt.axis([0,8,0,max(vendas)+500])\n",
    "\n"
   ]
  }
 ],
 "metadata": {
  "kernelspec": {
   "display_name": "Python 3",
   "language": "python",
   "name": "python3"
  },
  "language_info": {
   "codemirror_mode": {
    "name": "ipython",
    "version": 3
   },
   "file_extension": ".py",
   "mimetype": "text/x-python",
   "name": "python",
   "nbconvert_exporter": "python",
   "pygments_lexer": "ipython3",
   "version": "3.8.8"
  }
 },
 "nbformat": 4,
 "nbformat_minor": 5
}
